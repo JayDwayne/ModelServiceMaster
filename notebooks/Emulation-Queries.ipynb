{
 "cells": [
  {
   "cell_type": "markdown",
   "metadata": {},
   "source": [
    "## Emulation Queries\n",
    "\n",
    "Requires the following to be performed on the DB:\n",
    "\n",
    "```\n",
    "CREATE EXTENSION tablefunc;\n",
    "```\n",
    "\n",
    "The following demonstrates how to generate a dynamic parameter table for a given model where each `run_id` has a column for its various parameters."
   ]
  },
  {
   "cell_type": "code",
   "execution_count": 1,
   "metadata": {},
   "outputs": [
    {
     "name": "stdout",
     "output_type": "stream",
     "text": [
      "postgres\n"
     ]
    }
   ],
   "source": [
    "from sqlalchemy.sql import text\n",
    "\n",
    "import sys\n",
    "sys.path.append(\"../db\")\n",
    "\n",
    "from database import init_db, db_session, engine\n",
    "from models import Metadata, Output, Parameters\n",
    "\n",
    "import pandas as pd"
   ]
  },
  {
   "cell_type": "markdown",
   "metadata": {},
   "source": [
    "Select the model of interest:"
   ]
  },
  {
   "cell_type": "code",
   "execution_count": 2,
   "metadata": {},
   "outputs": [],
   "source": [
    "model = 'yield_anomalies_lpjml'"
   ]
  },
  {
   "cell_type": "markdown",
   "metadata": {},
   "source": [
    "Generate that returns a string which dynamically builds the columns resulting from the crosstab:"
   ]
  },
  {
   "cell_type": "code",
   "execution_count": 3,
   "metadata": {},
   "outputs": [
    {
     "name": "stdout",
     "output_type": "stream",
     "text": [
      "SELECT CONCAT('run_id VARCHAR, ', params, ' VARCHAR') \n",
      "               FROM (SELECT string_agg(DISTINCT parameter_name::text, ' VARCHAR, ') \n",
      "               AS params FROM parameters where model = 'yield_anomalies_lpjml') AS ps\n",
      "\n",
      "Dynamic column list to inject into query:\n",
      "run_id VARCHAR, crop VARCHAR, irrigation VARCHAR, nitrogen VARCHAR, stat VARCHAR\n"
     ]
    }
   ],
   "source": [
    "col_query = f\"\"\"SELECT CONCAT('run_id VARCHAR, ', params, ' VARCHAR') \n",
    "               FROM (SELECT string_agg(DISTINCT parameter_name::text, ' VARCHAR, ') \n",
    "               AS params FROM parameters where model = '{model}') AS ps\"\"\"\n",
    "print(col_query)\n",
    "conn = engine.connect()\n",
    "rs = conn.execute(col_query)\n",
    "dynamic_cols = rs.first()[0]\n",
    "print(\"\\nDynamic column list to inject into query:\")\n",
    "print(dynamic_cols)"
   ]
  },
  {
   "cell_type": "markdown",
   "metadata": {},
   "source": [
    "Generate dynamic cross tab query:"
   ]
  },
  {
   "cell_type": "code",
   "execution_count": 4,
   "metadata": {},
   "outputs": [],
   "source": [
    "ct = f\"\"\"SELECT\n",
    "  *\n",
    "FROM\n",
    "  crosstab (\n",
    "     $$SELECT DISTINCT run_id, parameter_name, parameter_value FROM parameters \n",
    "     WHERE model = '{model}'\n",
    "     GROUP BY run_id, parameter_name, parameter_value\n",
    "     ORDER BY 1$$,\n",
    "    $$SELECT DISTINCT parameter_name FROM parameters WHERE model = '{model}' ORDER BY 1$$\n",
    "  ) AS (\n",
    "    {dynamic_cols}\n",
    ") ORDER BY run_id\n",
    "\"\"\""
   ]
  },
  {
   "cell_type": "markdown",
   "metadata": {},
   "source": [
    "Read into pandas DataFrame:"
   ]
  },
  {
   "cell_type": "code",
   "execution_count": 5,
   "metadata": {},
   "outputs": [],
   "source": [
    "df = pd.read_sql_query(ct, conn)"
   ]
  },
  {
   "cell_type": "code",
   "execution_count": 6,
   "metadata": {
    "scrolled": true
   },
   "outputs": [
    {
     "data": {
      "text/html": [
       "<div>\n",
       "<style scoped>\n",
       "    .dataframe tbody tr th:only-of-type {\n",
       "        vertical-align: middle;\n",
       "    }\n",
       "\n",
       "    .dataframe tbody tr th {\n",
       "        vertical-align: top;\n",
       "    }\n",
       "\n",
       "    .dataframe thead th {\n",
       "        text-align: right;\n",
       "    }\n",
       "</style>\n",
       "<table border=\"1\" class=\"dataframe\">\n",
       "  <thead>\n",
       "    <tr style=\"text-align: right;\">\n",
       "      <th></th>\n",
       "      <th>run_id</th>\n",
       "      <th>crop</th>\n",
       "      <th>irrigation</th>\n",
       "      <th>nitrogen</th>\n",
       "      <th>stat</th>\n",
       "    </tr>\n",
       "  </thead>\n",
       "  <tbody>\n",
       "    <tr>\n",
       "      <th>0</th>\n",
       "      <td>03aa57b2ae8a1a9ba087d7d1266f90db8c8dc62f842e05...</td>\n",
       "      <td>wheat</td>\n",
       "      <td>NO</td>\n",
       "      <td>LIM</td>\n",
       "      <td>pctl,95</td>\n",
       "    </tr>\n",
       "    <tr>\n",
       "      <th>1</th>\n",
       "      <td>1098aef84395584d99fed198da4c167590c003db05622b...</td>\n",
       "      <td>wheat</td>\n",
       "      <td>LIM</td>\n",
       "      <td>LIM_p25</td>\n",
       "      <td>pctl,5</td>\n",
       "    </tr>\n",
       "    <tr>\n",
       "      <th>2</th>\n",
       "      <td>25afdf9b7d25dcb14f7ec3d082a1a326f651219160f03d...</td>\n",
       "      <td>wheat</td>\n",
       "      <td>LIM</td>\n",
       "      <td>LIM_p50</td>\n",
       "      <td>mean</td>\n",
       "    </tr>\n",
       "    <tr>\n",
       "      <th>3</th>\n",
       "      <td>2a5717269b3758392bca2eb209b5efe78e34f5e49a3ced...</td>\n",
       "      <td>wheat</td>\n",
       "      <td>NO</td>\n",
       "      <td>LIM_p25</td>\n",
       "      <td>pctl,5</td>\n",
       "    </tr>\n",
       "    <tr>\n",
       "      <th>4</th>\n",
       "      <td>3a211b54c4c8a67c7c4a1094a03a12de4b7760e77b0cd2...</td>\n",
       "      <td>wheat</td>\n",
       "      <td>NO</td>\n",
       "      <td>LIM_p25</td>\n",
       "      <td>pctl,95</td>\n",
       "    </tr>\n",
       "  </tbody>\n",
       "</table>\n",
       "</div>"
      ],
      "text/plain": [
       "                                              run_id   crop irrigation  \\\n",
       "0  03aa57b2ae8a1a9ba087d7d1266f90db8c8dc62f842e05...  wheat         NO   \n",
       "1  1098aef84395584d99fed198da4c167590c003db05622b...  wheat        LIM   \n",
       "2  25afdf9b7d25dcb14f7ec3d082a1a326f651219160f03d...  wheat        LIM   \n",
       "3  2a5717269b3758392bca2eb209b5efe78e34f5e49a3ced...  wheat         NO   \n",
       "4  3a211b54c4c8a67c7c4a1094a03a12de4b7760e77b0cd2...  wheat         NO   \n",
       "\n",
       "  nitrogen     stat  \n",
       "0      LIM  pctl,95  \n",
       "1  LIM_p25   pctl,5  \n",
       "2  LIM_p50     mean  \n",
       "3  LIM_p25   pctl,5  \n",
       "4  LIM_p25  pctl,95  "
      ]
     },
     "execution_count": 6,
     "metadata": {},
     "output_type": "execute_result"
    }
   ],
   "source": [
    "df.head()"
   ]
  },
  {
   "cell_type": "markdown",
   "metadata": {},
   "source": [
    "### Querying for an \"emulation\"\n",
    "Now we can query for \"emulation\" where **ONLY** nitrogen is varied:"
   ]
  },
  {
   "cell_type": "code",
   "execution_count": 7,
   "metadata": {
    "scrolled": true
   },
   "outputs": [
    {
     "data": {
      "text/html": [
       "<div>\n",
       "<style scoped>\n",
       "    .dataframe tbody tr th:only-of-type {\n",
       "        vertical-align: middle;\n",
       "    }\n",
       "\n",
       "    .dataframe tbody tr th {\n",
       "        vertical-align: top;\n",
       "    }\n",
       "\n",
       "    .dataframe thead th {\n",
       "        text-align: right;\n",
       "    }\n",
       "</style>\n",
       "<table border=\"1\" class=\"dataframe\">\n",
       "  <thead>\n",
       "    <tr style=\"text-align: right;\">\n",
       "      <th></th>\n",
       "      <th>run_id</th>\n",
       "      <th>crop</th>\n",
       "      <th>irrigation</th>\n",
       "      <th>nitrogen</th>\n",
       "      <th>stat</th>\n",
       "    </tr>\n",
       "  </thead>\n",
       "  <tbody>\n",
       "    <tr>\n",
       "      <th>0</th>\n",
       "      <td>25afdf9b7d25dcb14f7ec3d082a1a326f651219160f03d...</td>\n",
       "      <td>wheat</td>\n",
       "      <td>LIM</td>\n",
       "      <td>LIM_p50</td>\n",
       "      <td>mean</td>\n",
       "    </tr>\n",
       "    <tr>\n",
       "      <th>1</th>\n",
       "      <td>763a876f620936df12e2b5eb013c9fd82da26eda3caf0e...</td>\n",
       "      <td>wheat</td>\n",
       "      <td>LIM</td>\n",
       "      <td>UNLIM</td>\n",
       "      <td>mean</td>\n",
       "    </tr>\n",
       "    <tr>\n",
       "      <th>2</th>\n",
       "      <td>c8a86be9f3f2be6ab37897b9df00a767947ac9430da8cd...</td>\n",
       "      <td>wheat</td>\n",
       "      <td>LIM</td>\n",
       "      <td>LIM_p25</td>\n",
       "      <td>mean</td>\n",
       "    </tr>\n",
       "    <tr>\n",
       "      <th>3</th>\n",
       "      <td>d11493e3952985b46926d9dfcdfa0b689d1866667cf77e...</td>\n",
       "      <td>wheat</td>\n",
       "      <td>LIM</td>\n",
       "      <td>LIM</td>\n",
       "      <td>mean</td>\n",
       "    </tr>\n",
       "  </tbody>\n",
       "</table>\n",
       "</div>"
      ],
      "text/plain": [
       "                                              run_id   crop irrigation  \\\n",
       "0  25afdf9b7d25dcb14f7ec3d082a1a326f651219160f03d...  wheat        LIM   \n",
       "1  763a876f620936df12e2b5eb013c9fd82da26eda3caf0e...  wheat        LIM   \n",
       "2  c8a86be9f3f2be6ab37897b9df00a767947ac9430da8cd...  wheat        LIM   \n",
       "3  d11493e3952985b46926d9dfcdfa0b689d1866667cf77e...  wheat        LIM   \n",
       "\n",
       "  nitrogen  stat  \n",
       "0  LIM_p50  mean  \n",
       "1    UNLIM  mean  \n",
       "2  LIM_p25  mean  \n",
       "3      LIM  mean  "
      ]
     },
     "execution_count": 7,
     "metadata": {},
     "output_type": "execute_result"
    }
   ],
   "source": [
    "emulation = f\"\"\"SELECT run_id, crop, irrigation, nitrogen, stat\n",
    "                FROM ({ct}) as ct\n",
    "                WHERE \n",
    "                crop = 'wheat' AND\n",
    "                irrigation = 'LIM' AND \n",
    "                stat = 'mean';\n",
    "            \"\"\"\n",
    "\n",
    "df = pd.read_sql_query(emulation, conn)\n",
    "df.head()"
   ]
  },
  {
   "cell_type": "markdown",
   "metadata": {},
   "source": [
    "We need to obtain and format a list of paramter columns:"
   ]
  },
  {
   "cell_type": "code",
   "execution_count": 8,
   "metadata": {},
   "outputs": [
    {
     "data": {
      "text/plain": [
       "'ct.crop, ct.irrigation, ct.nitrogen, ct.stat'"
      ]
     },
     "execution_count": 8,
     "metadata": {},
     "output_type": "execute_result"
    }
   ],
   "source": [
    "param_cols = [f\"ct.{i}\" for i in df.columns if i != 'run_id']\n",
    "\", \".join(param_cols)"
   ]
  },
  {
   "cell_type": "markdown",
   "metadata": {},
   "source": [
    "### Combining Run Output with Parameters"
   ]
  },
  {
   "cell_type": "code",
   "execution_count": 9,
   "metadata": {},
   "outputs": [],
   "source": [
    "output_query = f\"\"\"\n",
    "                 SELECT * from output\n",
    "                 WHERE model = '{model}'\n",
    "                 limit 1\n",
    "              \"\"\"\n",
    "conn = engine.connect()\n",
    "df = pd.read_sql_query(output_query, conn)"
   ]
  },
  {
   "cell_type": "code",
   "execution_count": 10,
   "metadata": {},
   "outputs": [
    {
     "data": {
      "text/plain": [
       "'output.id, output.run_id, output.model, output.latitude, output.longitude, output.polygon, output.datetime, output.feature_name, output.feature_value, output.feature_description, output.admin1, output.admin2, output.city, output.state, output.country, ct.crop, ct.irrigation, ct.nitrogen, ct.stat'"
      ]
     },
     "execution_count": 10,
     "metadata": {},
     "output_type": "execute_result"
    }
   ],
   "source": [
    "output_cols = [f\"output.{i}\" for i in df.columns]\n",
    "join_cols = output_cols + param_cols\n",
    "\", \".join(join_cols)"
   ]
  },
  {
   "cell_type": "code",
   "execution_count": 11,
   "metadata": {},
   "outputs": [],
   "source": [
    "join_query = f\"\"\"\n",
    "                 SELECT {\", \".join(join_cols)} FROM output\n",
    "                 LEFT JOIN ({ct}) as ct\n",
    "                 on output.run_id = ct.run_id\n",
    "                 WHERE model = '{model}'\n",
    "              \"\"\"\n",
    "conn = engine.connect()\n",
    "df = pd.read_sql_query(join_query, conn)"
   ]
  },
  {
   "cell_type": "code",
   "execution_count": 12,
   "metadata": {},
   "outputs": [
    {
     "data": {
      "text/html": [
       "<div>\n",
       "<style scoped>\n",
       "    .dataframe tbody tr th:only-of-type {\n",
       "        vertical-align: middle;\n",
       "    }\n",
       "\n",
       "    .dataframe tbody tr th {\n",
       "        vertical-align: top;\n",
       "    }\n",
       "\n",
       "    .dataframe thead th {\n",
       "        text-align: right;\n",
       "    }\n",
       "</style>\n",
       "<table border=\"1\" class=\"dataframe\">\n",
       "  <thead>\n",
       "    <tr style=\"text-align: right;\">\n",
       "      <th></th>\n",
       "      <th>id</th>\n",
       "      <th>run_id</th>\n",
       "      <th>model</th>\n",
       "      <th>latitude</th>\n",
       "      <th>longitude</th>\n",
       "      <th>polygon</th>\n",
       "      <th>datetime</th>\n",
       "      <th>feature_name</th>\n",
       "      <th>feature_value</th>\n",
       "      <th>feature_description</th>\n",
       "      <th>admin1</th>\n",
       "      <th>admin2</th>\n",
       "      <th>city</th>\n",
       "      <th>state</th>\n",
       "      <th>country</th>\n",
       "      <th>crop</th>\n",
       "      <th>irrigation</th>\n",
       "      <th>nitrogen</th>\n",
       "      <th>stat</th>\n",
       "    </tr>\n",
       "  </thead>\n",
       "  <tbody>\n",
       "    <tr>\n",
       "      <th>0</th>\n",
       "      <td>1</td>\n",
       "      <td>d11493e3952985b46926d9dfcdfa0b689d1866667cf77e...</td>\n",
       "      <td>yield_anomalies_lpjml</td>\n",
       "      <td>65.25</td>\n",
       "      <td>25.75</td>\n",
       "      <td>None</td>\n",
       "      <td>2018-01-01</td>\n",
       "      <td>yield level</td>\n",
       "      <td>4.127357</td>\n",
       "      <td>Percent increase or decrease in yield from bas...</td>\n",
       "      <td>Oulu</td>\n",
       "      <td>Northern Ostrobothnia</td>\n",
       "      <td>None</td>\n",
       "      <td>Oulu</td>\n",
       "      <td>Finland</td>\n",
       "      <td>wheat</td>\n",
       "      <td>LIM</td>\n",
       "      <td>LIM</td>\n",
       "      <td>mean</td>\n",
       "    </tr>\n",
       "    <tr>\n",
       "      <th>1</th>\n",
       "      <td>2</td>\n",
       "      <td>d11493e3952985b46926d9dfcdfa0b689d1866667cf77e...</td>\n",
       "      <td>yield_anomalies_lpjml</td>\n",
       "      <td>64.75</td>\n",
       "      <td>25.25</td>\n",
       "      <td>None</td>\n",
       "      <td>2018-01-01</td>\n",
       "      <td>yield level</td>\n",
       "      <td>2.323871</td>\n",
       "      <td>Percent increase or decrease in yield from bas...</td>\n",
       "      <td>Oulu</td>\n",
       "      <td>Northern Ostrobothnia</td>\n",
       "      <td>None</td>\n",
       "      <td>Oulu</td>\n",
       "      <td>Finland</td>\n",
       "      <td>wheat</td>\n",
       "      <td>LIM</td>\n",
       "      <td>LIM</td>\n",
       "      <td>mean</td>\n",
       "    </tr>\n",
       "    <tr>\n",
       "      <th>2</th>\n",
       "      <td>3</td>\n",
       "      <td>d11493e3952985b46926d9dfcdfa0b689d1866667cf77e...</td>\n",
       "      <td>yield_anomalies_lpjml</td>\n",
       "      <td>64.75</td>\n",
       "      <td>25.75</td>\n",
       "      <td>None</td>\n",
       "      <td>2018-01-01</td>\n",
       "      <td>yield level</td>\n",
       "      <td>3.867433</td>\n",
       "      <td>Percent increase or decrease in yield from bas...</td>\n",
       "      <td>Oulu</td>\n",
       "      <td>Northern Ostrobothnia</td>\n",
       "      <td>None</td>\n",
       "      <td>Oulu</td>\n",
       "      <td>Finland</td>\n",
       "      <td>wheat</td>\n",
       "      <td>LIM</td>\n",
       "      <td>LIM</td>\n",
       "      <td>mean</td>\n",
       "    </tr>\n",
       "    <tr>\n",
       "      <th>3</th>\n",
       "      <td>4</td>\n",
       "      <td>d11493e3952985b46926d9dfcdfa0b689d1866667cf77e...</td>\n",
       "      <td>yield_anomalies_lpjml</td>\n",
       "      <td>64.75</td>\n",
       "      <td>26.25</td>\n",
       "      <td>None</td>\n",
       "      <td>2018-01-01</td>\n",
       "      <td>yield level</td>\n",
       "      <td>3.782654</td>\n",
       "      <td>Percent increase or decrease in yield from bas...</td>\n",
       "      <td>Oulu</td>\n",
       "      <td>Northern Ostrobothnia</td>\n",
       "      <td>None</td>\n",
       "      <td>Oulu</td>\n",
       "      <td>Finland</td>\n",
       "      <td>wheat</td>\n",
       "      <td>LIM</td>\n",
       "      <td>LIM</td>\n",
       "      <td>mean</td>\n",
       "    </tr>\n",
       "    <tr>\n",
       "      <th>4</th>\n",
       "      <td>5</td>\n",
       "      <td>d11493e3952985b46926d9dfcdfa0b689d1866667cf77e...</td>\n",
       "      <td>yield_anomalies_lpjml</td>\n",
       "      <td>64.75</td>\n",
       "      <td>26.75</td>\n",
       "      <td>None</td>\n",
       "      <td>2018-01-01</td>\n",
       "      <td>yield level</td>\n",
       "      <td>3.514873</td>\n",
       "      <td>Percent increase or decrease in yield from bas...</td>\n",
       "      <td>Oulu</td>\n",
       "      <td>Northern Ostrobothnia</td>\n",
       "      <td>None</td>\n",
       "      <td>Oulu</td>\n",
       "      <td>Finland</td>\n",
       "      <td>wheat</td>\n",
       "      <td>LIM</td>\n",
       "      <td>LIM</td>\n",
       "      <td>mean</td>\n",
       "    </tr>\n",
       "  </tbody>\n",
       "</table>\n",
       "</div>"
      ],
      "text/plain": [
       "   id                                             run_id  \\\n",
       "0   1  d11493e3952985b46926d9dfcdfa0b689d1866667cf77e...   \n",
       "1   2  d11493e3952985b46926d9dfcdfa0b689d1866667cf77e...   \n",
       "2   3  d11493e3952985b46926d9dfcdfa0b689d1866667cf77e...   \n",
       "3   4  d11493e3952985b46926d9dfcdfa0b689d1866667cf77e...   \n",
       "4   5  d11493e3952985b46926d9dfcdfa0b689d1866667cf77e...   \n",
       "\n",
       "                   model  latitude  longitude polygon   datetime feature_name  \\\n",
       "0  yield_anomalies_lpjml     65.25      25.75    None 2018-01-01  yield level   \n",
       "1  yield_anomalies_lpjml     64.75      25.25    None 2018-01-01  yield level   \n",
       "2  yield_anomalies_lpjml     64.75      25.75    None 2018-01-01  yield level   \n",
       "3  yield_anomalies_lpjml     64.75      26.25    None 2018-01-01  yield level   \n",
       "4  yield_anomalies_lpjml     64.75      26.75    None 2018-01-01  yield level   \n",
       "\n",
       "   feature_value                                feature_description admin1  \\\n",
       "0       4.127357  Percent increase or decrease in yield from bas...   Oulu   \n",
       "1       2.323871  Percent increase or decrease in yield from bas...   Oulu   \n",
       "2       3.867433  Percent increase or decrease in yield from bas...   Oulu   \n",
       "3       3.782654  Percent increase or decrease in yield from bas...   Oulu   \n",
       "4       3.514873  Percent increase or decrease in yield from bas...   Oulu   \n",
       "\n",
       "                  admin2  city state  country   crop irrigation nitrogen  stat  \n",
       "0  Northern Ostrobothnia  None  Oulu  Finland  wheat        LIM      LIM  mean  \n",
       "1  Northern Ostrobothnia  None  Oulu  Finland  wheat        LIM      LIM  mean  \n",
       "2  Northern Ostrobothnia  None  Oulu  Finland  wheat        LIM      LIM  mean  \n",
       "3  Northern Ostrobothnia  None  Oulu  Finland  wheat        LIM      LIM  mean  \n",
       "4  Northern Ostrobothnia  None  Oulu  Finland  wheat        LIM      LIM  mean  "
      ]
     },
     "execution_count": 12,
     "metadata": {},
     "output_type": "execute_result"
    }
   ],
   "source": [
    "df.head()"
   ]
  },
  {
   "cell_type": "markdown",
   "metadata": {},
   "source": [
    "### Generate Model Level View\n",
    "This allows us to write simple queries against the joined table using the model name as the view `alias`."
   ]
  },
  {
   "cell_type": "code",
   "execution_count": 13,
   "metadata": {},
   "outputs": [],
   "source": [
    "view_query = f\"CREATE VIEW {model} AS {join_query}\"\n",
    "conn = engine.connect()\n",
    "rs = conn.execute(view_query)"
   ]
  },
  {
   "cell_type": "markdown",
   "metadata": {},
   "source": [
    "### Query from View\n",
    "Note that our `table` name is our `model` name; this `table` is actually a `view`."
   ]
  },
  {
   "cell_type": "code",
   "execution_count": 14,
   "metadata": {},
   "outputs": [
    {
     "data": {
      "text/html": [
       "<div>\n",
       "<style scoped>\n",
       "    .dataframe tbody tr th:only-of-type {\n",
       "        vertical-align: middle;\n",
       "    }\n",
       "\n",
       "    .dataframe tbody tr th {\n",
       "        vertical-align: top;\n",
       "    }\n",
       "\n",
       "    .dataframe thead th {\n",
       "        text-align: right;\n",
       "    }\n",
       "</style>\n",
       "<table border=\"1\" class=\"dataframe\">\n",
       "  <thead>\n",
       "    <tr style=\"text-align: right;\">\n",
       "      <th></th>\n",
       "      <th>id</th>\n",
       "      <th>run_id</th>\n",
       "      <th>model</th>\n",
       "      <th>latitude</th>\n",
       "      <th>longitude</th>\n",
       "      <th>polygon</th>\n",
       "      <th>datetime</th>\n",
       "      <th>feature_name</th>\n",
       "      <th>feature_value</th>\n",
       "      <th>feature_description</th>\n",
       "      <th>admin1</th>\n",
       "      <th>admin2</th>\n",
       "      <th>city</th>\n",
       "      <th>state</th>\n",
       "      <th>country</th>\n",
       "      <th>crop</th>\n",
       "      <th>irrigation</th>\n",
       "      <th>nitrogen</th>\n",
       "      <th>stat</th>\n",
       "    </tr>\n",
       "  </thead>\n",
       "  <tbody>\n",
       "    <tr>\n",
       "      <th>0</th>\n",
       "      <td>1</td>\n",
       "      <td>d11493e3952985b46926d9dfcdfa0b689d1866667cf77e...</td>\n",
       "      <td>yield_anomalies_lpjml</td>\n",
       "      <td>65.25</td>\n",
       "      <td>25.75</td>\n",
       "      <td>None</td>\n",
       "      <td>2018-01-01</td>\n",
       "      <td>yield level</td>\n",
       "      <td>4.127357</td>\n",
       "      <td>Percent increase or decrease in yield from bas...</td>\n",
       "      <td>Oulu</td>\n",
       "      <td>Northern Ostrobothnia</td>\n",
       "      <td>None</td>\n",
       "      <td>Oulu</td>\n",
       "      <td>Finland</td>\n",
       "      <td>wheat</td>\n",
       "      <td>LIM</td>\n",
       "      <td>LIM</td>\n",
       "      <td>mean</td>\n",
       "    </tr>\n",
       "    <tr>\n",
       "      <th>1</th>\n",
       "      <td>2</td>\n",
       "      <td>d11493e3952985b46926d9dfcdfa0b689d1866667cf77e...</td>\n",
       "      <td>yield_anomalies_lpjml</td>\n",
       "      <td>64.75</td>\n",
       "      <td>25.25</td>\n",
       "      <td>None</td>\n",
       "      <td>2018-01-01</td>\n",
       "      <td>yield level</td>\n",
       "      <td>2.323871</td>\n",
       "      <td>Percent increase or decrease in yield from bas...</td>\n",
       "      <td>Oulu</td>\n",
       "      <td>Northern Ostrobothnia</td>\n",
       "      <td>None</td>\n",
       "      <td>Oulu</td>\n",
       "      <td>Finland</td>\n",
       "      <td>wheat</td>\n",
       "      <td>LIM</td>\n",
       "      <td>LIM</td>\n",
       "      <td>mean</td>\n",
       "    </tr>\n",
       "    <tr>\n",
       "      <th>2</th>\n",
       "      <td>3</td>\n",
       "      <td>d11493e3952985b46926d9dfcdfa0b689d1866667cf77e...</td>\n",
       "      <td>yield_anomalies_lpjml</td>\n",
       "      <td>64.75</td>\n",
       "      <td>25.75</td>\n",
       "      <td>None</td>\n",
       "      <td>2018-01-01</td>\n",
       "      <td>yield level</td>\n",
       "      <td>3.867433</td>\n",
       "      <td>Percent increase or decrease in yield from bas...</td>\n",
       "      <td>Oulu</td>\n",
       "      <td>Northern Ostrobothnia</td>\n",
       "      <td>None</td>\n",
       "      <td>Oulu</td>\n",
       "      <td>Finland</td>\n",
       "      <td>wheat</td>\n",
       "      <td>LIM</td>\n",
       "      <td>LIM</td>\n",
       "      <td>mean</td>\n",
       "    </tr>\n",
       "    <tr>\n",
       "      <th>3</th>\n",
       "      <td>4</td>\n",
       "      <td>d11493e3952985b46926d9dfcdfa0b689d1866667cf77e...</td>\n",
       "      <td>yield_anomalies_lpjml</td>\n",
       "      <td>64.75</td>\n",
       "      <td>26.25</td>\n",
       "      <td>None</td>\n",
       "      <td>2018-01-01</td>\n",
       "      <td>yield level</td>\n",
       "      <td>3.782654</td>\n",
       "      <td>Percent increase or decrease in yield from bas...</td>\n",
       "      <td>Oulu</td>\n",
       "      <td>Northern Ostrobothnia</td>\n",
       "      <td>None</td>\n",
       "      <td>Oulu</td>\n",
       "      <td>Finland</td>\n",
       "      <td>wheat</td>\n",
       "      <td>LIM</td>\n",
       "      <td>LIM</td>\n",
       "      <td>mean</td>\n",
       "    </tr>\n",
       "    <tr>\n",
       "      <th>4</th>\n",
       "      <td>5</td>\n",
       "      <td>d11493e3952985b46926d9dfcdfa0b689d1866667cf77e...</td>\n",
       "      <td>yield_anomalies_lpjml</td>\n",
       "      <td>64.75</td>\n",
       "      <td>26.75</td>\n",
       "      <td>None</td>\n",
       "      <td>2018-01-01</td>\n",
       "      <td>yield level</td>\n",
       "      <td>3.514873</td>\n",
       "      <td>Percent increase or decrease in yield from bas...</td>\n",
       "      <td>Oulu</td>\n",
       "      <td>Northern Ostrobothnia</td>\n",
       "      <td>None</td>\n",
       "      <td>Oulu</td>\n",
       "      <td>Finland</td>\n",
       "      <td>wheat</td>\n",
       "      <td>LIM</td>\n",
       "      <td>LIM</td>\n",
       "      <td>mean</td>\n",
       "    </tr>\n",
       "  </tbody>\n",
       "</table>\n",
       "</div>"
      ],
      "text/plain": [
       "   id                                             run_id  \\\n",
       "0   1  d11493e3952985b46926d9dfcdfa0b689d1866667cf77e...   \n",
       "1   2  d11493e3952985b46926d9dfcdfa0b689d1866667cf77e...   \n",
       "2   3  d11493e3952985b46926d9dfcdfa0b689d1866667cf77e...   \n",
       "3   4  d11493e3952985b46926d9dfcdfa0b689d1866667cf77e...   \n",
       "4   5  d11493e3952985b46926d9dfcdfa0b689d1866667cf77e...   \n",
       "\n",
       "                   model  latitude  longitude polygon   datetime feature_name  \\\n",
       "0  yield_anomalies_lpjml     65.25      25.75    None 2018-01-01  yield level   \n",
       "1  yield_anomalies_lpjml     64.75      25.25    None 2018-01-01  yield level   \n",
       "2  yield_anomalies_lpjml     64.75      25.75    None 2018-01-01  yield level   \n",
       "3  yield_anomalies_lpjml     64.75      26.25    None 2018-01-01  yield level   \n",
       "4  yield_anomalies_lpjml     64.75      26.75    None 2018-01-01  yield level   \n",
       "\n",
       "   feature_value                                feature_description admin1  \\\n",
       "0       4.127357  Percent increase or decrease in yield from bas...   Oulu   \n",
       "1       2.323871  Percent increase or decrease in yield from bas...   Oulu   \n",
       "2       3.867433  Percent increase or decrease in yield from bas...   Oulu   \n",
       "3       3.782654  Percent increase or decrease in yield from bas...   Oulu   \n",
       "4       3.514873  Percent increase or decrease in yield from bas...   Oulu   \n",
       "\n",
       "                  admin2  city state  country   crop irrigation nitrogen  stat  \n",
       "0  Northern Ostrobothnia  None  Oulu  Finland  wheat        LIM      LIM  mean  \n",
       "1  Northern Ostrobothnia  None  Oulu  Finland  wheat        LIM      LIM  mean  \n",
       "2  Northern Ostrobothnia  None  Oulu  Finland  wheat        LIM      LIM  mean  \n",
       "3  Northern Ostrobothnia  None  Oulu  Finland  wheat        LIM      LIM  mean  \n",
       "4  Northern Ostrobothnia  None  Oulu  Finland  wheat        LIM      LIM  mean  "
      ]
     },
     "execution_count": 14,
     "metadata": {},
     "output_type": "execute_result"
    }
   ],
   "source": [
    "view_query = f\"SELECT * from {model} limit 10\"\n",
    "conn = engine.connect()\n",
    "df = pd.read_sql_query(view_query, conn)\n",
    "df.head()"
   ]
  }
 ],
 "metadata": {
  "kernelspec": {
   "display_name": "Python 3",
   "language": "python",
   "name": "python3"
  },
  "language_info": {
   "codemirror_mode": {
    "name": "ipython",
    "version": 3
   },
   "file_extension": ".py",
   "mimetype": "text/x-python",
   "name": "python",
   "nbconvert_exporter": "python",
   "pygments_lexer": "ipython3",
   "version": "3.7.3"
  }
 },
 "nbformat": 4,
 "nbformat_minor": 2
}
