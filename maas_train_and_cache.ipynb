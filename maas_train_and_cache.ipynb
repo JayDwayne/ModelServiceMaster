{
 "cells": [
  {
   "cell_type": "code",
   "execution_count": 11,
   "metadata": {},
   "outputs": [],
   "source": [
    "import psycopg2\n",
    "import requests\n",
    "import json\n",
    "import pandas as pd\n",
    "import time"
   ]
  },
  {
   "cell_type": "code",
   "execution_count": 12,
   "metadata": {},
   "outputs": [],
   "source": [
    "MAAS_ENDPOINT = \"http://localhost:8080/\"\n",
    "conn = psycopg2.connect(host=\"maas.cowfye1azh5f.us-east-1.rds.amazonaws.com\",database=\"output\", user=\"wmuser\", password=\"REPLACEME\")\n",
    "cur = conn.cursor()"
   ]
  },
  {
   "cell_type": "code",
   "execution_count": 18,
   "metadata": {},
   "outputs": [],
   "source": [
    "# get all training data (configs + outputs)\n",
    "def get_training_data(model_name):\n",
    "    response = requests.get(MAAS_ENDPOINT + \"list_runs/\" + model_name)\n",
    "    run_ids = json.loads(response.text)\n",
    "    \n",
    "    datas = []\n",
    "    configs = []\n",
    "    for rid in run_ids:\n",
    "        #rid = rid.lower()\n",
    "        config_response = requests.get(MAAS_ENDPOINT + \"run_results/\" + rid)\n",
    "        config = json.loads(config_response.text)        \n",
    "        statement = f\"SELECT * FROM rundata where run_id = '{rid}';\"\n",
    "        cur.execute(statement)\n",
    "        print(cur.fetchall())\n",
    "        output_df = pd.DataFrame(cur.fetchall(),columns=['run_id', 'x', 'y','id','feature','datetime'])\n",
    "        datas.append(output_df)\n",
    "        configs.append(config)\n",
    "            \n",
    "    return configs, datas"
   ]
  },
  {
   "cell_type": "code",
   "execution_count": 8,
   "metadata": {},
   "outputs": [],
   "source": [
    "# train model\n",
    "def train_model():\n",
    "    pass"
   ]
  },
  {
   "cell_type": "code",
   "execution_count": 9,
   "metadata": {},
   "outputs": [],
   "source": [
    "# continuously run model and cache outputs\n",
    "def run_and_cache(model_name,bounds):\n",
    "    #\n",
    "    pass\n",
    "\n",
    "    # Single Run\n",
    "    # \n",
    "    data = {\n",
    "       \"config\":{\n",
    "          \"samples\":10,\n",
    "          \"start_year\": 2015,\n",
    "          \"number_years\": 2,\n",
    "          \"management_practice\": \"maize_rf_highN\"\n",
    "       },\n",
    "       \"name\":\"DSSAT\"\n",
    "    }\n",
    "    \n",
    "    response = requests.get(MAAS_ENDPOINT + \"list_runs/\" + model_name, data=data)\n",
    "    rid = json.loads(response.text)[0]\n",
    "    \n",
    "    STATUS = \"\"\n",
    "    while STATUS != \"SUCCESS\":   \n",
    "        time.sleep(1)\n",
    "        run_response = requests.get(MAAS_ENDPOINT + \"run_status/\" + rid)\n",
    "        STATUS = run_response.text.replace('\"',\"\").strip()\n",
    "        \n",
    "        \n",
    "        \n",
    "    "
   ]
  },
  {
   "cell_type": "code",
   "execution_count": 19,
   "metadata": {},
   "outputs": [
    {
     "name": "stdout",
     "output_type": "stream",
     "text": [
      "[('c37ed71d7dee3e1dde7ea89405f6be35e1286e782d6ef7dbfe12211b5177f11f', Decimal('13.208'), Decimal('37.958'), 81, Decimal('13857'), '1984001'), ('c37ed71d7dee3e1dde7ea89405f6be35e1286e782d6ef7dbfe12211b5177f11f', Decimal('13.208'), Decimal('37.958'), 82, Decimal('6675'), '1985001'), ('c37ed71d7dee3e1dde7ea89405f6be35e1286e782d6ef7dbfe12211b5177f11f', Decimal('13.208'), Decimal('37.958'), 83, Decimal('13857'), '1984001'), ('c37ed71d7dee3e1dde7ea89405f6be35e1286e782d6ef7dbfe12211b5177f11f', Decimal('13.208'), Decimal('37.958'), 84, Decimal('6675'), '1985001')]\n",
      "[Empty DataFrame\n",
      "Columns: [run_id, x, y, id, feature, datetime]\n",
      "Index: []]\n"
     ]
    }
   ],
   "source": [
    "configs, datas = get_training_data(\"DSSAT\")\n",
    "print(datas)"
   ]
  },
  {
   "cell_type": "code",
   "execution_count": 219,
   "metadata": {},
   "outputs": [
    {
     "name": "stdout",
     "output_type": "stream",
     "text": [
      "SUCCESS SUCCESS\n"
     ]
    }
   ],
   "source": [
    "run_and_cache(\"DSSAT\",{})"
   ]
  },
  {
   "cell_type": "code",
   "execution_count": null,
   "metadata": {},
   "outputs": [],
   "source": []
  }
 ],
 "metadata": {
  "kernelspec": {
   "display_name": "Python 3",
   "language": "python",
   "name": "python3"
  },
  "language_info": {
   "codemirror_mode": {
    "name": "ipython",
    "version": 3
   },
   "file_extension": ".py",
   "mimetype": "text/x-python",
   "name": "python",
   "nbconvert_exporter": "python",
   "pygments_lexer": "ipython3",
   "version": "3.6.5"
  }
 },
 "nbformat": 4,
 "nbformat_minor": 2
}
