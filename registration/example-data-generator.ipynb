{
 "cells": [
  {
   "cell_type": "code",
   "execution_count": 22,
   "metadata": {},
   "outputs": [],
   "source": [
    "from hashlib import md5\n",
    "import pandas as pd\n",
    "import json\n",
    "import numpy as np\n",
    "import geopandas as gpd\n",
    "from random import randint, random, choice, uniform\n",
    "from datetime import datetime\n",
    "\n",
    "from shapely.ops import cascaded_union\n",
    "from shapely.geometry import Point"
   ]
  },
  {
   "cell_type": "code",
   "execution_count": 2,
   "metadata": {},
   "outputs": [],
   "source": [
    "def generate_random(polygon):\n",
    "    minx, miny, maxx, maxy = polygon.bounds\n",
    "    counter = 0\n",
    "    while True:\n",
    "        pnt = Point(uniform(minx, maxx), uniform(miny, maxy))\n",
    "        if polygon.contains(pnt):\n",
    "            return pnt\n",
    "\n",
    "\n",
    "# This needs to be updated based on a lookup from CSIRO\n",
    "def gridcell_to_loc(row):\n",
    "    point = generate_random(eth)\n",
    "    row['latitude'] = point.y\n",
    "    row['longitude'] = point.x\n",
    "    return row"
   ]
  },
  {
   "cell_type": "code",
   "execution_count": 3,
   "metadata": {},
   "outputs": [],
   "source": [
    "admin2 = gpd.read_file(\"../CSIRO-Integration/gadm36_ETH_shp/gadm36_ETH_2.shp\")\n",
    "admin2['country'] = admin2['NAME_0']\n",
    "admin2['state'] = admin2['NAME_1']\n",
    "admin2['admin1'] = admin2['NAME_1']\n",
    "admin2['admin2'] = admin2['NAME_2']\n",
    "admin2['GID_2'] = admin2['GID_2'].apply(lambda x: x.split(\"_\")[0])\n",
    "admin2['GID_1'] = admin2['GID_1'].apply(lambda x: x.split(\"_\")[0])\n",
    "\n",
    "eth = cascaded_union(admin2.geometry)"
   ]
  },
  {
   "cell_type": "code",
   "execution_count": 32,
   "metadata": {},
   "outputs": [],
   "source": [
    "rainfall = ['low','medium','high']\n",
    "temperature = ['low','medium','high']\n",
    "\n",
    "for rain in rainfall:\n",
    "    \n",
    "    for temp in temperature:\n",
    "        \n",
    "        objs = []\n",
    "        for i in range(1,1000):\n",
    "            obj = {}\n",
    "            obj['datetime'] = datetime(year=2018, month=randint(1,12), day=1).strftime(\"%Y-%m-%d\")\n",
    "            obj['timber_production'] = randint(1*10**5, 3*10**6) # kilograms\n",
    "            obj['cereal_production'] = randint(1*10**5, 3*10**7) # kilograms\n",
    "            objs.append(obj)\n",
    "        \n",
    "        df = pd.DataFrame(objs)\n",
    "        df['rainfall'] = rain\n",
    "        df['temperature'] = temp\n",
    "        df = df.apply(lambda row: gridcell_to_loc(row), axis=1)\n",
    "        \n",
    "        df.to_csv(f\"example_runs/{rain}_rainfall__{temp}_temperature.csv\", index=False)"
   ]
  }
 ],
 "metadata": {
  "kernelspec": {
   "display_name": "Python 3",
   "language": "python",
   "name": "python3"
  },
  "language_info": {
   "codemirror_mode": {
    "name": "ipython",
    "version": 3
   },
   "file_extension": ".py",
   "mimetype": "text/x-python",
   "name": "python",
   "nbconvert_exporter": "python",
   "pygments_lexer": "ipython3",
   "version": "3.7.5"
  }
 },
 "nbformat": 4,
 "nbformat_minor": 2
}
