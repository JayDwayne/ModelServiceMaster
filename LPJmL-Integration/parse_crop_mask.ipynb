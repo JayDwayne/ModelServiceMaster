{
 "cells": [
  {
   "cell_type": "code",
   "execution_count": 24,
   "metadata": {},
   "outputs": [],
   "source": [
    "# This script parses out the lpjml crop mask files and writes the data out to disk for use by the \n",
    "# parse_lpjml_output.ipynb script."
   ]
  },
  {
   "cell_type": "markdown",
   "metadata": {},
   "source": [
    "From Sebastian - \n",
    "\n",
    "You should find a new subdirectory \"landuse_patterns\" in the PIK cloud\n",
    "share.\n",
    "This directory contains 2 LPJ input files and 2 tools\n",
    "\n",
    "- cellarea.clm: input file with area of each cell in hectare\n",
    "- mockup_lu.clm: input file with harvested area per crop (and\n",
    "rainfed/irrigated) in fraction -> multiply with cellarea.clm to get\n",
    "harvested areas in hectares\n",
    "\n",
    "You can use\n",
    "./headersize cellarea.clm\n",
    "to get the header size in bytes of the input file.\n",
    "\n",
    "You can use\n",
    "./printclm -data cellarea.clm\n",
    "to print out the information contained in the header.\n",
    "\n",
    "This gives you the necessary information to read in the files."
   ]
  },
  {
   "cell_type": "code",
   "execution_count": 25,
   "metadata": {},
   "outputs": [],
   "source": [
    "import struct\n",
    "import numpy as np\n",
    "import pickle"
   ]
  },
  {
   "cell_type": "markdown",
   "metadata": {},
   "source": [
    "output of ./headersize cellarea.clm call is 51 (on my linux box)"
   ]
  },
  {
   "cell_type": "code",
   "execution_count": 26,
   "metadata": {},
   "outputs": [],
   "source": [
    "HEADER_BYTES = 51"
   ]
  },
  {
   "cell_type": "code",
   "execution_count": 27,
   "metadata": {},
   "outputs": [],
   "source": [
    "f = open(\"data/landuse_patterns/cellarea.clm\",\"rb\")\n",
    "_ = f.read(HEADER_BYTES)"
   ]
  },
  {
   "cell_type": "code",
   "execution_count": 28,
   "metadata": {},
   "outputs": [],
   "source": [
    "# Get hectare values for cells\n",
    "\n",
    "hectares = []\n",
    "# This will error out when done reading, hence the try/except\n",
    "while True:\n",
    "    try:\n",
    "        four_byes = f.read(4)\n",
    "        float_value = struct.unpack(\"<f\", four_byes)\n",
    "        hectares.append(float_value[0])\n",
    "    except:\n",
    "        break"
   ]
  },
  {
   "cell_type": "code",
   "execution_count": 29,
   "metadata": {},
   "outputs": [
    {
     "data": {
      "text/plain": [
       "True"
      ]
     },
     "execution_count": 29,
     "metadata": {},
     "output_type": "execute_result"
    }
   ],
   "source": [
    "# Make sure this is true - number of cells should match \n",
    "len(hectares) == 67420"
   ]
  },
  {
   "cell_type": "markdown",
   "metadata": {},
   "source": [
    "crop_mask.txt was the output of ./printclm cellarea.clm (on my linux box)\n",
    "It has a header and then a % value per cell per crop-hydro but only for year 2000"
   ]
  },
  {
   "cell_type": "code",
   "execution_count": 30,
   "metadata": {},
   "outputs": [],
   "source": [
    "# This parses out the crop_mask.txt file output described above.\n",
    "start = False\n",
    "cells = []\n",
    "for line in open(\"data/landuse_patterns/crop_mask.txt\"):\n",
    "    if not start:\n",
    "        if line.startswith(\"Year\"):\n",
    "            start = True\n",
    "            continue\n",
    "    else:\n",
    "        cell_num, vals = line.split(\":\")\n",
    "        vals = vals.split()\n",
    "        vals = list(map(lambda x: float(x.strip()),vals))\n",
    "        cells.append(vals)"
   ]
  },
  {
   "cell_type": "code",
   "execution_count": 31,
   "metadata": {},
   "outputs": [],
   "source": [
    "data = np.array(cells)"
   ]
  },
  {
   "cell_type": "code",
   "execution_count": 32,
   "metadata": {},
   "outputs": [
    {
     "data": {
      "text/plain": [
       "(67420, 32)"
      ]
     },
     "execution_count": 32,
     "metadata": {},
     "output_type": "execute_result"
    }
   ],
   "source": [
    "# A row per cell where the row contains the % for the corresponding crop-hydro value\n",
    "data.shape"
   ]
  },
  {
   "cell_type": "code",
   "execution_count": 33,
   "metadata": {},
   "outputs": [],
   "source": [
    "# Dump this data to disk for use by the other script\n",
    "pickle.dump( data, open( \"data/landuse_patterns/crop_mask.npy\", \"wb\" ) )\n",
    "mask_data = pickle.load(open(\"crop_mask.npy\", \"rb\"))"
   ]
  },
  {
   "cell_type": "code",
   "execution_count": 34,
   "metadata": {},
   "outputs": [],
   "source": [
    "# Dump the hectare data to disk for use by the other script\n",
    "pickle.dump( hectares, open( \"data/landuse_patterns/hectares.npy\", \"wb\" ) )\n",
    "hectares = pickle.load(open(\"hectares.npy\", \"rb\"))"
   ]
  },
  {
   "cell_type": "code",
   "execution_count": 35,
   "metadata": {},
   "outputs": [
    {
     "data": {
      "text/plain": [
       "(67420, 32)"
      ]
     },
     "execution_count": 35,
     "metadata": {},
     "output_type": "execute_result"
    }
   ],
   "source": [
    "mask_data.shape"
   ]
  },
  {
   "cell_type": "code",
   "execution_count": 36,
   "metadata": {},
   "outputs": [
    {
     "data": {
      "text/plain": [
       "67420"
      ]
     },
     "execution_count": 36,
     "metadata": {},
     "output_type": "execute_result"
    }
   ],
   "source": [
    "len(hectares)"
   ]
  }
 ],
 "metadata": {
  "kernelspec": {
   "display_name": "Python 3",
   "language": "python",
   "name": "python3"
  },
  "language_info": {
   "codemirror_mode": {
    "name": "ipython",
    "version": 3
   },
   "file_extension": ".py",
   "mimetype": "text/x-python",
   "name": "python",
   "nbconvert_exporter": "python",
   "pygments_lexer": "ipython3",
   "version": "3.7.4"
  }
 },
 "nbformat": 4,
 "nbformat_minor": 2
}
