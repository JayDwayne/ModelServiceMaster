{
 "cells": [
  {
   "cell_type": "code",
   "execution_count": null,
   "metadata": {},
   "outputs": [],
   "source": [
    "import numpy as np\n",
    "import pandas as pd\n",
    "\n",
    "def chunks(lst, n):\n",
    "    \"\"\"Yield successive n-sized chunks from lst.\"\"\"\n",
    "    for i in range(0, len(lst), n):\n",
    "        yield [float(x) for x in lst[i:i + n]]"
   ]
  },
  {
   "cell_type": "code",
   "execution_count": null,
   "metadata": {},
   "outputs": [],
   "source": [
    "grid = np.fromfile('grid.bin', dtype=np.short)\n",
    "pft = np.fromfile('pft_harvest.pft.bin', dtype=np.float32)        \n",
    "\n",
    "cells = list(chunks(grid, 2))\n",
    "\n",
    "harvests = list(chunks(pft,len(cells)))\n",
    "\n",
    "len(harvests) == 32*11"
   ]
  },
  {
   "cell_type": "code",
   "execution_count": null,
   "metadata": {},
   "outputs": [],
   "source": [
    "len(pft)"
   ]
  },
  {
   "cell_type": "code",
   "execution_count": null,
   "metadata": {},
   "outputs": [],
   "source": [
    "len(pft)/32/11"
   ]
  },
  {
   "cell_type": "code",
   "execution_count": null,
   "metadata": {},
   "outputs": [],
   "source": [
    "mgmt_types = ['rainfed','irrigated']\n",
    "\n",
    "crop_types = [\n",
    "    'Temperate cereals (wheat, rye, barley; wheat)',\n",
    "    'Rice (paddy rice; rice)',\n",
    "    'Maize (maize for food; maize)',\n",
    "    'Tropical cereals (millet, sorghum; millet)',\n",
    "    'Pulses (pulses; field peas)',\n",
    "    'Temperate roots (sugar beet; sugar beet)',\n",
    "    'Tropical roots (cassava; cassava)',\n",
    "    'Sunflower (sunflower; sunflower)',\n",
    "    'Soybean (soybean; soybean)',\n",
    "    'Groundnuts (groundnuts; groundnuts)',\n",
    "    'Rapeseed (rapeseed; rapeseed)',\n",
    "    'Sugarcane (sugarcane: sugarcane)',\n",
    "    'others (potatoes, oil palm, citrus, date palm, grapes/vine, cotton, cocoa, coffee, other perennial crops, other annual crops; managed grassland)',\n",
    "    'managed grasslands (pastures; managed grasslands)',\n",
    "    'bio-energy grass',\n",
    "    'bio-energy tree',\n",
    "]"
   ]
  },
  {
   "cell_type": "code",
   "execution_count": null,
   "metadata": {},
   "outputs": [],
   "source": [
    "lats = [i[1]/100 for i in cells]\n",
    "lons = [i[0]/100 for i in cells]"
   ]
  },
  {
   "cell_type": "code",
   "execution_count": null,
   "metadata": {},
   "outputs": [],
   "source": [
    "ind = 0\n",
    "for year in range(0,11):\n",
    "    for mgmt in mgmt_types:\n",
    "        for crop in crop_types:\n",
    "            print(year, mgmt, crop, ind)\n",
    "            df = pd.DataFrame(harvests[ind], columns=['yield'])\n",
    "            df['year'] = year\n",
    "            df['mgmt'] = mgmt\n",
    "            df['crop'] = crop\n",
    "            df['lat'] = lats\n",
    "            df['lon'] = lons\n",
    "            df.to_csv(f\"outputs/{year}_{mgmt}_{crop.replace('/','')}.csv\", index=False)\n",
    "            ind += 1"
   ]
  }
 ],
 "metadata": {
  "kernelspec": {
   "display_name": "Python 3",
   "language": "python",
   "name": "python3"
  },
  "language_info": {
   "codemirror_mode": {
    "name": "ipython",
    "version": 3
   },
   "file_extension": ".py",
   "mimetype": "text/x-python",
   "name": "python",
   "nbconvert_exporter": "python",
   "pygments_lexer": "ipython3",
   "version": "3.7.3"
  }
 },
 "nbformat": 4,
 "nbformat_minor": 2
}
