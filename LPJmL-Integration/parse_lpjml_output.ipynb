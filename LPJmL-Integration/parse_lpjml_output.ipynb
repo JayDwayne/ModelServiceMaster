{
 "cells": [
  {
   "cell_type": "code",
   "execution_count": 53,
   "metadata": {},
   "outputs": [],
   "source": [
    "# This script assumes parse_crop_mask.ipynb has already been run.\n",
    "# This script parses and normalizes the lpjml pft_harvest.pft.bin data and outputs it as a tsv"
   ]
  },
  {
   "cell_type": "code",
   "execution_count": 54,
   "metadata": {},
   "outputs": [],
   "source": [
    "import numpy as np\n",
    "import pickle"
   ]
  },
  {
   "cell_type": "code",
   "execution_count": 55,
   "metadata": {},
   "outputs": [],
   "source": [
    "# read all short values (lat,lon values)\n",
    "f = open(\"data/grid.bin\", \"rb\")"
   ]
  },
  {
   "cell_type": "code",
   "execution_count": 56,
   "metadata": {},
   "outputs": [],
   "source": [
    "shorts = np.fromfile(f, dtype=np.short)"
   ]
  },
  {
   "cell_type": "code",
   "execution_count": 57,
   "metadata": {},
   "outputs": [
    {
     "data": {
      "text/plain": [
       "134840"
      ]
     },
     "execution_count": 57,
     "metadata": {},
     "output_type": "execute_result"
    }
   ],
   "source": [
    "len(shorts)"
   ]
  },
  {
   "cell_type": "code",
   "execution_count": 58,
   "metadata": {},
   "outputs": [],
   "source": [
    "# divide to get actual lat/lons\n",
    "shorts = shorts / 100.0"
   ]
  },
  {
   "cell_type": "code",
   "execution_count": 59,
   "metadata": {},
   "outputs": [
    {
     "data": {
      "text/plain": [
       "(134840,)"
      ]
     },
     "execution_count": 59,
     "metadata": {},
     "output_type": "execute_result"
    }
   ],
   "source": [
    "shorts.shape"
   ]
  },
  {
   "cell_type": "code",
   "execution_count": 60,
   "metadata": {},
   "outputs": [],
   "source": [
    "ll = shorts.reshape((int(len(shorts)/2),2))"
   ]
  },
  {
   "cell_type": "code",
   "execution_count": 61,
   "metadata": {},
   "outputs": [
    {
     "data": {
      "text/plain": [
       "(67420, 2)"
      ]
     },
     "execution_count": 61,
     "metadata": {},
     "output_type": "execute_result"
    }
   ],
   "source": [
    "ll.shape"
   ]
  },
  {
   "cell_type": "code",
   "execution_count": 62,
   "metadata": {},
   "outputs": [],
   "source": [
    "# This file isn't in the repo - move it to the data directory for this to work.\n",
    "ff = open(\"data/pft_harvest.pft.bin\", \"rb\")"
   ]
  },
  {
   "cell_type": "code",
   "execution_count": 63,
   "metadata": {},
   "outputs": [],
   "source": [
    "datas = np.fromfile(ff, dtype=np.float32)"
   ]
  },
  {
   "cell_type": "code",
   "execution_count": 64,
   "metadata": {},
   "outputs": [
    {
     "data": {
      "text/plain": [
       "23731840"
      ]
     },
     "execution_count": 64,
     "metadata": {},
     "output_type": "execute_result"
    }
   ],
   "source": [
    "len(datas)"
   ]
  },
  {
   "cell_type": "code",
   "execution_count": 65,
   "metadata": {},
   "outputs": [
    {
     "data": {
      "text/plain": [
       "23731840"
      ]
     },
     "execution_count": 65,
     "metadata": {},
     "output_type": "execute_result"
    }
   ],
   "source": [
    "NUM_BANDS = 32\n",
    "NUM_YEARS = 11\n",
    "NUM_BANDS * NUM_YEARS * ll.shape[0]"
   ]
  },
  {
   "cell_type": "code",
   "execution_count": 66,
   "metadata": {},
   "outputs": [],
   "source": [
    "cell_vals = datas.reshape((NUM_YEARS, NUM_BANDS, ll.shape[0]))"
   ]
  },
  {
   "cell_type": "code",
   "execution_count": 67,
   "metadata": {},
   "outputs": [
    {
     "data": {
      "text/plain": [
       "(11, 32, 67420)"
      ]
     },
     "execution_count": 67,
     "metadata": {},
     "output_type": "execute_result"
    }
   ],
   "source": [
    "# 11 years with 32 bands for each of the 67,420 cells\n",
    "cell_vals.shape"
   ]
  },
  {
   "cell_type": "code",
   "execution_count": 68,
   "metadata": {},
   "outputs": [
    {
     "data": {
      "text/plain": [
       "(67420, 2)"
      ]
     },
     "execution_count": 68,
     "metadata": {},
     "output_type": "execute_result"
    }
   ],
   "source": [
    "# 67,420 cells with lon,lat values\n",
    "ll.shape"
   ]
  },
  {
   "cell_type": "code",
   "execution_count": 69,
   "metadata": {},
   "outputs": [],
   "source": [
    "# Create our lookup tables - see https://github.com/PIK-LPJmL/LPJmL/wiki for more info on where this came from\n",
    "\n",
    "mgmt_types = ['rainfed','irrigated']\n",
    "\n",
    "crop_types = [\n",
    "    'Temperate cereals (wheat, rye, barley; wheat)',\n",
    "    'Rice (paddy rice; rice)',\n",
    "    'Maize (maize for food; maize)',\n",
    "    'Tropical cereals (millet, sorghum; millet)',\n",
    "    'Pulses (pulses; field peas)',\n",
    "    'Temperate roots (sugar beet; sugar beet)',\n",
    "    'Tropical roots (cassava; cassava)',\n",
    "    'Sunflower (sunflower; sunflower)',\n",
    "    'Soybean (soybean; soybean)',\n",
    "    'Groundnuts (groundnuts; groundnuts)',\n",
    "    'Rapeseed (rapeseed; rapeseed)',\n",
    "    'Sugarcane (sugarcane: sugarcane)',\n",
    "    'others (potatoes, oil palm, citrus, date palm, grapes/vine, cotton, cocoa, coffee, other perennial crops, other annual crops; managed grassland)',\n",
    "    'managed grasslands (pastures; managed grasslands)',\n",
    "    'bio-energy grass',\n",
    "    'bio-energy tree',\n",
    "]\n",
    "\n",
    "years = np.arange(2007,2007+cell_vals.shape[2])\n",
    "\n",
    "options = []\n",
    "for m in mgmt_types:\n",
    "    for c in crop_types:\n",
    "        options.append(c + \" -- \" + m)"
   ]
  },
  {
   "cell_type": "code",
   "execution_count": 70,
   "metadata": {},
   "outputs": [],
   "source": [
    "# This is the meat of the processing.\n",
    "mydata = []\n",
    "\n",
    "# Read the mask data (67420, 32) -> 67,420 cells with 32 columns(one for each crop-hydro combo.\n",
    "# This is produced from the parse_crop_mask.ipynb script so make sure to run first!\n",
    "mask_data = pickle.load(open(\"data/landuse_patterns/crop_mask.npy\", \"rb\"))\n",
    "\n",
    "# Read the hectares float array of len 67420.  hectares per cell\n",
    "# This is produced from the parse_crop_mask.ipynb script so make sure to run first!\n",
    "hectares = pickle.load(open(\"data/landuse_patterns/hectares.npy\", \"rb\"))\n",
    "\n",
    "# For each year, grab the year index and the data for the year (x)\n",
    "for year_idx,x in enumerate(cell_vals):\n",
    "    # Grab the actual year name using the lookup table from above.\n",
    "    year = years[year_idx]\n",
    "    \n",
    "    # For each band, grab the band (crop -- hydro string pair) index and the data for the band (y)\n",
    "    for band_idx,y in enumerate(x):\n",
    "        # Grab the actual band (crop -- hydro string pair) using the lookup table from above\n",
    "        band = options[band_idx]\n",
    "        \n",
    "        # For each cell, grab the cell index and the data value for the cell (z)\n",
    "        for cell_idx,z in enumerate(y):\n",
    "            # Get the lon, lat from the ll index from above.\n",
    "            lon,lat = ll[cell_idx]\n",
    "            # Get the mask values for the cell index\n",
    "            mask_vals = mask_data[cell_idx]\n",
    "            # Get the specific mask value for the band (crop -- hydro string pair) index\n",
    "            mask_val = mask_vals[band_idx]\n",
    "            # Get the specific hectare value for the cell index\n",
    "            hectare = hectares[cell_idx]\n",
    "            # Split the crop and hydro out from the string agg above.\n",
    "            crop, hydro = band.split(\"--\")\n",
    "            crop = crop.strip()\n",
    "            hydro = hydro.strip()\n",
    "            \n",
    "            # Add tuple to mydata list\n",
    "            # longitude\\tlatitude\\tcrop\\thydro\\tyear\\tyield\\tmask\\thectare\\thaih\\tnorm_yield\n",
    "            mydata.append((lon,lat,crop,hydro,year,z,mask_val,hectare,mask_val*hectare,mask_val*hectare*z))"
   ]
  },
  {
   "cell_type": "code",
   "execution_count": 71,
   "metadata": {},
   "outputs": [
    {
     "data": {
      "text/plain": [
       "(-179.75,\n",
       " -16.25,\n",
       " 'Temperate cereals (wheat, rye, barley; wheat)',\n",
       " 'rainfed',\n",
       " 2007,\n",
       " 0.0,\n",
       " 0.0,\n",
       " 296758.96875,\n",
       " 0.0,\n",
       " 0.0)"
      ]
     },
     "execution_count": 71,
     "metadata": {},
     "output_type": "execute_result"
    }
   ],
   "source": [
    "mydata[0]"
   ]
  },
  {
   "cell_type": "code",
   "execution_count": null,
   "metadata": {},
   "outputs": [],
   "source": [
    "# Write out data as .tsv\n",
    "with open('data/lpjml_out.txt',\"w\") as out:\n",
    "    out.write(\"longitude\\tlatitude\\tcrop\\thydro\\tyear\\tyield\\tmask\\thectare\\thaih\\tproduction\\n\")\n",
    "    for d in mydata:\n",
    "        out.write(\"\\t\".join(map(lambda x:str(x),d)) + \"\\n\")"
   ]
  }
 ],
 "metadata": {
  "kernelspec": {
   "display_name": "Python 3",
   "language": "python",
   "name": "python3"
  },
  "language_info": {
   "codemirror_mode": {
    "name": "ipython",
    "version": 3
   },
   "file_extension": ".py",
   "mimetype": "text/x-python",
   "name": "python",
   "nbconvert_exporter": "python",
   "pygments_lexer": "ipython3",
   "version": "3.7.4"
  }
 },
 "nbformat": 4,
 "nbformat_minor": 2
}
