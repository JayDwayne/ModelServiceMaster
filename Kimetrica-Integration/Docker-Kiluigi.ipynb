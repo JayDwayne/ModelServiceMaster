{
 "cells": [
  {
   "cell_type": "markdown",
   "metadata": {},
   "source": [
    "# Container Management\n",
    "This notebook demonstrates how the Docker Python API can be used for container management for a Model Service API.\n",
    "\n",
    "Requires `docker==3.7.2` which can be installed with `pip install docker==3.7.2`.\n",
    "\n",
    "Also, this assumes that the containers you are interested in running are available as built images on the server where this code will be executed. If you haven't yet built the containers, you can with:\n",
    "\n",
    "```\n",
    "git clone --recursive https://gitlab.kimetrica.com/DARPA/darpa.git\n",
    "cd darpa/kiluigi\n",
    "git checkout master\n",
    "cd ..\n",
    "\n",
    "sed -i '4s/kiluigi\\///g' env.example\n",
    "cp env.example kiluigi/.env\n",
    "cp luigi.cfg.example luigi.cfg\n",
    "cd kiluigi\n",
    "docker-compose run --entrypoint=bash scheduler\n",
    "```\n",
    "\n",
    "Once you have built the container and are inside it, exit the container, stop and remove all running Kiluigi related containers. You should then `cd ../..` so that you are one level above the `darpa` directory."
   ]
  },
  {
   "cell_type": "markdown",
   "metadata": {},
   "source": [
    "### Connect to Docker and ensure correct images exist"
   ]
  },
  {
   "cell_type": "code",
   "execution_count": 1,
   "metadata": {},
   "outputs": [],
   "source": [
    "import docker\n",
    "import re"
   ]
  },
  {
   "cell_type": "code",
   "execution_count": 2,
   "metadata": {},
   "outputs": [],
   "source": [
    "client = docker.from_env()"
   ]
  },
  {
   "cell_type": "markdown",
   "metadata": {},
   "source": [
    "Obtain available images:"
   ]
  },
  {
   "cell_type": "code",
   "execution_count": 3,
   "metadata": {},
   "outputs": [],
   "source": [
    "kimetrica_images = ['drp_scheduler:latest', 'drp_db:latest']"
   ]
  },
  {
   "cell_type": "code",
   "execution_count": 4,
   "metadata": {},
   "outputs": [],
   "source": [
    "images = [img.tags[0] for img in client.images.list()]"
   ]
  },
  {
   "cell_type": "code",
   "execution_count": 5,
   "metadata": {},
   "outputs": [
    {
     "name": "stdout",
     "output_type": "stream",
     "text": [
      "Correct images are available.\n"
     ]
    }
   ],
   "source": [
    "if set(kimetrica_images) - set(images) == set():\n",
    "    print(\"Correct images are available.\")\n",
    "else:\n",
    "    print(f\"You need to build {kimetrica_images}\")"
   ]
  },
  {
   "cell_type": "markdown",
   "metadata": {},
   "source": [
    "### Set up environment variables"
   ]
  },
  {
   "cell_type": "markdown",
   "metadata": {},
   "source": [
    "First we need a function to parse KiLuigi `.env` files:"
   ]
  },
  {
   "cell_type": "code",
   "execution_count": 6,
   "metadata": {},
   "outputs": [],
   "source": [
    "def parse_env_file(path_to_file):\n",
    "    '''\n",
    "    Parse a Kimetrica .env file into a dictionary\n",
    "    '''\n",
    "    envre = re.compile(r'''^([^\\s=]+)=(?:[\\s\"']*)(.+?)(?:[\\s\"']*)$''')\n",
    "    env_var = re.compile(r'\\$\\{[0-9a-zA-Z_]*\\}')\n",
    "    alpha_num = re.compile(r'[0-9a-zA-Z_]+')\n",
    "    result = {}\n",
    "    with open(path_to_file) as ins:\n",
    "        for line in ins:\n",
    "            match = envre.match(line)\n",
    "            if match is not None:\n",
    "                key = match.group(1)\n",
    "                val = match.group(2)\n",
    "                to_replace = env_var.findall(val)\n",
    "                for v in to_replace:\n",
    "                    found = result[alpha_num.search(v).group(0)]\n",
    "                    val = val.replace(v, found)\n",
    "                result[key] = val\n",
    "    return result"
   ]
  },
  {
   "cell_type": "markdown",
   "metadata": {},
   "source": [
    "Now we can define a set of variables required for Docker. These include:\n",
    "\n",
    "- Naming the scheduler and database\n",
    "- Defining the scheduler entrypoint (the Luigi command to run; includes the specific model/task combination)\n",
    "- Volumes to mount to the containers\n",
    "- Reading in environment variables \n",
    "- Ports to expose on the database\n",
    "- The name of our Docker network"
   ]
  },
  {
   "cell_type": "code",
   "execution_count": 7,
   "metadata": {},
   "outputs": [],
   "source": [
    "scheduler = 'drp_scheduler:latest'\n",
    "db = 'drp_db:latest'\n",
    "entrypoint=\"luigi --module models.malnutrition_model.tasks models.malnutrition_model.tasks.RasterToCSV --local-scheduler\"\n",
    "volumes = {'/home/ubuntu/darpa/': {'bind': '/usr/src/app/', 'mode': 'rw'}}\n",
    "environment = parse_env_file('darpa/kiluigi/.env')\n",
    "db_ports = {'5432/tcp': 5432}\n",
    "network_name = \"kiluigi\"\n",
    "\n",
    "environment['PYTHONPATH'] = '/usr/src/app:/usr/src/app/kiluigi'"
   ]
  },
  {
   "cell_type": "markdown",
   "metadata": {},
   "source": [
    "We need to set some specific environment variables for the db:"
   ]
  },
  {
   "cell_type": "code",
   "execution_count": 8,
   "metadata": {},
   "outputs": [],
   "source": [
    "db_environment = {\"APP\": environment[\"APP\"],\n",
    "                  \"ENV\": environment[\"ENV\"],\n",
    "                  \"PGPASSWORD\": environment[\"PGPASSWORD\"],\n",
    "                  \"POSTGRES_PASSWORD\": environment[\"PGPASSWORD\"]}"
   ]
  },
  {
   "cell_type": "markdown",
   "metadata": {},
   "source": [
    "### Set up Docker Network\n",
    "Create a network for Kiluigi activities. First, remove any lingering networks called `kiluigi`:"
   ]
  },
  {
   "cell_type": "code",
   "execution_count": 9,
   "metadata": {},
   "outputs": [],
   "source": [
    "for net in client.networks.list():\n",
    "    if net.name == network_name:\n",
    "        client.networks.get(net.id).remove()"
   ]
  },
  {
   "cell_type": "code",
   "execution_count": 10,
   "metadata": {},
   "outputs": [],
   "source": [
    "network = client.networks.create(network_name, driver=\"bridge\")"
   ]
  },
  {
   "cell_type": "markdown",
   "metadata": {},
   "source": [
    "### Run db\n",
    "We now run the db and store its object as `db_container` in case we need it in the future:"
   ]
  },
  {
   "cell_type": "code",
   "execution_count": 11,
   "metadata": {},
   "outputs": [],
   "source": [
    "containers = client.containers"
   ]
  },
  {
   "cell_type": "code",
   "execution_count": 12,
   "metadata": {},
   "outputs": [],
   "source": [
    "db_container = containers.run(db, environment=db_environment, ports=db_ports, network=network_name, detach=True)"
   ]
  },
  {
   "cell_type": "markdown",
   "metadata": {},
   "source": [
    "### Run Model"
   ]
  },
  {
   "cell_type": "code",
   "execution_count": 19,
   "metadata": {},
   "outputs": [],
   "source": [
    "model = containers.run(scheduler, \n",
    "               environment=environment, \n",
    "               volumes=volumes, \n",
    "               network=network_name, \n",
    "               links={db_container.short_id: None},\n",
    "               entrypoint=entrypoint,\n",
    "               detach=True)"
   ]
  },
  {
   "cell_type": "markdown",
   "metadata": {},
   "source": [
    "We run the model detached (as a daemon container) but can access its logs with:"
   ]
  },
  {
   "cell_type": "code",
   "execution_count": 27,
   "metadata": {},
   "outputs": [
    {
     "name": "stdout",
     "output_type": "stream",
     "text": [
      "b'[2019-04-22 21:44:37,397] INFO [luigi:80] logging configured via *.conf file\\n'\n",
      "b'[2019-04-22 21:44:37,411] INFO [luigi-interface:579] Informed scheduler that task   models.malnutrition_model.tasks.RasterToCSV_0_5_travel_time___landcover____r_333a86b912   has status   PENDING\\n'\n",
      "b'[2019-04-22 21:44:37,909] INFO [luigi-interface:143] No prior data file exists at /tmp/data/CkanTarget/data.kimetrica.com/cached_ckan_metadata_kiluigi.pickle\\n'\n",
      "b'[2019-04-22 21:44:38,580] INFO [luigi-interface:128] Attempting to load from /tmp/data/CkanTarget/data.kimetrica.com/cached_ckan_metadata_kiluigi.pickle\\n'\n",
      "b'[2019-04-22 21:44:39,059] INFO [luigi-interface:128] Attempting to load from /tmp/data/CkanTarget/data.kimetrica.com/cached_ckan_metadata_kiluigi.pickle\\n'\n",
      "b'[2019-04-22 21:44:39,586] INFO [luigi-interface:128] Attempting to load from /tmp/data/CkanTarget/data.kimetrica.com/cached_ckan_metadata_kiluigi.pickle\\n'\n",
      "b'[2019-04-22 21:44:40,088] INFO [luigi-interface:128] Attempting to load from /tmp/data/CkanTarget/data.kimetrica.com/cached_ckan_metadata_kiluigi.pickle\\n'\n",
      "b'[2019-04-22 21:44:40,594] INFO [luigi-interface:128] Attempting to load from /tmp/data/CkanTarget/data.kimetrica.com/cached_ckan_metadata_kiluigi.pickle\\n'\n",
      "b'[2019-04-22 21:44:41,305] INFO [luigi-interface:128] Attempting to load from /tmp/data/CkanTarget/data.kimetrica.com/cached_ckan_metadata_kiluigi.pickle\\n'\n",
      "b'[2019-04-22 21:44:41,775] INFO [luigi-interface:128] Attempting to load from /tmp/data/CkanTarget/data.kimetrica.com/cached_ckan_metadata_kiluigi.pickle\\n'\n",
      "b'[2019-04-22 21:44:41,783] INFO [luigi-interface:579] Informed scheduler that task   models.malnutrition_model.tasks.RetrvCkanData__99914b932b   has status   PENDING\\n'\n",
      "b'[2019-04-22 21:44:41,784] INFO [luigi-interface:579] Informed scheduler that task   models.malnutrition_model.tasks.CkanShpfiles__99914b932b   has status   DONE\\n'\n",
      "b'[2019-04-22 21:44:41,784] INFO [luigi-interface:579] Informed scheduler that task   models.malnutrition_model.tasks.CkanMalnVars__99914b932b   has status   DONE\\n'\n",
      "b'[2019-04-22 21:44:41,788] INFO [luigi-interface:579] Informed scheduler that task   models.malnutrition_model.tasks.HighResMalnRaster_0_5_travel_time___landcover____r_9af5694858   has status   PENDING\\n'\n",
      "b'[2019-04-22 21:44:41,791] INFO [luigi-interface:579] Informed scheduler that task   models.malnutrition_model.tasks.MalnutritionRaster_0_5_travel_time___landcover____r_9af5694858   has status   PENDING\\n'\n",
      "b'[2019-04-22 21:44:41,808] INFO [luigi-interface:579] Informed scheduler that task   models.malnutrition_model.tasks.MalnutInference_0_5_travel_time___landcover____r_9af5694858   has status   PENDING\\n'\n",
      "b'[2019-04-22 21:44:41,810] INFO [luigi-interface:579] Informed scheduler that task   models.malnutrition_model.tasks.VarsStandardized_train__99914b932b   has status   PENDING\\n'\n",
      "b'[2019-04-22 21:44:41,812] INFO [luigi-interface:579] Informed scheduler that task   models.malnutrition_model.tasks.MalnutDF_train__99914b932b   has status   PENDING\\n'\n",
      "b'[2019-04-22 21:44:42,313] INFO [luigi-interface:128] Attempting to load from /tmp/data/CkanTarget/data.kimetrica.com/cached_ckan_metadata_kiluigi.pickle\\n'\n",
      "b'[2019-04-22 21:44:42,321] INFO [luigi-interface:579] Informed scheduler that task   models.malnutrition_model.tasks.TrainDataset__99914b932b   has status   PENDING\\n'\n",
      "b'[2019-04-22 21:44:42,322] INFO [luigi-interface:579] Informed scheduler that task   models.malnutrition_model.tasks.SurveyData__99914b932b   has status   DONE\\n'\n",
      "b'[2019-04-22 21:44:42,322] INFO [luigi-interface:579] Informed scheduler that task   models.malnutrition_model.tasks.SAM_svm_model__99914b932b   has status   PENDING\\n'\n",
      "b'[2019-04-22 21:44:42,323] INFO [luigi-interface:579] Informed scheduler that task   models.malnutrition_model.tasks.GAM_svm_model__99914b932b   has status   PENDING\\n'\n",
      "b'[2019-04-22 21:44:42,323] INFO [luigi-interface:579] Informed scheduler that task   models.malnutrition_model.tasks.SAM_gbm_model_False_cbf9f2ad10   has status   PENDING\\n'\n",
      "b'[2019-04-22 21:44:42,324] INFO [luigi-interface:579] Informed scheduler that task   models.malnutrition_model.tasks.GAM_gbm_model_False_cbf9f2ad10   has status   PENDING\\n'\n",
      "b'[2019-04-22 21:44:42,806] INFO [luigi-interface:128] Attempting to load from /tmp/data/CkanTarget/data.kimetrica.com/cached_ckan_metadata_kiluigi.pickle\\n'\n",
      "b'[2019-04-22 21:44:42,818] INFO [luigi-interface:579] Informed scheduler that task   models.malnutrition_model.tasks.MalnutDF_infer_0_5_travel_time___landcover____r_9af5694858   has status   PENDING\\n'\n",
      "b'[2019-04-22 21:44:42,821] INFO [luigi-interface:579] Informed scheduler that task   models.economic_model.tasks.OutputEconomicModelResults_0_5_travel_time___landcover____r_050909bca9   has status   PENDING\\n'\n",
      "b'[2019-04-22 21:44:42,826] INFO [luigi-interface:579] Informed scheduler that task   models.economic_model.tasks.RunEconomicModel_0_5_travel_time___landcover____r_050909bca9   has status   PENDING\\n'\n",
      "b'[2019-04-22 21:44:42,829] INFO [luigi-interface:579] Informed scheduler that task   models.economic_model.tasks.ConvertRasterToCSV_0_5_travel_time___landcover____r_d9bb3221f0   has status   PENDING\\n'\n",
      "b'[2019-04-22 21:44:42,832] INFO [luigi-interface:579] Informed scheduler that task   models.economic_model.tasks.RegridRasterForTrainingData_0_5_travel_time___landcover____r_d9bb3221f0   has status   PENDING\\n'\n",
      "b'[2019-04-22 21:44:43,306] INFO [luigi-interface:128] Attempting to load from /tmp/data/CkanTarget/data.kimetrica.com/cached_ckan_metadata_kiluigi.pickle\\n'\n",
      "b'[2019-04-22 21:44:43,770] INFO [luigi-interface:128] Attempting to load from /tmp/data/CkanTarget/data.kimetrica.com/cached_ckan_metadata_kiluigi.pickle\\n'\n",
      "b'[2019-04-22 21:44:44,219] INFO [luigi-interface:128] Attempting to load from /tmp/data/CkanTarget/data.kimetrica.com/cached_ckan_metadata_kiluigi.pickle\\n'\n",
      "b'[2019-04-22 21:44:44,686] INFO [luigi-interface:128] Attempting to load from /tmp/data/CkanTarget/data.kimetrica.com/cached_ckan_metadata_kiluigi.pickle\\n'\n",
      "b'[2019-04-22 21:44:45,256] INFO [luigi-interface:128] Attempting to load from /tmp/data/CkanTarget/data.kimetrica.com/cached_ckan_metadata_kiluigi.pickle\\n'\n",
      "b'[2019-04-22 21:44:45,266] INFO [luigi-interface:579] Informed scheduler that task   models.economic_model.data_geo_location.GetModeledRasterData_0_5_travel_time___landcover____r_d9bb3221f0   has status   PENDING\\n'\n",
      "b'[2019-04-22 21:44:45,275] INFO [luigi-interface:579] Informed scheduler that task   models.accessibility_model.tasks.TravelTimeToTowns_0_5_travel_time___landcover____r_d9bb3221f0   has status   PENDING\\n'\n",
      "b'[2019-04-22 21:44:45,280] INFO [luigi-interface:579] Informed scheduler that task   models.accessibility_model.tasks.FrictionSurface_0_5_True_True_1920cea9a4   has status   PENDING\\n'\n",
      "b'[2019-04-22 21:44:45,287] INFO [luigi-interface:579] Informed scheduler that task   models.hydrology_model.tasks.RainfallSimulation_0_5_False_2017_08_28_f2d177fcf4   has status   PENDING\\n'\n",
      "b'[2019-04-22 21:44:45,287] INFO [luigi-interface:579] Informed scheduler that task   models.hydrology_model.tasks.ProjectionFromConfig__99914b932b   has status   PENDING\\n'\n",
      "b'[2019-04-22 21:44:45,789] INFO [luigi-interface:128] Attempting to load from /tmp/data/CkanTarget/data.kimetrica.com/cached_ckan_metadata_kiluigi.pickle\\n'\n",
      "b'[2019-04-22 21:44:46,266] INFO [luigi-interface:128] Attempting to load from /tmp/data/CkanTarget/data.kimetrica.com/cached_ckan_metadata_kiluigi.pickle\\n'\n",
      "b'[2019-04-22 21:44:46,720] INFO [luigi-interface:128] Attempting to load from /tmp/data/CkanTarget/data.kimetrica.com/cached_ckan_metadata_kiluigi.pickle\\n'\n",
      "b'[2019-04-22 21:44:46,732] INFO [luigi-interface:579] Informed scheduler that task   models.hydrology_model.tasks.ResampleRastersToMatchChirps_2017_08_30_2017_08_15_True_0beb5119c7   has status   PENDING\\n'\n",
      "b'[2019-04-22 21:44:46,732] INFO [luigi-interface:579] Informed scheduler that task   models.hydrology_model.tasks.RasterFiles__99914b932b   has status   DONE\\n'\n",
      "b'[2019-04-22 21:44:47,204] INFO [luigi-interface:128] Attempting to load from /tmp/data/CkanTarget/data.kimetrica.com/cached_ckan_metadata_kiluigi.pickle\\n'\n",
      "b'[2019-04-22 21:44:47,212] INFO [luigi-interface:579] Informed scheduler that task   models.hydrology_model.tasks.TrainSMFromChirpsModel_False_soil_moisture___landforms____t_c75450a7d9   has status   PENDING\\n'\n",
      "b'[2019-04-22 21:44:47,213] INFO [luigi-interface:579] Informed scheduler that task   models.hydrology_model.tasks.PullTrainDataFromCKAN__99914b932b   has status   DONE\\n'\n",
      "b'[2019-04-22 21:44:47,728] INFO [luigi-interface:128] Attempting to load from /tmp/data/CkanTarget/data.kimetrica.com/cached_ckan_metadata_kiluigi.pickle\\n'\n",
      "b'[2019-04-22 21:44:47,737] INFO [luigi-interface:579] Informed scheduler that task   models.hydrology_model.tasks.ClipDailyRainfallData_2017_08_30_2017_08_15_6890745214   has status   PENDING\\n'\n",
      "b'[2019-04-22 21:44:47,737] INFO [luigi-interface:579] Informed scheduler that task   models.hydrology_model.tasks.PullShapefileFilesFromCkan__99914b932b   has status   DONE\\n'\n",
      "b'[2019-04-22 21:44:47,738] INFO [luigi-interface:579] Informed scheduler that task   models.hydrology_model.tasks.ScrapeDailyRainfallData_2017_08_30_2017_08_15_6890745214   has status   PENDING\\n'\n",
      "b'[2019-04-22 21:44:48,215] INFO [luigi-interface:128] Attempting to load from /tmp/data/CkanTarget/data.kimetrica.com/cached_ckan_metadata_kiluigi.pickle\\n'\n",
      "b'[2019-04-22 21:44:48,683] INFO [luigi-interface:128] Attempting to load from /tmp/data/CkanTarget/data.kimetrica.com/cached_ckan_metadata_kiluigi.pickle\\n'\n",
      "b'[2019-04-22 21:44:49,137] INFO [luigi-interface:128] Attempting to load from /tmp/data/CkanTarget/data.kimetrica.com/cached_ckan_metadata_kiluigi.pickle\\n'\n",
      "b'[2019-04-22 21:44:49,595] INFO [luigi-interface:128] Attempting to load from /tmp/data/CkanTarget/data.kimetrica.com/cached_ckan_metadata_kiluigi.pickle\\n'\n",
      "b'[2019-04-22 21:44:50,054] INFO [luigi-interface:128] Attempting to load from /tmp/data/CkanTarget/data.kimetrica.com/cached_ckan_metadata_kiluigi.pickle\\n'\n",
      "b'[2019-04-22 21:44:50,639] INFO [luigi-interface:128] Attempting to load from /tmp/data/CkanTarget/data.kimetrica.com/cached_ckan_metadata_kiluigi.pickle\\n'\n",
      "b'[2019-04-22 21:44:51,195] INFO [luigi-interface:128] Attempting to load from /tmp/data/CkanTarget/data.kimetrica.com/cached_ckan_metadata_kiluigi.pickle\\n'\n",
      "b'[2019-04-22 21:44:51,204] INFO [luigi-interface:579] Informed scheduler that task   models.accessibility_model.tasks.Rasterize__99914b932b   has status   PENDING\\n'\n",
      "b'[2019-04-22 21:44:51,205] INFO [luigi-interface:579] Informed scheduler that task   models.accessibility_model.tasks.ProjectionFromConfig__99914b932b   has status   PENDING\\n'\n",
      "b'[2019-04-22 21:44:51,205] INFO [luigi-interface:579] Informed scheduler that task   models.accessibility_model.tasks.PullShapefilesFromCkan__99914b932b   has status   DONE\\n'\n",
      "b'[2019-04-22 21:44:51,670] INFO [luigi-interface:128] Attempting to load from /tmp/data/CkanTarget/data.kimetrica.com/cached_ckan_metadata_kiluigi.pickle\\n'\n",
      "b'[2019-04-22 21:44:52,132] INFO [luigi-interface:128] Attempting to load from /tmp/data/CkanTarget/data.kimetrica.com/cached_ckan_metadata_kiluigi.pickle\\n'\n",
      "b'[2019-04-22 21:44:52,574] INFO [luigi-interface:128] Attempting to load from /tmp/data/CkanTarget/data.kimetrica.com/cached_ckan_metadata_kiluigi.pickle\\n'\n",
      "b'[2019-04-22 21:44:53,074] INFO [luigi-interface:128] Attempting to load from /tmp/data/CkanTarget/data.kimetrica.com/cached_ckan_metadata_kiluigi.pickle\\n'\n",
      "b'[2019-04-22 21:44:53,082] INFO [luigi-interface:579] Informed scheduler that task   models.accessibility_model.tasks.MaskRasterFiles__99914b932b   has status   PENDING\\n'\n",
      "b'[2019-04-22 21:44:53,082] INFO [luigi-interface:579] Informed scheduler that task   models.accessibility_model.tasks.PullRastersFromCkan__99914b932b   has status   DONE\\n'\n",
      "b'[2019-04-22 21:44:53,083] INFO [luigi-interface:579] Informed scheduler that task   models.economic_model.data_geo_location.PullRasterDataCkan__99914b932b   has status   DONE\\n'\n",
      "b'[2019-04-22 21:44:53,085] INFO [luigi-interface:579] Informed scheduler that task   models.economic_model.tasks.TrainEconomicModel_0_5_False_consumption_expe_4182119b13   has status   PENDING\\n'\n",
      "b'[2019-04-22 21:44:53,528] INFO [luigi-interface:128] Attempting to load from /tmp/data/CkanTarget/data.kimetrica.com/cached_ckan_metadata_kiluigi.pickle\\n'\n",
      "b'[2019-04-22 21:44:54,217] INFO [luigi-interface:128] Attempting to load from /tmp/data/CkanTarget/data.kimetrica.com/cached_ckan_metadata_kiluigi.pickle\\n'\n",
      "b'[2019-04-22 21:44:54,224] INFO [luigi-interface:143] No prior data file exists at /tmp/data/CkanTarget/data.kimetrica.com/cached_ckan_local_resource_status.pickle\\n'\n",
      "b'[2019-04-22 21:44:54,224] INFO [luigi-interface:143] No prior data file exists at /tmp/data/CkanTarget/data.kimetrica.com/cached_ckan_local_resource_status.pickle\\n'\n",
      "b'[2019-04-22 21:44:54,224] INFO [luigi-interface:143] No prior data file exists at /tmp/data/CkanTarget/data.kimetrica.com/cached_ckan_local_resource_status.pickle\\n'\n",
      "b'[2019-04-22 21:44:54,836] INFO [luigi-interface:579] Informed scheduler that task   models.economic_model.tasks.CleanHouseholdEconData_0_5_consumption_expe_3600_c04bd0a6b0   has status   PENDING\\n'\n",
      "b'[2019-04-22 21:44:55,271] INFO [luigi-interface:128] Attempting to load from /tmp/data/CkanTarget/data.kimetrica.com/cached_ckan_metadata_kiluigi.pickle\\n'\n",
      "b'[2019-04-22 21:44:55,792] INFO [luigi-interface:128] Attempting to load from /tmp/data/CkanTarget/data.kimetrica.com/cached_ckan_metadata_kiluigi.pickle\\n'\n",
      "b'[2019-04-22 21:44:55,800] INFO [luigi-interface:579] Informed scheduler that task   models.economic_model.tasks.ReadHouseholdEconData_0_5_3600_b18100f335   has status   PENDING\\n'\n",
      "b'[2019-04-22 21:44:55,801] INFO [luigi-interface:579] Informed scheduler that task   models.economic_model.tasks.PullHouseholdEconData_0_5_91bf5af08f   has status   DONE\\n'\n",
      "b'[2019-04-22 21:44:55,801] INFO [luigi-interface:579] Informed scheduler that task   models.malnutrition_model.tasks.GlobalParams_0_5_May_2017_daccbb7314   has status   DONE\\n'\n",
      "b'[2019-04-22 21:44:55,801] INFO [luigi-interface:579] Informed scheduler that task   models.malnutrition_model.tasks.InferenceVars__99914b932b   has status   DONE\\n'\n",
      "b'[2019-04-22 21:44:55,803] INFO [luigi-interface:579] Informed scheduler that task   models.malnutrition_model.tasks.VarsStandardized_infer_0_5_travel_time___landcover____r_9af5694858   has status   PENDING\\n'\n",
      "b'[2019-04-22 21:44:55,803] INFO [luigi-interface:171] Done scheduling tasks\\n'\n",
      "b'[2019-04-22 21:44:55,803] INFO [luigi-interface:1152] Running Worker with 1 processes\\n'\n",
      "b'[2019-04-22 21:44:55,804] INFO [luigi-interface:163] [pid 1] Worker Worker(salt=495104788, workers=1, host=a06f7baa207f, username=root, pid=1) running   models.malnutrition_model.tasks.RetrvCkanData()\\n'\n",
      "b'[2019-04-22 21:44:56,243] INFO [luigi-interface:128] Attempting to load from /tmp/data/CkanTarget/data.kimetrica.com/cached_ckan_metadata_kiluigi.pickle\\n'\n",
      "b'[2019-04-22 21:44:56,693] INFO [luigi-interface:128] Attempting to load from /tmp/data/CkanTarget/data.kimetrica.com/cached_ckan_metadata_kiluigi.pickle\\n'\n",
      "b'[2019-04-22 21:44:57,150] INFO [luigi-interface:128] Attempting to load from /tmp/data/CkanTarget/data.kimetrica.com/cached_ckan_metadata_kiluigi.pickle\\n'\n",
      "b'[2019-04-22 21:44:57,697] INFO [luigi-interface:128] Attempting to load from /tmp/data/CkanTarget/data.kimetrica.com/cached_ckan_metadata_kiluigi.pickle\\n'\n",
      "b'[2019-04-22 21:44:58,139] INFO [luigi-interface:128] Attempting to load from /tmp/data/CkanTarget/data.kimetrica.com/cached_ckan_metadata_kiluigi.pickle\\n'\n",
      "b'[2019-04-22 21:44:58,593] INFO [luigi-interface:128] Attempting to load from /tmp/data/CkanTarget/data.kimetrica.com/cached_ckan_metadata_kiluigi.pickle\\n'\n",
      "b'[2019-04-22 21:44:59,048] INFO [luigi-interface:128] Attempting to load from /tmp/data/CkanTarget/data.kimetrica.com/cached_ckan_metadata_kiluigi.pickle\\n'\n",
      "b'[2019-04-22 21:44:59,483] INFO [luigi-interface:128] Attempting to load from /tmp/data/CkanTarget/data.kimetrica.com/cached_ckan_metadata_kiluigi.pickle\\n'\n",
      "b'[2019-04-22 21:44:59,950] INFO [luigi-interface:128] Attempting to load from /tmp/data/CkanTarget/data.kimetrica.com/cached_ckan_metadata_kiluigi.pickle\\n'\n",
      "b'[2019-04-22 21:44:59,958] INFO [luigi-interface:128] Attempting to load from /tmp/data/CkanTarget/data.kimetrica.com/cached_ckan_local_resource_status.pickle\\n'\n",
      "b'[2019-04-22 21:45:01,116] INFO [luigi-interface:128] Attempting to load from /tmp/data/CkanTarget/data.kimetrica.com/cached_ckan_metadata_kiluigi.pickle\\n'\n",
      "b'[2019-04-22 21:45:01,120] INFO [luigi-interface:128] Attempting to load from /tmp/data/CkanTarget/data.kimetrica.com/cached_ckan_local_resource_status.pickle\\n'\n",
      "b'[2019-04-22 21:45:02,286] INFO [luigi-interface:128] Attempting to load from /tmp/data/CkanTarget/data.kimetrica.com/cached_ckan_metadata_kiluigi.pickle\\n'\n",
      "b'[2019-04-22 21:45:02,289] INFO [luigi-interface:128] Attempting to load from /tmp/data/CkanTarget/data.kimetrica.com/cached_ckan_local_resource_status.pickle\\n'\n",
      "b'[2019-04-22 21:45:03,357] INFO [luigi-interface:128] Attempting to load from /tmp/data/CkanTarget/data.kimetrica.com/cached_ckan_metadata_kiluigi.pickle\\n'\n",
      "b'[2019-04-22 21:45:03,360] INFO [luigi-interface:128] Attempting to load from /tmp/data/CkanTarget/data.kimetrica.com/cached_ckan_local_resource_status.pickle\\n'\n",
      "b'[2019-04-22 21:45:04,422] INFO [luigi-interface:128] Attempting to load from /tmp/data/CkanTarget/data.kimetrica.com/cached_ckan_metadata_kiluigi.pickle\\n'\n",
      "b'[2019-04-22 21:45:04,429] INFO [luigi-interface:128] Attempting to load from /tmp/data/CkanTarget/data.kimetrica.com/cached_ckan_local_resource_status.pickle\\n'\n",
      "b'[2019-04-22 21:45:05,613] INFO [luigi-interface:128] Attempting to load from /tmp/data/CkanTarget/data.kimetrica.com/cached_ckan_metadata_kiluigi.pickle\\n'\n",
      "b'[2019-04-22 21:45:05,616] INFO [luigi-interface:128] Attempting to load from /tmp/data/CkanTarget/data.kimetrica.com/cached_ckan_local_resource_status.pickle\\n'\n",
      "b'[2019-04-22 21:45:07,471] INFO [luigi-interface:128] Attempting to load from /tmp/data/CkanTarget/data.kimetrica.com/cached_ckan_metadata_kiluigi.pickle\\n'\n",
      "b'[2019-04-22 21:45:07,474] INFO [luigi-interface:128] Attempting to load from /tmp/data/CkanTarget/data.kimetrica.com/cached_ckan_local_resource_status.pickle\\n'\n",
      "b'[2019-04-22 21:45:08,576] INFO [luigi-interface:128] Attempting to load from /tmp/data/CkanTarget/data.kimetrica.com/cached_ckan_metadata_kiluigi.pickle\\n'\n",
      "b'[2019-04-22 21:45:08,579] INFO [luigi-interface:128] Attempting to load from /tmp/data/CkanTarget/data.kimetrica.com/cached_ckan_local_resource_status.pickle\\n'\n",
      "b'[2019-04-22 21:45:09,425] INFO [luigi-interface:211] [pid 1] Worker Worker(salt=495104788, workers=1, host=a06f7baa207f, username=root, pid=1) done      models.malnutrition_model.tasks.RetrvCkanData()\\n'\n",
      "b'[2019-04-22 21:45:09,426] INFO [luigi-interface:579] Informed scheduler that task   models.malnutrition_model.tasks.RetrvCkanData__99914b932b   has status   DONE\\n'\n",
      "b'[2019-04-22 21:45:09,427] INFO [luigi-interface:163] [pid 1] Worker Worker(salt=495104788, workers=1, host=a06f7baa207f, username=root, pid=1) running   models.malnutrition_model.tasks.TrainDataset()\\n'\n",
      "b'[2019-04-22 21:45:09,881] INFO [luigi-interface:128] Attempting to load from /tmp/data/CkanTarget/data.kimetrica.com/cached_ckan_metadata_kiluigi.pickle\\n'\n",
      "b'[2019-04-22 21:45:10,335] INFO [luigi-interface:128] Attempting to load from /tmp/data/CkanTarget/data.kimetrica.com/cached_ckan_metadata_kiluigi.pickle\\n'\n",
      "b'[2019-04-22 21:45:10,339] INFO [luigi-interface:128] Attempting to load from /tmp/data/CkanTarget/data.kimetrica.com/cached_ckan_local_resource_status.pickle\\n'\n",
      "b'[2019-04-22 21:45:11,227] INFO [luigi-interface:211] [pid 1] Worker Worker(salt=495104788, workers=1, host=a06f7baa207f, username=root, pid=1) done      models.malnutrition_model.tasks.TrainDataset()\\n'\n",
      "b'[2019-04-22 21:45:11,228] INFO [luigi-interface:579] Informed scheduler that task   models.malnutrition_model.tasks.TrainDataset__99914b932b   has status   DONE\\n'\n",
      "b'[2019-04-22 21:45:11,229] INFO [luigi-interface:163] [pid 1] Worker Worker(salt=495104788, workers=1, host=a06f7baa207f, username=root, pid=1) running   models.malnutrition_model.tasks.MalnutDF_train()\\n'\n",
      "b'this is not in crop df: aaa\\n'\n",
      "b'this is not in pop_input: aaa\\n'\n",
      "b'this not in ndvi: aaa\\n'\n",
      "b'this is not in chirps df: aaa\\n'\n",
      "b'this is not in median expenditure df: aaa\\n'\n",
      "b'this is not in pop_input: abyei\\n'\n",
      "b'this is not in median expenditure df: abyei\\n'\n",
      "b'[2019-04-22 21:45:20,183] INFO [luigi-interface:211] [pid 1] Worker Worker(salt=495104788, workers=1, host=a06f7baa207f, username=root, pid=1) done      models.malnutrition_model.tasks.MalnutDF_train()\\n'\n",
      "b'[2019-04-22 21:45:20,184] INFO [luigi-interface:579] Informed scheduler that task   models.malnutrition_model.tasks.MalnutDF_train__99914b932b   has status   DONE\\n'\n",
      "b'[2019-04-22 21:45:20,185] INFO [luigi-interface:163] [pid 1] Worker Worker(salt=495104788, workers=1, host=a06f7baa207f, username=root, pid=1) running   models.malnutrition_model.tasks.VarsStandardized_train()\\n'\n",
      "b'[2019-04-22 21:45:20,288] INFO [luigi-interface:211] [pid 1] Worker Worker(salt=495104788, workers=1, host=a06f7baa207f, username=root, pid=1) done      models.malnutrition_model.tasks.VarsStandardized_train()\\n'\n",
      "b'[2019-04-22 21:45:20,289] INFO [luigi-interface:579] Informed scheduler that task   models.malnutrition_model.tasks.VarsStandardized_train__99914b932b   has status   DONE\\n'\n",
      "b'[2019-04-22 21:45:20,290] INFO [luigi-interface:163] [pid 1] Worker Worker(salt=495104788, workers=1, host=a06f7baa207f, username=root, pid=1) running   models.malnutrition_model.tasks.GAM_gbm_model(calculate_influence=False)\\n'\n",
      "b'r2 for GAM (gb) prediction on validation: 0.17425611226543147\\n'\n",
      "b'[2019-04-22 21:45:37,532] INFO [luigi-interface:211] [pid 1] Worker Worker(salt=495104788, workers=1, host=a06f7baa207f, username=root, pid=1) done      models.malnutrition_model.tasks.GAM_gbm_model(calculate_influence=False)\\n'\n",
      "b'[2019-04-22 21:45:37,533] INFO [luigi-interface:579] Informed scheduler that task   models.malnutrition_model.tasks.GAM_gbm_model_False_cbf9f2ad10   has status   DONE\\n'\n",
      "b'[2019-04-22 21:45:37,534] INFO [luigi-interface:163] [pid 1] Worker Worker(salt=495104788, workers=1, host=a06f7baa207f, username=root, pid=1) running   models.malnutrition_model.tasks.GAM_svm_model()\\n'\n",
      "b'r2 for GAM (svm) prediction on validation: 0.08388253542844604\\n'\n",
      "b'[2019-04-22 21:45:37,775] INFO [luigi-interface:211] [pid 1] Worker Worker(salt=495104788, workers=1, host=a06f7baa207f, username=root, pid=1) done      models.malnutrition_model.tasks.GAM_svm_model()\\n'\n",
      "b'[2019-04-22 21:45:37,775] INFO [luigi-interface:579] Informed scheduler that task   models.malnutrition_model.tasks.GAM_svm_model__99914b932b   has status   DONE\\n'\n",
      "b'[2019-04-22 21:45:37,776] INFO [luigi-interface:163] [pid 1] Worker Worker(salt=495104788, workers=1, host=a06f7baa207f, username=root, pid=1) running   models.malnutrition_model.tasks.SAM_gbm_model(calculate_influence=False)\\n'\n",
      "b'r2 for SAM (gb) prediction on validation: 0.20011582002811612\\n'\n",
      "b'[2019-04-22 21:45:54,759] INFO [luigi-interface:211] [pid 1] Worker Worker(salt=495104788, workers=1, host=a06f7baa207f, username=root, pid=1) done      models.malnutrition_model.tasks.SAM_gbm_model(calculate_influence=False)\\n'\n",
      "b'[2019-04-22 21:45:54,761] INFO [luigi-interface:579] Informed scheduler that task   models.malnutrition_model.tasks.SAM_gbm_model_False_cbf9f2ad10   has status   DONE\\n'\n",
      "b'[2019-04-22 21:45:54,761] INFO [luigi-interface:163] [pid 1] Worker Worker(salt=495104788, workers=1, host=a06f7baa207f, username=root, pid=1) running   models.malnutrition_model.tasks.SAM_svm_model()\\n'\n",
      "b'r2 for SAM (svm) prediction on validation: 0.031038945439601173\\n'\n",
      "b'[2019-04-22 21:45:55,005] INFO [luigi-interface:211] [pid 1] Worker Worker(salt=495104788, workers=1, host=a06f7baa207f, username=root, pid=1) done      models.malnutrition_model.tasks.SAM_svm_model()\\n'\n",
      "b'[2019-04-22 21:45:55,006] INFO [luigi-interface:579] Informed scheduler that task   models.malnutrition_model.tasks.SAM_svm_model__99914b932b   has status   DONE\\n'\n",
      "b'[2019-04-22 21:45:55,007] INFO [luigi-interface:163] [pid 1] Worker Worker(salt=495104788, workers=1, host=a06f7baa207f, username=root, pid=1) running   models.hydrology_model.tasks.ProjectionFromConfig()\\n'\n",
      "b'[2019-04-22 21:45:55,008] INFO [luigi-interface:211] [pid 1] Worker Worker(salt=495104788, workers=1, host=a06f7baa207f, username=root, pid=1) done      models.hydrology_model.tasks.ProjectionFromConfig()\\n'\n",
      "b'[2019-04-22 21:45:55,008] INFO [luigi-interface:579] Informed scheduler that task   models.hydrology_model.tasks.ProjectionFromConfig__99914b932b   has status   DONE\\n'\n",
      "b'[2019-04-22 21:45:55,009] INFO [luigi-interface:163] [pid 1] Worker Worker(salt=495104788, workers=1, host=a06f7baa207f, username=root, pid=1) running   models.hydrology_model.tasks.TrainSMFromChirpsModel(hydrology_test_size=0.33, hydrology_ind_vars=[\"landforms\", \"texture\", \"twi\", \"rain_lag10\", \"rain_lag9\", \"rain_lag8\", \"rain_lag7\", \"rain_lag6\", \"rain_lag5\", \"rain_lag4\", \"rain_lag3\", \"rain_lag2\", \"rain_lag1\"], hydrology_dep_var=soil_moisture, calculate_influence=False)\\n'\n",
      "b'[2019-04-22 21:45:55,495] INFO [luigi-interface:128] Attempting to load from /tmp/data/CkanTarget/data.kimetrica.com/cached_ckan_metadata_kiluigi.pickle\\n'\n",
      "b'[2019-04-22 21:45:55,983] INFO [luigi-interface:128] Attempting to load from /tmp/data/CkanTarget/data.kimetrica.com/cached_ckan_metadata_kiluigi.pickle\\n'\n",
      "b'[2019-04-22 21:45:55,987] INFO [luigi-interface:128] Attempting to load from /tmp/data/CkanTarget/data.kimetrica.com/cached_ckan_local_resource_status.pickle\\n'\n",
      "b'[2019-04-22 21:46:40,576] INFO [luigi-interface:211] [pid 1] Worker Worker(salt=495104788, workers=1, host=a06f7baa207f, username=root, pid=1) done      models.hydrology_model.tasks.TrainSMFromChirpsModel(hydrology_test_size=0.33, hydrology_ind_vars=[\"landforms\", \"texture\", \"twi\", \"rain_lag10\", \"rain_lag9\", \"rain_lag8\", \"rain_lag7\", \"rain_lag6\", \"rain_lag5\", \"rain_lag4\", \"rain_lag3\", \"rain_lag2\", \"rain_lag1\"], hydrology_dep_var=soil_moisture, calculate_influence=False)\\n'\n",
      "b'[2019-04-22 21:46:40,578] INFO [luigi-interface:579] Informed scheduler that task   models.hydrology_model.tasks.TrainSMFromChirpsModel_False_soil_moisture___landforms____t_c75450a7d9   has status   DONE\\n'\n",
      "b'[2019-04-22 21:46:40,579] INFO [luigi-interface:163] [pid 1] Worker Worker(salt=495104788, workers=1, host=a06f7baa207f, username=root, pid=1) running   models.hydrology_model.tasks.ScrapeDailyRainfallData(download_startdate=2017-08-15, download_enddate=2017-08-30)\\n'\n",
      "b'[2019-04-22 21:47:08,828] INFO [luigi-interface:211] [pid 1] Worker Worker(salt=495104788, workers=1, host=a06f7baa207f, username=root, pid=1) done      models.hydrology_model.tasks.ScrapeDailyRainfallData(download_startdate=2017-08-15, download_enddate=2017-08-30)\\n'\n",
      "b'[2019-04-22 21:47:08,830] INFO [luigi-interface:579] Informed scheduler that task   models.hydrology_model.tasks.ScrapeDailyRainfallData_2017_08_30_2017_08_15_6890745214   has status   DONE\\n'\n",
      "b'[2019-04-22 21:47:08,831] INFO [luigi-interface:163] [pid 1] Worker Worker(salt=495104788, workers=1, host=a06f7baa207f, username=root, pid=1) running   models.hydrology_model.tasks.ClipDailyRainfallData(download_startdate=2017-08-15, download_enddate=2017-08-30)\\n'\n",
      "b'[2019-04-22 21:47:09,314] INFO [luigi-interface:128] Attempting to load from /tmp/data/CkanTarget/data.kimetrica.com/cached_ckan_metadata_kiluigi.pickle\\n'\n",
      "b'[2019-04-22 21:47:09,890] INFO [luigi-interface:128] Attempting to load from /tmp/data/CkanTarget/data.kimetrica.com/cached_ckan_metadata_kiluigi.pickle\\n'\n",
      "b'[2019-04-22 21:47:09,894] INFO [luigi-interface:128] Attempting to load from /tmp/data/CkanTarget/data.kimetrica.com/cached_ckan_local_resource_status.pickle\\n'\n",
      "b'[2019-04-22 21:47:11,220] INFO [luigi-interface:211] [pid 1] Worker Worker(salt=495104788, workers=1, host=a06f7baa207f, username=root, pid=1) done      models.hydrology_model.tasks.ClipDailyRainfallData(download_startdate=2017-08-15, download_enddate=2017-08-30)\\n'\n",
      "b'[2019-04-22 21:47:11,221] INFO [luigi-interface:579] Informed scheduler that task   models.hydrology_model.tasks.ClipDailyRainfallData_2017_08_30_2017_08_15_6890745214   has status   DONE\\n'\n",
      "b'[2019-04-22 21:47:11,222] INFO [luigi-interface:163] [pid 1] Worker Worker(salt=495104788, workers=1, host=a06f7baa207f, username=root, pid=1) running   models.hydrology_model.tasks.ResampleRastersToMatchChirps(years=[2015], shpfile_key=boundary, shpfile_name=box.shp, fewsnet_ndvi=True, nodata=-9999.0, download_startdate=2017-08-15, download_enddate=2017-08-30)\\n'\n",
      "b'[2019-04-22 21:47:11,735] INFO [luigi-interface:128] Attempting to load from /tmp/data/CkanTarget/data.kimetrica.com/cached_ckan_metadata_kiluigi.pickle\\n'\n",
      "b'[2019-04-22 21:47:12,203] INFO [luigi-interface:128] Attempting to load from /tmp/data/CkanTarget/data.kimetrica.com/cached_ckan_metadata_kiluigi.pickle\\n'\n",
      "b'[2019-04-22 21:47:12,685] INFO [luigi-interface:128] Attempting to load from /tmp/data/CkanTarget/data.kimetrica.com/cached_ckan_metadata_kiluigi.pickle\\n'\n",
      "b'[2019-04-22 21:47:13,204] INFO [luigi-interface:128] Attempting to load from /tmp/data/CkanTarget/data.kimetrica.com/cached_ckan_metadata_kiluigi.pickle\\n'\n",
      "b'[2019-04-22 21:47:13,208] INFO [luigi-interface:128] Attempting to load from /tmp/data/CkanTarget/data.kimetrica.com/cached_ckan_local_resource_status.pickle\\n'\n",
      "b'[2019-04-22 21:47:16,874] INFO [luigi-interface:128] Attempting to load from /tmp/data/CkanTarget/data.kimetrica.com/cached_ckan_metadata_kiluigi.pickle\\n'\n",
      "b'[2019-04-22 21:47:16,877] INFO [luigi-interface:128] Attempting to load from /tmp/data/CkanTarget/data.kimetrica.com/cached_ckan_local_resource_status.pickle\\n'\n",
      "b'[2019-04-22 21:47:20,568] INFO [luigi-interface:128] Attempting to load from /tmp/data/CkanTarget/data.kimetrica.com/cached_ckan_metadata_kiluigi.pickle\\n'\n",
      "b'[2019-04-22 21:47:20,572] INFO [luigi-interface:128] Attempting to load from /tmp/data/CkanTarget/data.kimetrica.com/cached_ckan_local_resource_status.pickle\\n'\n",
      "b'[2019-04-22 21:47:25,376] INFO [luigi-interface:211] [pid 1] Worker Worker(salt=495104788, workers=1, host=a06f7baa207f, username=root, pid=1) done      models.hydrology_model.tasks.ResampleRastersToMatchChirps(years=[2015], shpfile_key=boundary, shpfile_name=box.shp, fewsnet_ndvi=True, nodata=-9999.0, download_startdate=2017-08-15, download_enddate=2017-08-30)\\n'\n",
      "b'[2019-04-22 21:47:25,377] INFO [luigi-interface:579] Informed scheduler that task   models.hydrology_model.tasks.ResampleRastersToMatchChirps_2017_08_30_2017_08_15_True_0beb5119c7   has status   DONE\\n'\n",
      "b'[2019-04-22 21:47:25,378] INFO [luigi-interface:163] [pid 1] Worker Worker(salt=495104788, workers=1, host=a06f7baa207f, username=root, pid=1) running   models.hydrology_model.tasks.RainfallSimulation(years=[2015], shpfile_key=boundary, shpfile_name=box.shp, fewsnet_ndvi=True, nodata=-9999.0, download_startdate=2017-08-15, download_enddate=2017-08-30, hydrology_test_size=0.33, hydrology_ind_vars=[\"landforms\", \"texture\", \"twi\", \"rain_lag10\", \"rain_lag9\", \"rain_lag8\", \"rain_lag7\", \"rain_lag6\", \"rain_lag5\", \"rain_lag4\", \"rain_lag3\", \"rain_lag2\", \"rain_lag1\"], hydrology_dep_var=soil_moisture, calculate_influence=False, date=2017-08-28, PercentOfNormalRainfall=0.5, num_days=10)\\n'\n",
      "b'/opt/conda/lib/python3.6/site-packages/sklearn/ensemble/weight_boosting.py:29: DeprecationWarning: numpy.core.umath_tests is an internal NumPy module and should not be imported. It will be removed in a future NumPy release.\\n'\n",
      "b'  from numpy.core.umath_tests import inner1d\\n'\n",
      "b'Using TensorFlow backend.\\n'\n",
      "b'/opt/conda/lib/python3.6/site-packages/numpy/core/_methods.py:32: RuntimeWarning: invalid value encountered in reduce\\n'\n",
      "b'  return umr_minimum(a, axis, None, out, keepdims, initial)\\n'\n",
      "b'/opt/conda/lib/python3.6/site-packages/pandas/core/indexing.py:362: SettingWithCopyWarning: \\n'\n",
      "b'A value is trying to be set on a copy of a slice from a DataFrame.\\n'\n",
      "b'Try using .loc[row_indexer,col_indexer] = value instead\\n'\n",
      "b'\\n'\n",
      "b'See the caveats in the documentation: http://pandas.pydata.org/pandas-docs/stable/indexing.html#indexing-view-versus-copy\\n'\n",
      "b'  self.obj[key] = _infer_fill_value(value)\\n'\n",
      "b'/opt/conda/lib/python3.6/site-packages/pandas/core/indexing.py:543: SettingWithCopyWarning: \\n'\n",
      "b'A value is trying to be set on a copy of a slice from a DataFrame.\\n'\n",
      "b'Try using .loc[row_indexer,col_indexer] = value instead\\n'\n",
      "b'\\n'\n",
      "b'See the caveats in the documentation: http://pandas.pydata.org/pandas-docs/stable/indexing.html#indexing-view-versus-copy\\n'\n",
      "b'  self.obj[item] = s\\n'\n",
      "b'/opt/conda/lib/python3.6/site-packages/pandas/core/generic.py:5890: SettingWithCopyWarning: \\n'\n",
      "b'A value is trying to be set on a copy of a slice from a DataFrame\\n'\n",
      "b'\\n'\n",
      "b'See the caveats in the documentation: http://pandas.pydata.org/pandas-docs/stable/indexing.html#indexing-view-versus-copy\\n'\n",
      "b'  self._update_inplace(new_data)\\n'\n",
      "b'[2019-04-22 21:47:31,857] INFO [luigi-interface:211] [pid 1] Worker Worker(salt=495104788, workers=1, host=a06f7baa207f, username=root, pid=1) done      models.hydrology_model.tasks.RainfallSimulation(years=[2015], shpfile_key=boundary, shpfile_name=box.shp, fewsnet_ndvi=True, nodata=-9999.0, download_startdate=2017-08-15, download_enddate=2017-08-30, hydrology_test_size=0.33, hydrology_ind_vars=[\"landforms\", \"texture\", \"twi\", \"rain_lag10\", \"rain_lag9\", \"rain_lag8\", \"rain_lag7\", \"rain_lag6\", \"rain_lag5\", \"rain_lag4\", \"rain_lag3\", \"rain_lag2\", \"rain_lag1\"], hydrology_dep_var=soil_moisture, calculate_influence=False, date=2017-08-28, PercentOfNormalRainfall=0.5, num_days=10)\\n'\n",
      "b'[2019-04-22 21:47:31,859] INFO [luigi-interface:579] Informed scheduler that task   models.hydrology_model.tasks.RainfallSimulation_0_5_False_2017_08_28_f2d177fcf4   has status   DONE\\n'\n",
      "b'[2019-04-22 21:47:31,860] INFO [luigi-interface:163] [pid 1] Worker Worker(salt=495104788, workers=1, host=a06f7baa207f, username=root, pid=1) running   models.accessibility_model.tasks.ProjectionFromConfig()\\n'\n",
      "b'[2019-04-22 21:47:31,862] INFO [luigi-interface:211] [pid 1] Worker Worker(salt=495104788, workers=1, host=a06f7baa207f, username=root, pid=1) done      models.accessibility_model.tasks.ProjectionFromConfig()\\n'\n",
      "b'[2019-04-22 21:47:31,863] INFO [luigi-interface:579] Informed scheduler that task   models.accessibility_model.tasks.ProjectionFromConfig__99914b932b   has status   DONE\\n'\n",
      "b'[2019-04-22 21:47:31,863] INFO [luigi-interface:163] [pid 1] Worker Worker(salt=495104788, workers=1, host=a06f7baa207f, username=root, pid=1) running   models.accessibility_model.tasks.MaskRasterFiles()\\n'\n",
      "b'[2019-04-22 21:47:32,355] INFO [luigi-interface:128] Attempting to load from /tmp/data/CkanTarget/data.kimetrica.com/cached_ckan_metadata_kiluigi.pickle\\n'\n",
      "b'[2019-04-22 21:47:32,947] INFO [luigi-interface:128] Attempting to load from /tmp/data/CkanTarget/data.kimetrica.com/cached_ckan_metadata_kiluigi.pickle\\n'\n",
      "b'[2019-04-22 21:47:33,407] INFO [luigi-interface:128] Attempting to load from /tmp/data/CkanTarget/data.kimetrica.com/cached_ckan_metadata_kiluigi.pickle\\n'\n",
      "b'[2019-04-22 21:47:33,866] INFO [luigi-interface:128] Attempting to load from /tmp/data/CkanTarget/data.kimetrica.com/cached_ckan_metadata_kiluigi.pickle\\n'\n",
      "b'[2019-04-22 21:47:34,328] INFO [luigi-interface:128] Attempting to load from /tmp/data/CkanTarget/data.kimetrica.com/cached_ckan_metadata_kiluigi.pickle\\n'\n",
      "b'[2019-04-22 21:47:34,791] INFO [luigi-interface:128] Attempting to load from /tmp/data/CkanTarget/data.kimetrica.com/cached_ckan_metadata_kiluigi.pickle\\n'\n",
      "b'[2019-04-22 21:47:35,231] INFO [luigi-interface:128] Attempting to load from /tmp/data/CkanTarget/data.kimetrica.com/cached_ckan_metadata_kiluigi.pickle\\n'\n",
      "b'[2019-04-22 21:47:35,684] INFO [luigi-interface:128] Attempting to load from /tmp/data/CkanTarget/data.kimetrica.com/cached_ckan_metadata_kiluigi.pickle\\n'\n",
      "b'[2019-04-22 21:47:36,137] INFO [luigi-interface:128] Attempting to load from /tmp/data/CkanTarget/data.kimetrica.com/cached_ckan_metadata_kiluigi.pickle\\n'\n",
      "b'[2019-04-22 21:47:36,582] INFO [luigi-interface:128] Attempting to load from /tmp/data/CkanTarget/data.kimetrica.com/cached_ckan_metadata_kiluigi.pickle\\n'\n",
      "b'[2019-04-22 21:47:37,051] INFO [luigi-interface:128] Attempting to load from /tmp/data/CkanTarget/data.kimetrica.com/cached_ckan_metadata_kiluigi.pickle\\n'\n",
      "b'[2019-04-22 21:47:37,515] INFO [luigi-interface:128] Attempting to load from /tmp/data/CkanTarget/data.kimetrica.com/cached_ckan_metadata_kiluigi.pickle\\n'\n",
      "b'[2019-04-22 21:47:37,519] INFO [luigi-interface:128] Attempting to load from /tmp/data/CkanTarget/data.kimetrica.com/cached_ckan_local_resource_status.pickle\\n'\n",
      "b'[2019-04-22 21:47:38,161] INFO [luigi-interface:128] Attempting to load from /tmp/data/CkanTarget/data.kimetrica.com/cached_ckan_metadata_kiluigi.pickle\\n'\n",
      "b'[2019-04-22 21:47:38,164] INFO [luigi-interface:128] Attempting to load from /tmp/data/CkanTarget/data.kimetrica.com/cached_ckan_local_resource_status.pickle\\n'\n",
      "b'[2019-04-22 21:47:42,701] INFO [luigi-interface:128] Attempting to load from /tmp/data/CkanTarget/data.kimetrica.com/cached_ckan_metadata_kiluigi.pickle\\n'\n",
      "b'[2019-04-22 21:47:42,704] INFO [luigi-interface:128] Attempting to load from /tmp/data/CkanTarget/data.kimetrica.com/cached_ckan_local_resource_status.pickle\\n'\n",
      "b'[2019-04-22 21:47:46,908] INFO [luigi-interface:128] Attempting to load from /tmp/data/CkanTarget/data.kimetrica.com/cached_ckan_metadata_kiluigi.pickle\\n'\n",
      "b'[2019-04-22 21:47:46,911] INFO [luigi-interface:128] Attempting to load from /tmp/data/CkanTarget/data.kimetrica.com/cached_ckan_local_resource_status.pickle\\n'\n",
      "b'[2019-04-22 21:47:51,350] INFO [luigi-interface:128] Attempting to load from /tmp/data/CkanTarget/data.kimetrica.com/cached_ckan_metadata_kiluigi.pickle\\n'\n",
      "b'[2019-04-22 21:47:51,354] INFO [luigi-interface:128] Attempting to load from /tmp/data/CkanTarget/data.kimetrica.com/cached_ckan_local_resource_status.pickle\\n'\n",
      "b'[2019-04-22 21:47:55,259] INFO [luigi-interface:211] [pid 1] Worker Worker(salt=495104788, workers=1, host=a06f7baa207f, username=root, pid=1) done      models.accessibility_model.tasks.MaskRasterFiles()\\n'\n",
      "b'[2019-04-22 21:47:55,260] INFO [luigi-interface:579] Informed scheduler that task   models.accessibility_model.tasks.MaskRasterFiles__99914b932b   has status   DONE\\n'\n",
      "b'[2019-04-22 21:47:55,261] INFO [luigi-interface:163] [pid 1] Worker Worker(salt=495104788, workers=1, host=a06f7baa207f, username=root, pid=1) running   models.accessibility_model.tasks.Rasterize()\\n'\n",
      "b'[2019-04-22 21:47:55,706] INFO [luigi-interface:128] Attempting to load from /tmp/data/CkanTarget/data.kimetrica.com/cached_ckan_metadata_kiluigi.pickle\\n'\n",
      "b'[2019-04-22 21:47:56,164] INFO [luigi-interface:128] Attempting to load from /tmp/data/CkanTarget/data.kimetrica.com/cached_ckan_metadata_kiluigi.pickle\\n'\n",
      "b'[2019-04-22 21:47:56,624] INFO [luigi-interface:128] Attempting to load from /tmp/data/CkanTarget/data.kimetrica.com/cached_ckan_metadata_kiluigi.pickle\\n'\n",
      "b'[2019-04-22 21:47:57,076] INFO [luigi-interface:128] Attempting to load from /tmp/data/CkanTarget/data.kimetrica.com/cached_ckan_metadata_kiluigi.pickle\\n'\n",
      "b'[2019-04-22 21:47:57,641] INFO [luigi-interface:128] Attempting to load from /tmp/data/CkanTarget/data.kimetrica.com/cached_ckan_metadata_kiluigi.pickle\\n'\n",
      "b'[2019-04-22 21:47:58,089] INFO [luigi-interface:128] Attempting to load from /tmp/data/CkanTarget/data.kimetrica.com/cached_ckan_metadata_kiluigi.pickle\\n'\n",
      "b'[2019-04-22 21:47:58,552] INFO [luigi-interface:128] Attempting to load from /tmp/data/CkanTarget/data.kimetrica.com/cached_ckan_metadata_kiluigi.pickle\\n'\n",
      "b'[2019-04-22 21:47:59,019] INFO [luigi-interface:128] Attempting to load from /tmp/data/CkanTarget/data.kimetrica.com/cached_ckan_metadata_kiluigi.pickle\\n'\n",
      "b'[2019-04-22 21:47:59,027] INFO [luigi-interface:128] Attempting to load from /tmp/data/CkanTarget/data.kimetrica.com/cached_ckan_local_resource_status.pickle\\n'\n",
      "b'[2019-04-22 21:48:01,730] INFO [luigi-interface:128] Attempting to load from /tmp/data/CkanTarget/data.kimetrica.com/cached_ckan_metadata_kiluigi.pickle\\n'\n",
      "b'[2019-04-22 21:48:01,734] INFO [luigi-interface:128] Attempting to load from /tmp/data/CkanTarget/data.kimetrica.com/cached_ckan_local_resource_status.pickle\\n'\n",
      "b'[2019-04-22 21:48:02,927] INFO [luigi-interface:128] Attempting to load from /tmp/data/CkanTarget/data.kimetrica.com/cached_ckan_metadata_kiluigi.pickle\\n'\n",
      "b'[2019-04-22 21:48:02,932] INFO [luigi-interface:128] Attempting to load from /tmp/data/CkanTarget/data.kimetrica.com/cached_ckan_local_resource_status.pickle\\n'\n",
      "b'[2019-04-22 21:48:04,189] INFO [luigi-interface:128] Attempting to load from /tmp/data/CkanTarget/data.kimetrica.com/cached_ckan_metadata_kiluigi.pickle\\n'\n",
      "b'[2019-04-22 21:48:04,192] INFO [luigi-interface:128] Attempting to load from /tmp/data/CkanTarget/data.kimetrica.com/cached_ckan_local_resource_status.pickle\\n'\n",
      "b'[2019-04-22 21:48:07,874] INFO [luigi-interface:211] [pid 1] Worker Worker(salt=495104788, workers=1, host=a06f7baa207f, username=root, pid=1) done      models.accessibility_model.tasks.Rasterize()\\n'\n",
      "b'[2019-04-22 21:48:07,875] INFO [luigi-interface:579] Informed scheduler that task   models.accessibility_model.tasks.Rasterize__99914b932b   has status   DONE\\n'\n",
      "b'[2019-04-22 21:48:07,876] INFO [luigi-interface:163] [pid 1] Worker Worker(salt=495104788, workers=1, host=a06f7baa207f, username=root, pid=1) running   models.accessibility_model.tasks.FrictionSurface(years=[2015], shpfile_key=boundary, shpfile_name=box.shp, fewsnet_ndvi=True, nodata=-9999.0, download_startdate=2017-08-15, download_enddate=2017-08-30, hydrology_test_size=0.33, hydrology_ind_vars=[\"landforms\", \"texture\", \"twi\", \"rain_lag10\", \"rain_lag9\", \"rain_lag8\", \"rain_lag7\", \"rain_lag6\", \"rain_lag5\", \"rain_lag4\", \"rain_lag3\", \"rain_lag2\", \"rain_lag1\"], hydrology_dep_var=soil_moisture, calculate_influence=False, date=2017-08-28, PercentOfNormalRainfall=0.5, num_days=10, adjust_for_slope=True, adjust_for_elevation=True, inundation_as_barrier=True)\\n'\n",
      "b'[2019-04-22 21:48:08,232] INFO [luigi-interface:211] [pid 1] Worker Worker(salt=495104788, workers=1, host=a06f7baa207f, username=root, pid=1) done      models.accessibility_model.tasks.FrictionSurface(years=[2015], shpfile_key=boundary, shpfile_name=box.shp, fewsnet_ndvi=True, nodata=-9999.0, download_startdate=2017-08-15, download_enddate=2017-08-30, hydrology_test_size=0.33, hydrology_ind_vars=[\"landforms\", \"texture\", \"twi\", \"rain_lag10\", \"rain_lag9\", \"rain_lag8\", \"rain_lag7\", \"rain_lag6\", \"rain_lag5\", \"rain_lag4\", \"rain_lag3\", \"rain_lag2\", \"rain_lag1\"], hydrology_dep_var=soil_moisture, calculate_influence=False, date=2017-08-28, PercentOfNormalRainfall=0.5, num_days=10, adjust_for_slope=True, adjust_for_elevation=True, inundation_as_barrier=True)\\n'\n",
      "b'[2019-04-22 21:48:08,234] INFO [luigi-interface:579] Informed scheduler that task   models.accessibility_model.tasks.FrictionSurface_0_5_True_True_1920cea9a4   has status   DONE\\n'\n",
      "b'[2019-04-22 21:48:08,234] INFO [luigi-interface:163] [pid 1] Worker Worker(salt=495104788, workers=1, host=a06f7baa207f, username=root, pid=1) running   models.accessibility_model.tasks.TravelTimeToTowns(calculate_influence=False, years=[2015], shpfile_key=boundary, shpfile_name=box.shp, fewsnet_ndvi=True, nodata=-9999.0, download_startdate=2017-08-15, download_enddate=2017-08-30, hydrology_test_size=0.33, hydrology_ind_vars=[\"landforms\", \"texture\", \"twi\", \"rain_lag10\", \"rain_lag9\", \"rain_lag8\", \"rain_lag7\", \"rain_lag6\", \"rain_lag5\", \"rain_lag4\", \"rain_lag3\", \"rain_lag2\", \"rain_lag1\"], hydrology_dep_var=soil_moisture, date=2017-08-28, PercentOfNormalRainfall=0.5, num_days=10, adjust_for_slope=True, adjust_for_elevation=True, inundation_as_barrier=True, res=1000.0, surface_unit=minutes, calculate_influence_acc=False, accessibility_dep_var=travel_time, accessibility_ind_vars=[\"landcover\", \"rivers\", \"roads\", \"national boundary\", \"dem\", \"slope\", \"railway\", \"inundation\"])\\n'\n",
      "b'[2019-04-22 21:48:08,245] WARNING [rasterio._gdal:130] CPLE_NotSupported in driver GTiff does not support open option MODE\\n'\n",
      "b'[2019-04-22 21:48:08,252] WARNING [rasterio._gdal:130] CPLE_NotSupported in driver GTiff does not support open option MODE\\n'\n",
      "b'[2019-04-22 21:58:30,506] INFO [luigi-interface:211] [pid 1] Worker Worker(salt=495104788, workers=1, host=a06f7baa207f, username=root, pid=1) done      models.accessibility_model.tasks.TravelTimeToTowns(calculate_influence=False, years=[2015], shpfile_key=boundary, shpfile_name=box.shp, fewsnet_ndvi=True, nodata=-9999.0, download_startdate=2017-08-15, download_enddate=2017-08-30, hydrology_test_size=0.33, hydrology_ind_vars=[\"landforms\", \"texture\", \"twi\", \"rain_lag10\", \"rain_lag9\", \"rain_lag8\", \"rain_lag7\", \"rain_lag6\", \"rain_lag5\", \"rain_lag4\", \"rain_lag3\", \"rain_lag2\", \"rain_lag1\"], hydrology_dep_var=soil_moisture, date=2017-08-28, PercentOfNormalRainfall=0.5, num_days=10, adjust_for_slope=True, adjust_for_elevation=True, inundation_as_barrier=True, res=1000.0, surface_unit=minutes, calculate_influence_acc=False, accessibility_dep_var=travel_time, accessibility_ind_vars=[\"landcover\", \"rivers\", \"roads\", \"national boundary\", \"dem\", \"slope\", \"railway\", \"inundation\"])\\n'\n",
      "b'[2019-04-22 21:58:30,508] INFO [luigi-interface:579] Informed scheduler that task   models.accessibility_model.tasks.TravelTimeToTowns_0_5_travel_time___landcover____r_d9bb3221f0   has status   DONE\\n'\n",
      "b'[2019-04-22 21:58:30,509] INFO [luigi-interface:163] [pid 1] Worker Worker(salt=495104788, workers=1, host=a06f7baa207f, username=root, pid=1) running   models.economic_model.data_geo_location.GetModeledRasterData(calculate_influence=False, years=[2015], shpfile_key=boundary, shpfile_name=box.shp, fewsnet_ndvi=True, nodata=-9999.0, download_startdate=2017-08-15, download_enddate=2017-08-30, hydrology_test_size=0.33, hydrology_ind_vars=[\"landforms\", \"texture\", \"twi\", \"rain_lag10\", \"rain_lag9\", \"rain_lag8\", \"rain_lag7\", \"rain_lag6\", \"rain_lag5\", \"rain_lag4\", \"rain_lag3\", \"rain_lag2\", \"rain_lag1\"], hydrology_dep_var=soil_moisture, date=2017-08-28, PercentOfNormalRainfall=0.5, num_days=10, adjust_for_slope=True, adjust_for_elevation=True, inundation_as_barrier=True, res=1000.0, surface_unit=minutes, calculate_influence_acc=False, accessibility_dep_var=travel_time, accessibility_ind_vars=[\"landcover\", \"rivers\", \"roads\", \"national boundary\", \"dem\", \"slope\", \"railway\", \"inundation\"])\\n'\n",
      "b'[2019-04-22 21:58:31,040] INFO [luigi-interface:128] Attempting to load from /tmp/data/CkanTarget/data.kimetrica.com/cached_ckan_metadata_kiluigi.pickle\\n'\n",
      "b'[2019-04-22 21:58:31,646] INFO [luigi-interface:128] Attempting to load from /tmp/data/CkanTarget/data.kimetrica.com/cached_ckan_metadata_kiluigi.pickle\\n'\n",
      "b'[2019-04-22 21:58:32,179] INFO [luigi-interface:128] Attempting to load from /tmp/data/CkanTarget/data.kimetrica.com/cached_ckan_metadata_kiluigi.pickle\\n'\n",
      "b'[2019-04-22 21:58:32,696] INFO [luigi-interface:128] Attempting to load from /tmp/data/CkanTarget/data.kimetrica.com/cached_ckan_metadata_kiluigi.pickle\\n'\n",
      "b'[2019-04-22 21:58:33,222] INFO [luigi-interface:128] Attempting to load from /tmp/data/CkanTarget/data.kimetrica.com/cached_ckan_metadata_kiluigi.pickle\\n'\n",
      "b'[2019-04-22 21:58:33,692] INFO [luigi-interface:128] Attempting to load from /tmp/data/CkanTarget/data.kimetrica.com/cached_ckan_metadata_kiluigi.pickle\\n'\n",
      "b'[2019-04-22 21:58:33,698] INFO [luigi-interface:128] Attempting to load from /tmp/data/CkanTarget/data.kimetrica.com/cached_ckan_local_resource_status.pickle\\n'\n",
      "b'[2019-04-22 21:59:38,220] INFO [luigi-interface:128] Attempting to load from /tmp/data/CkanTarget/data.kimetrica.com/cached_ckan_metadata_kiluigi.pickle\\n'\n",
      "b'[2019-04-22 21:59:38,224] INFO [luigi-interface:128] Attempting to load from /tmp/data/CkanTarget/data.kimetrica.com/cached_ckan_local_resource_status.pickle\\n'\n",
      "b'[2019-04-22 22:01:43,003] INFO [luigi-interface:128] Attempting to load from /tmp/data/CkanTarget/data.kimetrica.com/cached_ckan_metadata_kiluigi.pickle\\n'\n",
      "b'[2019-04-22 22:01:43,007] INFO [luigi-interface:128] Attempting to load from /tmp/data/CkanTarget/data.kimetrica.com/cached_ckan_local_resource_status.pickle\\n'\n",
      "b'[2019-04-22 22:01:44,272] INFO [luigi-interface:128] Attempting to load from /tmp/data/CkanTarget/data.kimetrica.com/cached_ckan_metadata_kiluigi.pickle\\n'\n",
      "b'[2019-04-22 22:01:44,280] INFO [luigi-interface:128] Attempting to load from /tmp/data/CkanTarget/data.kimetrica.com/cached_ckan_local_resource_status.pickle\\n'\n",
      "b'[2019-04-22 22:01:45,981] INFO [luigi-interface:128] Attempting to load from /tmp/data/CkanTarget/data.kimetrica.com/cached_ckan_metadata_kiluigi.pickle\\n'\n",
      "b'[2019-04-22 22:01:45,984] INFO [luigi-interface:128] Attempting to load from /tmp/data/CkanTarget/data.kimetrica.com/cached_ckan_local_resource_status.pickle\\n'\n",
      "b'[2019-04-22 22:01:46,965] INFO [luigi-interface:211] [pid 1] Worker Worker(salt=495104788, workers=1, host=a06f7baa207f, username=root, pid=1) done      models.economic_model.data_geo_location.GetModeledRasterData(calculate_influence=False, years=[2015], shpfile_key=boundary, shpfile_name=box.shp, fewsnet_ndvi=True, nodata=-9999.0, download_startdate=2017-08-15, download_enddate=2017-08-30, hydrology_test_size=0.33, hydrology_ind_vars=[\"landforms\", \"texture\", \"twi\", \"rain_lag10\", \"rain_lag9\", \"rain_lag8\", \"rain_lag7\", \"rain_lag6\", \"rain_lag5\", \"rain_lag4\", \"rain_lag3\", \"rain_lag2\", \"rain_lag1\"], hydrology_dep_var=soil_moisture, date=2017-08-28, PercentOfNormalRainfall=0.5, num_days=10, adjust_for_slope=True, adjust_for_elevation=True, inundation_as_barrier=True, res=1000.0, surface_unit=minutes, calculate_influence_acc=False, accessibility_dep_var=travel_time, accessibility_ind_vars=[\"landcover\", \"rivers\", \"roads\", \"national boundary\", \"dem\", \"slope\", \"railway\", \"inundation\"])\\n'\n",
      "b'[2019-04-22 22:01:46,966] INFO [luigi-interface:579] Informed scheduler that task   models.economic_model.data_geo_location.GetModeledRasterData_0_5_travel_time___landcover____r_d9bb3221f0   has status   DONE\\n'\n",
      "b'[2019-04-22 22:01:46,967] INFO [luigi-interface:163] [pid 1] Worker Worker(salt=495104788, workers=1, host=a06f7baa207f, username=root, pid=1) running   models.economic_model.tasks.RegridRasterForTrainingData(calculate_influence=False, years=[2015], shpfile_key=boundary, shpfile_name=box.shp, fewsnet_ndvi=True, nodata=-9999.0, download_startdate=2017-08-15, download_enddate=2017-08-30, hydrology_test_size=0.33, hydrology_ind_vars=[\"landforms\", \"texture\", \"twi\", \"rain_lag10\", \"rain_lag9\", \"rain_lag8\", \"rain_lag7\", \"rain_lag6\", \"rain_lag5\", \"rain_lag4\", \"rain_lag3\", \"rain_lag2\", \"rain_lag1\"], hydrology_dep_var=soil_moisture, date=2017-08-28, PercentOfNormalRainfall=0.5, num_days=10, adjust_for_slope=True, adjust_for_elevation=True, inundation_as_barrier=True, res=1000.0, surface_unit=minutes, calculate_influence_acc=False, accessibility_dep_var=travel_time, accessibility_ind_vars=[\"landcover\", \"rivers\", \"roads\", \"national boundary\", \"dem\", \"slope\", \"railway\", \"inundation\"])\\n'\n",
      "b'[2019-04-22 22:01:47,353] INFO [luigi-interface:211] [pid 1] Worker Worker(salt=495104788, workers=1, host=a06f7baa207f, username=root, pid=1) done      models.economic_model.tasks.RegridRasterForTrainingData(calculate_influence=False, years=[2015], shpfile_key=boundary, shpfile_name=box.shp, fewsnet_ndvi=True, nodata=-9999.0, download_startdate=2017-08-15, download_enddate=2017-08-30, hydrology_test_size=0.33, hydrology_ind_vars=[\"landforms\", \"texture\", \"twi\", \"rain_lag10\", \"rain_lag9\", \"rain_lag8\", \"rain_lag7\", \"rain_lag6\", \"rain_lag5\", \"rain_lag4\", \"rain_lag3\", \"rain_lag2\", \"rain_lag1\"], hydrology_dep_var=soil_moisture, date=2017-08-28, PercentOfNormalRainfall=0.5, num_days=10, adjust_for_slope=True, adjust_for_elevation=True, inundation_as_barrier=True, res=1000.0, surface_unit=minutes, calculate_influence_acc=False, accessibility_dep_var=travel_time, accessibility_ind_vars=[\"landcover\", \"rivers\", \"roads\", \"national boundary\", \"dem\", \"slope\", \"railway\", \"inundation\"])\\n'\n",
      "b'[2019-04-22 22:01:47,355] INFO [luigi-interface:579] Informed scheduler that task   models.economic_model.tasks.RegridRasterForTrainingData_0_5_travel_time___landcover____r_d9bb3221f0   has status   DONE\\n'\n",
      "b'[2019-04-22 22:01:47,356] INFO [luigi-interface:163] [pid 1] Worker Worker(salt=495104788, workers=1, host=a06f7baa207f, username=root, pid=1) running   models.economic_model.tasks.ConvertRasterToCSV(calculate_influence=False, years=[2015], shpfile_key=boundary, shpfile_name=box.shp, fewsnet_ndvi=True, nodata=-9999.0, download_startdate=2017-08-15, download_enddate=2017-08-30, hydrology_test_size=0.33, hydrology_ind_vars=[\"landforms\", \"texture\", \"twi\", \"rain_lag10\", \"rain_lag9\", \"rain_lag8\", \"rain_lag7\", \"rain_lag6\", \"rain_lag5\", \"rain_lag4\", \"rain_lag3\", \"rain_lag2\", \"rain_lag1\"], hydrology_dep_var=soil_moisture, date=2017-08-28, PercentOfNormalRainfall=0.5, num_days=10, adjust_for_slope=True, adjust_for_elevation=True, inundation_as_barrier=True, res=1000.0, surface_unit=minutes, calculate_influence_acc=False, accessibility_dep_var=travel_time, accessibility_ind_vars=[\"landcover\", \"rivers\", \"roads\", \"national boundary\", \"dem\", \"slope\", \"railway\", \"inundation\"])\\n'\n",
      "b'[2019-04-22 22:01:47,443] INFO [luigi-interface:211] [pid 1] Worker Worker(salt=495104788, workers=1, host=a06f7baa207f, username=root, pid=1) done      models.economic_model.tasks.ConvertRasterToCSV(calculate_influence=False, years=[2015], shpfile_key=boundary, shpfile_name=box.shp, fewsnet_ndvi=True, nodata=-9999.0, download_startdate=2017-08-15, download_enddate=2017-08-30, hydrology_test_size=0.33, hydrology_ind_vars=[\"landforms\", \"texture\", \"twi\", \"rain_lag10\", \"rain_lag9\", \"rain_lag8\", \"rain_lag7\", \"rain_lag6\", \"rain_lag5\", \"rain_lag4\", \"rain_lag3\", \"rain_lag2\", \"rain_lag1\"], hydrology_dep_var=soil_moisture, date=2017-08-28, PercentOfNormalRainfall=0.5, num_days=10, adjust_for_slope=True, adjust_for_elevation=True, inundation_as_barrier=True, res=1000.0, surface_unit=minutes, calculate_influence_acc=False, accessibility_dep_var=travel_time, accessibility_ind_vars=[\"landcover\", \"rivers\", \"roads\", \"national boundary\", \"dem\", \"slope\", \"railway\", \"inundation\"])\\n'\n",
      "b'[2019-04-22 22:01:47,446] INFO [luigi-interface:579] Informed scheduler that task   models.economic_model.tasks.ConvertRasterToCSV_0_5_travel_time___landcover____r_d9bb3221f0   has status   DONE\\n'\n",
      "b'[2019-04-22 22:01:47,446] INFO [luigi-interface:163] [pid 1] Worker Worker(salt=495104788, workers=1, host=a06f7baa207f, username=root, pid=1) running   models.economic_model.tasks.ReadHouseholdEconData(timeout=3600, PercentOfNormalRainfall=0.5)\\n'\n",
      "b'[2019-04-22 22:01:47,922] INFO [luigi-interface:128] Attempting to load from /tmp/data/CkanTarget/data.kimetrica.com/cached_ckan_metadata_kiluigi.pickle\\n'\n",
      "b'[2019-04-22 22:01:48,547] INFO [luigi-interface:128] Attempting to load from /tmp/data/CkanTarget/data.kimetrica.com/cached_ckan_metadata_kiluigi.pickle\\n'\n",
      "b'[2019-04-22 22:01:49,060] INFO [luigi-interface:128] Attempting to load from /tmp/data/CkanTarget/data.kimetrica.com/cached_ckan_metadata_kiluigi.pickle\\n'\n",
      "b'[2019-04-22 22:01:49,539] INFO [luigi-interface:128] Attempting to load from /tmp/data/CkanTarget/data.kimetrica.com/cached_ckan_metadata_kiluigi.pickle\\n'\n",
      "b'[2019-04-22 22:01:49,543] INFO [luigi-interface:128] Attempting to load from /tmp/data/CkanTarget/data.kimetrica.com/cached_ckan_local_resource_status.pickle\\n'\n",
      "b'[2019-04-22 22:01:50,029] INFO [luigi-interface:128] Attempting to load from /tmp/data/CkanTarget/data.kimetrica.com/cached_ckan_metadata_kiluigi.pickle\\n'\n",
      "b'[2019-04-22 22:01:50,526] INFO [luigi-interface:128] Attempting to load from /tmp/data/CkanTarget/data.kimetrica.com/cached_ckan_metadata_kiluigi.pickle\\n'\n",
      "b'[2019-04-22 22:01:50,530] INFO [luigi-interface:128] Attempting to load from /tmp/data/CkanTarget/data.kimetrica.com/cached_ckan_local_resource_status.pickle\\n'\n",
      "b'[2019-04-22 22:01:50,540] INFO [luigi-interface:211] [pid 1] Worker Worker(salt=495104788, workers=1, host=a06f7baa207f, username=root, pid=1) done      models.economic_model.tasks.ReadHouseholdEconData(timeout=3600, PercentOfNormalRainfall=0.5)\\n'\n",
      "b'[2019-04-22 22:01:50,541] INFO [luigi-interface:579] Informed scheduler that task   models.economic_model.tasks.ReadHouseholdEconData_0_5_3600_b18100f335   has status   DONE\\n'\n",
      "b'[2019-04-22 22:01:50,542] INFO [luigi-interface:163] [pid 1] Worker Worker(salt=495104788, workers=1, host=a06f7baa207f, username=root, pid=1) running   models.economic_model.tasks.CleanHouseholdEconData(timeout=3600, PercentOfNormalRainfall=0.5, economic_dep_var=consumption_expenditure)\\n'\n",
      "b'[2019-04-22 22:01:50,992] INFO [luigi-interface:128] Attempting to load from /tmp/data/CkanTarget/data.kimetrica.com/cached_ckan_metadata_kiluigi.pickle\\n'\n",
      "b'[2019-04-22 22:01:51,463] INFO [luigi-interface:128] Attempting to load from /tmp/data/CkanTarget/data.kimetrica.com/cached_ckan_metadata_kiluigi.pickle\\n'\n",
      "b'[2019-04-22 22:01:51,466] INFO [luigi-interface:128] Attempting to load from /tmp/data/CkanTarget/data.kimetrica.com/cached_ckan_local_resource_status.pickle\\n'\n",
      "b'[2019-04-22 22:01:51,923] INFO [luigi-interface:128] Attempting to load from /tmp/data/CkanTarget/data.kimetrica.com/cached_ckan_metadata_kiluigi.pickle\\n'\n",
      "b'[2019-04-22 22:01:52,487] INFO [luigi-interface:128] Attempting to load from /tmp/data/CkanTarget/data.kimetrica.com/cached_ckan_metadata_kiluigi.pickle\\n'\n",
      "b'[2019-04-22 22:01:52,491] INFO [luigi-interface:128] Attempting to load from /tmp/data/CkanTarget/data.kimetrica.com/cached_ckan_local_resource_status.pickle\\n'\n",
      "b'[2019-04-22 22:01:52,519] INFO [luigi-interface:211] [pid 1] Worker Worker(salt=495104788, workers=1, host=a06f7baa207f, username=root, pid=1) done      models.economic_model.tasks.CleanHouseholdEconData(timeout=3600, PercentOfNormalRainfall=0.5, economic_dep_var=consumption_expenditure)\\n'\n",
      "b'[2019-04-22 22:01:52,520] INFO [luigi-interface:579] Informed scheduler that task   models.economic_model.tasks.CleanHouseholdEconData_0_5_consumption_expe_3600_c04bd0a6b0   has status   DONE\\n'\n",
      "b'[2019-04-22 22:01:52,521] INFO [luigi-interface:163] [pid 1] Worker Worker(salt=495104788, workers=1, host=a06f7baa207f, username=root, pid=1) running   models.economic_model.tasks.TrainEconomicModel(timeout=3600, PercentOfNormalRainfall=0.5, economic_dep_var=consumption_expenditure, economic_ind_vars=[\"accessibility\", \"night_lights\", \"population\", \"landcover\"], calculate_influence=False, economic_model_grid_search=False)\\n'\n",
      "b'[2019-04-22 22:02:11,770] INFO [luigi-interface:211] [pid 1] Worker Worker(salt=495104788, workers=1, host=a06f7baa207f, username=root, pid=1) done      models.economic_model.tasks.TrainEconomicModel(timeout=3600, PercentOfNormalRainfall=0.5, economic_dep_var=consumption_expenditure, economic_ind_vars=[\"accessibility\", \"night_lights\", \"population\", \"landcover\"], calculate_influence=False, economic_model_grid_search=False)\\n'\n",
      "b'[2019-04-22 22:02:11,772] INFO [luigi-interface:579] Informed scheduler that task   models.economic_model.tasks.TrainEconomicModel_0_5_False_consumption_expe_4182119b13   has status   DONE\\n'\n",
      "b'[2019-04-22 22:02:11,773] INFO [luigi-interface:163] [pid 1] Worker Worker(salt=495104788, workers=1, host=a06f7baa207f, username=root, pid=1) running   models.economic_model.tasks.RunEconomicModel(timeout=3600, years=[2015], shpfile_key=boundary, shpfile_name=box.shp, fewsnet_ndvi=True, nodata=-9999.0, download_startdate=2017-08-15, download_enddate=2017-08-30, hydrology_test_size=0.33, hydrology_ind_vars=[\"landforms\", \"texture\", \"twi\", \"rain_lag10\", \"rain_lag9\", \"rain_lag8\", \"rain_lag7\", \"rain_lag6\", \"rain_lag5\", \"rain_lag4\", \"rain_lag3\", \"rain_lag2\", \"rain_lag1\"], hydrology_dep_var=soil_moisture, date=2017-08-28, num_days=10, adjust_for_slope=True, adjust_for_elevation=True, inundation_as_barrier=True, res=1000.0, surface_unit=minutes, calculate_influence_acc=False, accessibility_dep_var=travel_time, accessibility_ind_vars=[\"landcover\", \"rivers\", \"roads\", \"national boundary\", \"dem\", \"slope\", \"railway\", \"inundation\"], PercentOfNormalRainfall=0.5, economic_dep_var=consumption_expenditure, economic_ind_vars=[\"accessibility\", \"night_lights\", \"population\", \"landcover\"], calculate_influence=False, economic_model_grid_search=False, predStartYear=2017)\\n'\n",
      "b'[2019-04-22 22:03:01,219] INFO [luigi-interface:211] [pid 1] Worker Worker(salt=495104788, workers=1, host=a06f7baa207f, username=root, pid=1) done      models.economic_model.tasks.RunEconomicModel(timeout=3600, years=[2015], shpfile_key=boundary, shpfile_name=box.shp, fewsnet_ndvi=True, nodata=-9999.0, download_startdate=2017-08-15, download_enddate=2017-08-30, hydrology_test_size=0.33, hydrology_ind_vars=[\"landforms\", \"texture\", \"twi\", \"rain_lag10\", \"rain_lag9\", \"rain_lag8\", \"rain_lag7\", \"rain_lag6\", \"rain_lag5\", \"rain_lag4\", \"rain_lag3\", \"rain_lag2\", \"rain_lag1\"], hydrology_dep_var=soil_moisture, date=2017-08-28, num_days=10, adjust_for_slope=True, adjust_for_elevation=True, inundation_as_barrier=True, res=1000.0, surface_unit=minutes, calculate_influence_acc=False, accessibility_dep_var=travel_time, accessibility_ind_vars=[\"landcover\", \"rivers\", \"roads\", \"national boundary\", \"dem\", \"slope\", \"railway\", \"inundation\"], PercentOfNormalRainfall=0.5, economic_dep_var=consumption_expenditure, economic_ind_vars=[\"accessibility\", \"night_lights\", \"population\", \"landcover\"], calculate_influence=False, economic_model_grid_search=False, predStartYear=2017)\\n'\n",
      "b'[2019-04-22 22:03:01,221] INFO [luigi-interface:579] Informed scheduler that task   models.economic_model.tasks.RunEconomicModel_0_5_travel_time___landcover____r_050909bca9   has status   DONE\\n'\n",
      "b'[2019-04-22 22:03:01,222] INFO [luigi-interface:163] [pid 1] Worker Worker(salt=495104788, workers=1, host=a06f7baa207f, username=root, pid=1) running   models.economic_model.tasks.OutputEconomicModelResults(timeout=3600, years=[2015], shpfile_key=boundary, shpfile_name=box.shp, fewsnet_ndvi=True, nodata=-9999.0, download_startdate=2017-08-15, download_enddate=2017-08-30, hydrology_test_size=0.33, hydrology_ind_vars=[\"landforms\", \"texture\", \"twi\", \"rain_lag10\", \"rain_lag9\", \"rain_lag8\", \"rain_lag7\", \"rain_lag6\", \"rain_lag5\", \"rain_lag4\", \"rain_lag3\", \"rain_lag2\", \"rain_lag1\"], hydrology_dep_var=soil_moisture, date=2017-08-28, num_days=10, adjust_for_slope=True, adjust_for_elevation=True, inundation_as_barrier=True, res=1000.0, surface_unit=minutes, calculate_influence_acc=False, accessibility_dep_var=travel_time, accessibility_ind_vars=[\"landcover\", \"rivers\", \"roads\", \"national boundary\", \"dem\", \"slope\", \"railway\", \"inundation\"], PercentOfNormalRainfall=0.5, economic_dep_var=consumption_expenditure, economic_ind_vars=[\"accessibility\", \"night_lights\", \"population\", \"landcover\"], calculate_influence=False, economic_model_grid_search=False, predStartYear=2017)\\n'\n",
      "b'[2019-04-22 22:03:10,567] INFO [luigi-interface:211] [pid 1] Worker Worker(salt=495104788, workers=1, host=a06f7baa207f, username=root, pid=1) done      models.economic_model.tasks.OutputEconomicModelResults(timeout=3600, years=[2015], shpfile_key=boundary, shpfile_name=box.shp, fewsnet_ndvi=True, nodata=-9999.0, download_startdate=2017-08-15, download_enddate=2017-08-30, hydrology_test_size=0.33, hydrology_ind_vars=[\"landforms\", \"texture\", \"twi\", \"rain_lag10\", \"rain_lag9\", \"rain_lag8\", \"rain_lag7\", \"rain_lag6\", \"rain_lag5\", \"rain_lag4\", \"rain_lag3\", \"rain_lag2\", \"rain_lag1\"], hydrology_dep_var=soil_moisture, date=2017-08-28, num_days=10, adjust_for_slope=True, adjust_for_elevation=True, inundation_as_barrier=True, res=1000.0, surface_unit=minutes, calculate_influence_acc=False, accessibility_dep_var=travel_time, accessibility_ind_vars=[\"landcover\", \"rivers\", \"roads\", \"national boundary\", \"dem\", \"slope\", \"railway\", \"inundation\"], PercentOfNormalRainfall=0.5, economic_dep_var=consumption_expenditure, economic_ind_vars=[\"accessibility\", \"night_lights\", \"population\", \"landcover\"], calculate_influence=False, economic_model_grid_search=False, predStartYear=2017)\\n'\n",
      "b'[2019-04-22 22:03:10,569] INFO [luigi-interface:579] Informed scheduler that task   models.economic_model.tasks.OutputEconomicModelResults_0_5_travel_time___landcover____r_050909bca9   has status   DONE\\n'\n",
      "b'[2019-04-22 22:03:10,570] INFO [luigi-interface:163] [pid 1] Worker Worker(salt=495104788, workers=1, host=a06f7baa207f, username=root, pid=1) running   models.malnutrition_model.tasks.MalnutDF_infer(timeout=3600, years=[2015], shpfile_key=boundary, shpfile_name=box.shp, fewsnet_ndvi=True, nodata=-9999.0, download_startdate=2017-08-15, download_enddate=2017-08-30, hydrology_test_size=0.33, hydrology_ind_vars=[\"landforms\", \"texture\", \"twi\", \"rain_lag10\", \"rain_lag9\", \"rain_lag8\", \"rain_lag7\", \"rain_lag6\", \"rain_lag5\", \"rain_lag4\", \"rain_lag3\", \"rain_lag2\", \"rain_lag1\"], hydrology_dep_var=soil_moisture, date=2017-08-28, num_days=10, adjust_for_slope=True, adjust_for_elevation=True, inundation_as_barrier=True, res=1000.0, surface_unit=minutes, calculate_influence_acc=False, accessibility_dep_var=travel_time, accessibility_ind_vars=[\"landcover\", \"rivers\", \"roads\", \"national boundary\", \"dem\", \"slope\", \"railway\", \"inundation\"], economic_dep_var=consumption_expenditure, economic_ind_vars=[\"accessibility\", \"night_lights\", \"population\", \"landcover\"], calculate_influence=False, economic_model_grid_search=False, predStartYear=2017, year_in=2017, month_in=May, PercentOfNormalRainfall=0.5)\\n'\n",
      "b'[2019-04-22 22:03:11,050] INFO [luigi-interface:128] Attempting to load from /tmp/data/CkanTarget/data.kimetrica.com/cached_ckan_metadata_kiluigi.pickle\\n'\n",
      "b'[2019-04-22 22:03:11,541] INFO [luigi-interface:128] Attempting to load from /tmp/data/CkanTarget/data.kimetrica.com/cached_ckan_metadata_kiluigi.pickle\\n'\n",
      "b'[2019-04-22 22:03:11,545] INFO [luigi-interface:128] Attempting to load from /tmp/data/CkanTarget/data.kimetrica.com/cached_ckan_local_resource_status.pickle\\n'\n",
      "b'this is not in crop df: abyei region\\n'\n",
      "b'this not in ndvi: abyei region\\n'\n",
      "b'this is not in chirps df: abyei region\\n'\n",
      "b'[2019-04-22 22:03:20,037] INFO [luigi-interface:211] [pid 1] Worker Worker(salt=495104788, workers=1, host=a06f7baa207f, username=root, pid=1) done      models.malnutrition_model.tasks.MalnutDF_infer(timeout=3600, years=[2015], shpfile_key=boundary, shpfile_name=box.shp, fewsnet_ndvi=True, nodata=-9999.0, download_startdate=2017-08-15, download_enddate=2017-08-30, hydrology_test_size=0.33, hydrology_ind_vars=[\"landforms\", \"texture\", \"twi\", \"rain_lag10\", \"rain_lag9\", \"rain_lag8\", \"rain_lag7\", \"rain_lag6\", \"rain_lag5\", \"rain_lag4\", \"rain_lag3\", \"rain_lag2\", \"rain_lag1\"], hydrology_dep_var=soil_moisture, date=2017-08-28, num_days=10, adjust_for_slope=True, adjust_for_elevation=True, inundation_as_barrier=True, res=1000.0, surface_unit=minutes, calculate_influence_acc=False, accessibility_dep_var=travel_time, accessibility_ind_vars=[\"landcover\", \"rivers\", \"roads\", \"national boundary\", \"dem\", \"slope\", \"railway\", \"inundation\"], economic_dep_var=consumption_expenditure, economic_ind_vars=[\"accessibility\", \"night_lights\", \"population\", \"landcover\"], calculate_influence=False, economic_model_grid_search=False, predStartYear=2017, year_in=2017, month_in=May, PercentOfNormalRainfall=0.5)\\n'\n",
      "b'[2019-04-22 22:03:20,038] INFO [luigi-interface:579] Informed scheduler that task   models.malnutrition_model.tasks.MalnutDF_infer_0_5_travel_time___landcover____r_9af5694858   has status   DONE\\n'\n",
      "b'[2019-04-22 22:03:20,039] INFO [luigi-interface:163] [pid 1] Worker Worker(salt=495104788, workers=1, host=a06f7baa207f, username=root, pid=1) running   models.malnutrition_model.tasks.VarsStandardized_infer(timeout=3600, years=[2015], shpfile_key=boundary, shpfile_name=box.shp, fewsnet_ndvi=True, nodata=-9999.0, download_startdate=2017-08-15, download_enddate=2017-08-30, hydrology_test_size=0.33, hydrology_ind_vars=[\"landforms\", \"texture\", \"twi\", \"rain_lag10\", \"rain_lag9\", \"rain_lag8\", \"rain_lag7\", \"rain_lag6\", \"rain_lag5\", \"rain_lag4\", \"rain_lag3\", \"rain_lag2\", \"rain_lag1\"], hydrology_dep_var=soil_moisture, date=2017-08-28, num_days=10, adjust_for_slope=True, adjust_for_elevation=True, inundation_as_barrier=True, res=1000.0, surface_unit=minutes, calculate_influence_acc=False, accessibility_dep_var=travel_time, accessibility_ind_vars=[\"landcover\", \"rivers\", \"roads\", \"national boundary\", \"dem\", \"slope\", \"railway\", \"inundation\"], economic_dep_var=consumption_expenditure, economic_ind_vars=[\"accessibility\", \"night_lights\", \"population\", \"landcover\"], calculate_influence=False, economic_model_grid_search=False, predStartYear=2017, year_in=2017, month_in=May, PercentOfNormalRainfall=0.5)\\n'\n",
      "b'[2019-04-22 22:03:20,228] INFO [luigi-interface:211] [pid 1] Worker Worker(salt=495104788, workers=1, host=a06f7baa207f, username=root, pid=1) done      models.malnutrition_model.tasks.VarsStandardized_infer(timeout=3600, years=[2015], shpfile_key=boundary, shpfile_name=box.shp, fewsnet_ndvi=True, nodata=-9999.0, download_startdate=2017-08-15, download_enddate=2017-08-30, hydrology_test_size=0.33, hydrology_ind_vars=[\"landforms\", \"texture\", \"twi\", \"rain_lag10\", \"rain_lag9\", \"rain_lag8\", \"rain_lag7\", \"rain_lag6\", \"rain_lag5\", \"rain_lag4\", \"rain_lag3\", \"rain_lag2\", \"rain_lag1\"], hydrology_dep_var=soil_moisture, date=2017-08-28, num_days=10, adjust_for_slope=True, adjust_for_elevation=True, inundation_as_barrier=True, res=1000.0, surface_unit=minutes, calculate_influence_acc=False, accessibility_dep_var=travel_time, accessibility_ind_vars=[\"landcover\", \"rivers\", \"roads\", \"national boundary\", \"dem\", \"slope\", \"railway\", \"inundation\"], economic_dep_var=consumption_expenditure, economic_ind_vars=[\"accessibility\", \"night_lights\", \"population\", \"landcover\"], calculate_influence=False, economic_model_grid_search=False, predStartYear=2017, year_in=2017, month_in=May, PercentOfNormalRainfall=0.5)\\n'\n",
      "b'[2019-04-22 22:03:20,230] INFO [luigi-interface:579] Informed scheduler that task   models.malnutrition_model.tasks.VarsStandardized_infer_0_5_travel_time___landcover____r_9af5694858   has status   DONE\\n'\n",
      "b'[2019-04-22 22:03:20,230] INFO [luigi-interface:163] [pid 1] Worker Worker(salt=495104788, workers=1, host=a06f7baa207f, username=root, pid=1) running   models.malnutrition_model.tasks.MalnutInference(timeout=3600, years=[2015], shpfile_key=boundary, shpfile_name=box.shp, fewsnet_ndvi=True, nodata=-9999.0, download_startdate=2017-08-15, download_enddate=2017-08-30, hydrology_test_size=0.33, hydrology_ind_vars=[\"landforms\", \"texture\", \"twi\", \"rain_lag10\", \"rain_lag9\", \"rain_lag8\", \"rain_lag7\", \"rain_lag6\", \"rain_lag5\", \"rain_lag4\", \"rain_lag3\", \"rain_lag2\", \"rain_lag1\"], hydrology_dep_var=soil_moisture, date=2017-08-28, num_days=10, adjust_for_slope=True, adjust_for_elevation=True, inundation_as_barrier=True, res=1000.0, surface_unit=minutes, calculate_influence_acc=False, accessibility_dep_var=travel_time, accessibility_ind_vars=[\"landcover\", \"rivers\", \"roads\", \"national boundary\", \"dem\", \"slope\", \"railway\", \"inundation\"], economic_dep_var=consumption_expenditure, economic_ind_vars=[\"accessibility\", \"night_lights\", \"population\", \"landcover\"], calculate_influence=False, economic_model_grid_search=False, predStartYear=2017, year_in=2017, month_in=May, PercentOfNormalRainfall=0.5)\\n'\n",
      "b'[2019-04-22 22:03:20,235] INFO [luigi-interface:128] Attempting to load from /tmp/data/SerializerTarget/influence_grid_GAM_gbm_model/20190522214537.pickle\\n'\n",
      "b'[2019-04-22 22:03:20,236] INFO [luigi-interface:128] Attempting to load from /tmp/data/SerializerTarget/influence_grid_GAM_gbm_model/20190522214537.pickle\\n'\n",
      "b'[2019-04-22 22:03:20,237] INFO [luigi-interface:128] Attempting to load from /tmp/data/SerializerTarget/influence_grid_SAM_gbm_model/20190522214554.pickle\\n'\n",
      "b'[2019-04-22 22:03:20,237] INFO [luigi-interface:128] Attempting to load from /tmp/data/SerializerTarget/influence_grid_SAM_gbm_model/20190522214554.pickle\\n'\n",
      "b'[2019-04-22 22:03:21,261] INFO [luigi-interface:211] [pid 1] Worker Worker(salt=495104788, workers=1, host=a06f7baa207f, username=root, pid=1) done      models.malnutrition_model.tasks.MalnutInference(timeout=3600, years=[2015], shpfile_key=boundary, shpfile_name=box.shp, fewsnet_ndvi=True, nodata=-9999.0, download_startdate=2017-08-15, download_enddate=2017-08-30, hydrology_test_size=0.33, hydrology_ind_vars=[\"landforms\", \"texture\", \"twi\", \"rain_lag10\", \"rain_lag9\", \"rain_lag8\", \"rain_lag7\", \"rain_lag6\", \"rain_lag5\", \"rain_lag4\", \"rain_lag3\", \"rain_lag2\", \"rain_lag1\"], hydrology_dep_var=soil_moisture, date=2017-08-28, num_days=10, adjust_for_slope=True, adjust_for_elevation=True, inundation_as_barrier=True, res=1000.0, surface_unit=minutes, calculate_influence_acc=False, accessibility_dep_var=travel_time, accessibility_ind_vars=[\"landcover\", \"rivers\", \"roads\", \"national boundary\", \"dem\", \"slope\", \"railway\", \"inundation\"], economic_dep_var=consumption_expenditure, economic_ind_vars=[\"accessibility\", \"night_lights\", \"population\", \"landcover\"], calculate_influence=False, economic_model_grid_search=False, predStartYear=2017, year_in=2017, month_in=May, PercentOfNormalRainfall=0.5)\\n'\n",
      "b'[2019-04-22 22:03:21,263] INFO [luigi-interface:579] Informed scheduler that task   models.malnutrition_model.tasks.MalnutInference_0_5_travel_time___landcover____r_9af5694858   has status   DONE\\n'\n",
      "b'[2019-04-22 22:03:21,264] INFO [luigi-interface:163] [pid 1] Worker Worker(salt=495104788, workers=1, host=a06f7baa207f, username=root, pid=1) running   models.malnutrition_model.tasks.MalnutritionRaster(timeout=3600, years=[2015], shpfile_key=boundary, shpfile_name=box.shp, fewsnet_ndvi=True, nodata=-9999.0, download_startdate=2017-08-15, download_enddate=2017-08-30, hydrology_test_size=0.33, hydrology_ind_vars=[\"landforms\", \"texture\", \"twi\", \"rain_lag10\", \"rain_lag9\", \"rain_lag8\", \"rain_lag7\", \"rain_lag6\", \"rain_lag5\", \"rain_lag4\", \"rain_lag3\", \"rain_lag2\", \"rain_lag1\"], hydrology_dep_var=soil_moisture, date=2017-08-28, num_days=10, adjust_for_slope=True, adjust_for_elevation=True, inundation_as_barrier=True, res=1000.0, surface_unit=minutes, calculate_influence_acc=False, accessibility_dep_var=travel_time, accessibility_ind_vars=[\"landcover\", \"rivers\", \"roads\", \"national boundary\", \"dem\", \"slope\", \"railway\", \"inundation\"], economic_dep_var=consumption_expenditure, economic_ind_vars=[\"accessibility\", \"night_lights\", \"population\", \"landcover\"], calculate_influence=False, economic_model_grid_search=False, predStartYear=2017, year_in=2017, month_in=May, PercentOfNormalRainfall=0.5)\\n'\n",
      "b'[2019-04-22 22:03:21,351] INFO [luigi-interface:211] [pid 1] Worker Worker(salt=495104788, workers=1, host=a06f7baa207f, username=root, pid=1) done      models.malnutrition_model.tasks.MalnutritionRaster(timeout=3600, years=[2015], shpfile_key=boundary, shpfile_name=box.shp, fewsnet_ndvi=True, nodata=-9999.0, download_startdate=2017-08-15, download_enddate=2017-08-30, hydrology_test_size=0.33, hydrology_ind_vars=[\"landforms\", \"texture\", \"twi\", \"rain_lag10\", \"rain_lag9\", \"rain_lag8\", \"rain_lag7\", \"rain_lag6\", \"rain_lag5\", \"rain_lag4\", \"rain_lag3\", \"rain_lag2\", \"rain_lag1\"], hydrology_dep_var=soil_moisture, date=2017-08-28, num_days=10, adjust_for_slope=True, adjust_for_elevation=True, inundation_as_barrier=True, res=1000.0, surface_unit=minutes, calculate_influence_acc=False, accessibility_dep_var=travel_time, accessibility_ind_vars=[\"landcover\", \"rivers\", \"roads\", \"national boundary\", \"dem\", \"slope\", \"railway\", \"inundation\"], economic_dep_var=consumption_expenditure, economic_ind_vars=[\"accessibility\", \"night_lights\", \"population\", \"landcover\"], calculate_influence=False, economic_model_grid_search=False, predStartYear=2017, year_in=2017, month_in=May, PercentOfNormalRainfall=0.5)\\n'\n",
      "b'[2019-04-22 22:03:21,353] INFO [luigi-interface:579] Informed scheduler that task   models.malnutrition_model.tasks.MalnutritionRaster_0_5_travel_time___landcover____r_9af5694858   has status   DONE\\n'\n",
      "b'[2019-04-22 22:03:21,353] INFO [luigi-interface:163] [pid 1] Worker Worker(salt=495104788, workers=1, host=a06f7baa207f, username=root, pid=1) running   models.malnutrition_model.tasks.HighResMalnRaster(timeout=3600, years=[2015], shpfile_key=boundary, shpfile_name=box.shp, fewsnet_ndvi=True, nodata=-9999.0, download_startdate=2017-08-15, download_enddate=2017-08-30, hydrology_test_size=0.33, hydrology_ind_vars=[\"landforms\", \"texture\", \"twi\", \"rain_lag10\", \"rain_lag9\", \"rain_lag8\", \"rain_lag7\", \"rain_lag6\", \"rain_lag5\", \"rain_lag4\", \"rain_lag3\", \"rain_lag2\", \"rain_lag1\"], hydrology_dep_var=soil_moisture, date=2017-08-28, num_days=10, adjust_for_slope=True, adjust_for_elevation=True, inundation_as_barrier=True, res=1000.0, surface_unit=minutes, calculate_influence_acc=False, accessibility_dep_var=travel_time, accessibility_ind_vars=[\"landcover\", \"rivers\", \"roads\", \"national boundary\", \"dem\", \"slope\", \"railway\", \"inundation\"], economic_dep_var=consumption_expenditure, economic_ind_vars=[\"accessibility\", \"night_lights\", \"population\", \"landcover\"], calculate_influence=False, economic_model_grid_search=False, predStartYear=2017, year_in=2017, month_in=May, PercentOfNormalRainfall=0.5)\\n'\n",
      "b'[2019-04-22 22:03:21,361] WARNING [rasterio._gdal:130] CPLE_NotSupported in driver GTiff does not support open option MODE\\n'\n",
      "b'[2019-04-22 22:03:21,531] INFO [luigi-interface:211] [pid 1] Worker Worker(salt=495104788, workers=1, host=a06f7baa207f, username=root, pid=1) done      models.malnutrition_model.tasks.HighResMalnRaster(timeout=3600, years=[2015], shpfile_key=boundary, shpfile_name=box.shp, fewsnet_ndvi=True, nodata=-9999.0, download_startdate=2017-08-15, download_enddate=2017-08-30, hydrology_test_size=0.33, hydrology_ind_vars=[\"landforms\", \"texture\", \"twi\", \"rain_lag10\", \"rain_lag9\", \"rain_lag8\", \"rain_lag7\", \"rain_lag6\", \"rain_lag5\", \"rain_lag4\", \"rain_lag3\", \"rain_lag2\", \"rain_lag1\"], hydrology_dep_var=soil_moisture, date=2017-08-28, num_days=10, adjust_for_slope=True, adjust_for_elevation=True, inundation_as_barrier=True, res=1000.0, surface_unit=minutes, calculate_influence_acc=False, accessibility_dep_var=travel_time, accessibility_ind_vars=[\"landcover\", \"rivers\", \"roads\", \"national boundary\", \"dem\", \"slope\", \"railway\", \"inundation\"], economic_dep_var=consumption_expenditure, economic_ind_vars=[\"accessibility\", \"night_lights\", \"population\", \"landcover\"], calculate_influence=False, economic_model_grid_search=False, predStartYear=2017, year_in=2017, month_in=May, PercentOfNormalRainfall=0.5)\\n'\n",
      "b'[2019-04-22 22:03:21,533] INFO [luigi-interface:579] Informed scheduler that task   models.malnutrition_model.tasks.HighResMalnRaster_0_5_travel_time___landcover____r_9af5694858   has status   DONE\\n'\n",
      "b'[2019-04-22 22:03:21,533] INFO [luigi-interface:163] [pid 1] Worker Worker(salt=495104788, workers=1, host=a06f7baa207f, username=root, pid=1) running   models.malnutrition_model.tasks.RasterToCSV(timeout=3600, years=[2015], shpfile_key=boundary, shpfile_name=box.shp, fewsnet_ndvi=True, nodata=-9999.0, download_startdate=2017-08-15, download_enddate=2017-08-30, hydrology_test_size=0.33, hydrology_ind_vars=[\"landforms\", \"texture\", \"twi\", \"rain_lag10\", \"rain_lag9\", \"rain_lag8\", \"rain_lag7\", \"rain_lag6\", \"rain_lag5\", \"rain_lag4\", \"rain_lag3\", \"rain_lag2\", \"rain_lag1\"], hydrology_dep_var=soil_moisture, date=2017-08-28, num_days=10, adjust_for_slope=True, adjust_for_elevation=True, inundation_as_barrier=True, res=1000.0, surface_unit=minutes, calculate_influence_acc=False, accessibility_dep_var=travel_time, accessibility_ind_vars=[\"landcover\", \"rivers\", \"roads\", \"national boundary\", \"dem\", \"slope\", \"railway\", \"inundation\"], economic_dep_var=consumption_expenditure, economic_ind_vars=[\"accessibility\", \"night_lights\", \"population\", \"landcover\"], calculate_influence=False, economic_model_grid_search=False, predStartYear=2017, year_in=2017, month_in=May, PercentOfNormalRainfall=0.5, dscale=0.5)\\n'\n",
      "b'[2019-04-22 22:03:40,644] INFO [luigi-interface:211] [pid 1] Worker Worker(salt=495104788, workers=1, host=a06f7baa207f, username=root, pid=1) done      models.malnutrition_model.tasks.RasterToCSV(timeout=3600, years=[2015], shpfile_key=boundary, shpfile_name=box.shp, fewsnet_ndvi=True, nodata=-9999.0, download_startdate=2017-08-15, download_enddate=2017-08-30, hydrology_test_size=0.33, hydrology_ind_vars=[\"landforms\", \"texture\", \"twi\", \"rain_lag10\", \"rain_lag9\", \"rain_lag8\", \"rain_lag7\", \"rain_lag6\", \"rain_lag5\", \"rain_lag4\", \"rain_lag3\", \"rain_lag2\", \"rain_lag1\"], hydrology_dep_var=soil_moisture, date=2017-08-28, num_days=10, adjust_for_slope=True, adjust_for_elevation=True, inundation_as_barrier=True, res=1000.0, surface_unit=minutes, calculate_influence_acc=False, accessibility_dep_var=travel_time, accessibility_ind_vars=[\"landcover\", \"rivers\", \"roads\", \"national boundary\", \"dem\", \"slope\", \"railway\", \"inundation\"], economic_dep_var=consumption_expenditure, economic_ind_vars=[\"accessibility\", \"night_lights\", \"population\", \"landcover\"], calculate_influence=False, economic_model_grid_search=False, predStartYear=2017, year_in=2017, month_in=May, PercentOfNormalRainfall=0.5, dscale=0.5)\\n'\n",
      "b'[2019-04-22 22:03:40,646] INFO [luigi-interface:579] Informed scheduler that task   models.malnutrition_model.tasks.RasterToCSV_0_5_travel_time___landcover____r_333a86b912   has status   DONE\\n'\n",
      "b'[2019-04-22 22:03:40,646] INFO [luigi-interface:477] Worker Worker(salt=495104788, workers=1, host=a06f7baa207f, username=root, pid=1) was stopped. Shutting down Keep-Alive thread\\n'\n",
      "b'[2019-04-22 22:03:40,651] INFO [luigi-interface:173] \\n'\n",
      "b'===== Luigi Execution Summary =====\\n'\n",
      "b'\\n'\n",
      "b'Scheduled 45 tasks of which:\\n'\n",
      "b'* 12 complete ones were encountered:\\n'\n",
      "b'    - 1 models.accessibility_model.tasks.PullRastersFromCkan()\\n'\n",
      "b'    - 1 models.accessibility_model.tasks.PullShapefilesFromCkan()\\n'\n",
      "b'    - 1 models.economic_model.data_geo_location.PullRasterDataCkan()\\n'\n",
      "b'    - 1 models.economic_model.tasks.PullHouseholdEconData(PercentOfNormalRainfall=0.5)\\n'\n",
      "b'    - 1 models.hydrology_model.tasks.PullShapefileFilesFromCkan()\\n'\n",
      "b'    ...\\n'\n",
      "b'* 33 ran successfully:\\n'\n",
      "b'    - 1 models.accessibility_model.tasks.FrictionSurface(...)\\n'\n",
      "b'    - 1 models.accessibility_model.tasks.MaskRasterFiles()\\n'\n",
      "b'    - 1 models.accessibility_model.tasks.ProjectionFromConfig()\\n'\n",
      "b'    - 1 models.accessibility_model.tasks.Rasterize()\\n'\n",
      "b'    - 1 models.accessibility_model.tasks.TravelTimeToTowns(...)\\n'\n",
      "b'    ...\\n'\n",
      "b'\\n'\n",
      "b'This progress looks :) because there were no failed tasks or missing dependencies\\n'\n",
      "b'\\n'\n",
      "b'===== Luigi Execution Summary =====\\n'\n",
      "b'\\n'\n",
      "b'\\r  0%|          | 0/22 [00:00<?, ?it/s]\\r  5%|\\xe2\\x96\\x8d         | 1/22 [00:00<00:02,  8.54it/s]\\r  9%|\\xe2\\x96\\x89         | 2/22 [00:00<00:02,  8.72it/s]\\r 14%|\\xe2\\x96\\x88\\xe2\\x96\\x8e        | 3/22 [00:00<00:02,  8.85it/s]\\r 18%|\\xe2\\x96\\x88\\xe2\\x96\\x8a        | 4/22 [00:00<00:02,  8.93it/s]\\r 23%|\\xe2\\x96\\x88\\xe2\\x96\\x88\\xe2\\x96\\x8e       | 5/22 [00:00<00:01,  9.00it/s]\\r 27%|\\xe2\\x96\\x88\\xe2\\x96\\x88\\xe2\\x96\\x8b       | 6/22 [00:00<00:02,  7.11it/s]\\r 32%|\\xe2\\x96\\x88\\xe2\\x96\\x88\\xe2\\x96\\x88\\xe2\\x96\\x8f      | 7/22 [00:00<00:02,  6.19it/s]\\r 36%|\\xe2\\x96\\x88\\xe2\\x96\\x88\\xe2\\x96\\x88\\xe2\\x96\\x8b      | 8/22 [00:01<00:02,  5.68it/s]\\r 41%|\\xe2\\x96\\x88\\xe2\\x96\\x88\\xe2\\x96\\x88\\xe2\\x96\\x88      | 9/22 [00:01<00:02,  5.37it/s]\\r 45%|\\xe2\\x96\\x88\\xe2\\x96\\x88\\xe2\\x96\\x88\\xe2\\x96\\x88\\xe2\\x96\\x8c     | 10/22 [00:01<00:02,  5.18it/s]\\r 50%|\\xe2\\x96\\x88\\xe2\\x96\\x88\\xe2\\x96\\x88\\xe2\\x96\\x88\\xe2\\x96\\x88     | 11/22 [00:01<00:02,  5.05it/s]\\r 55%|\\xe2\\x96\\x88\\xe2\\x96\\x88\\xe2\\x96\\x88\\xe2\\x96\\x88\\xe2\\x96\\x88\\xe2\\x96\\x8d    | 12/22 [00:02<00:02,  4.96it/s]\\r 59%|\\xe2\\x96\\x88\\xe2\\x96\\x88\\xe2\\x96\\x88\\xe2\\x96\\x88\\xe2\\x96\\x88\\xe2\\x96\\x89    | 13/22 [00:02<00:01,  4.90it/s]\\r 64%|\\xe2\\x96\\x88\\xe2\\x96\\x88\\xe2\\x96\\x88\\xe2\\x96\\x88\\xe2\\x96\\x88\\xe2\\x96\\x88\\xe2\\x96\\x8e   | 14/22 [00:02<00:01,  4.86it/s]\\r 68%|\\xe2\\x96\\x88\\xe2\\x96\\x88\\xe2\\x96\\x88\\xe2\\x96\\x88\\xe2\\x96\\x88\\xe2\\x96\\x88\\xe2\\x96\\x8a   | 15/22 [00:02<00:01,  4.83it/s]\\r 73%|\\xe2\\x96\\x88\\xe2\\x96\\x88\\xe2\\x96\\x88\\xe2\\x96\\x88\\xe2\\x96\\x88\\xe2\\x96\\x88\\xe2\\x96\\x88\\xe2\\x96\\x8e  | 16/22 [00:02<00:01,  4.81it/s]\\r 77%|\\xe2\\x96\\x88\\xe2\\x96\\x88\\xe2\\x96\\x88\\xe2\\x96\\x88\\xe2\\x96\\x88\\xe2\\x96\\x88\\xe2\\x96\\x88\\xe2\\x96\\x8b  | 17/22 [00:03<00:01,  4.80it/s]\\r 82%|\\xe2\\x96\\x88\\xe2\\x96\\x88\\xe2\\x96\\x88\\xe2\\x96\\x88\\xe2\\x96\\x88\\xe2\\x96\\x88\\xe2\\x96\\x88\\xe2\\x96\\x88\\xe2\\x96\\x8f | 18/22 [00:03<00:00,  4.78it/s]\\r 86%|\\xe2\\x96\\x88\\xe2\\x96\\x88\\xe2\\x96\\x88\\xe2\\x96\\x88\\xe2\\x96\\x88\\xe2\\x96\\x88\\xe2\\x96\\x88\\xe2\\x96\\x88\\xe2\\x96\\x8b | 19/22 [00:03<00:00,  4.78it/s]\\r 91%|\\xe2\\x96\\x88\\xe2\\x96\\x88\\xe2\\x96\\x88\\xe2\\x96\\x88\\xe2\\x96\\x88\\xe2\\x96\\x88\\xe2\\x96\\x88\\xe2\\x96\\x88\\xe2\\x96\\x88 | 20/22 [00:03<00:00,  4.77it/s]\\r 95%|\\xe2\\x96\\x88\\xe2\\x96\\x88\\xe2\\x96\\x88\\xe2\\x96\\x88\\xe2\\x96\\x88\\xe2\\x96\\x88\\xe2\\x96\\x88\\xe2\\x96\\x88\\xe2\\x96\\x88\\xe2\\x96\\x8c| 21/22 [00:03<00:00,  4.77it/s]\\n'\n",
      "b'/usr/src/app/models/economic_model/tasks.py:276: SettingWithCopyWarning: \\n'\n",
      "b'A value is trying to be set on a copy of a slice from a DataFrame.\\n'\n",
      "b'Try using .loc[row_indexer,col_indexer] = value instead\\n'\n",
      "b'\\n'\n",
      "b'See the caveats in the documentation: http://pandas.pydata.org/pandas-docs/stable/indexing.html#indexing-view-versus-copy\\n'\n",
      "b'  X_fit[\"y\"] = y_results\\n'\n",
      "b'/opt/conda/lib/python3.6/site-packages/numpy/core/_methods.py:32: RuntimeWarning: invalid value encountered in reduce\\n'\n",
      "b'  return umr_minimum(a, axis, None, out, keepdims, initial)\\n'\n",
      "b'/opt/conda/lib/python3.6/site-packages/pandas/core/indexing.py:362: SettingWithCopyWarning: \\n'\n",
      "b'A value is trying to be set on a copy of a slice from a DataFrame.\\n'\n",
      "b'Try using .loc[row_indexer,col_indexer] = value instead\\n'\n",
      "b'\\n'\n",
      "b'See the caveats in the documentation: http://pandas.pydata.org/pandas-docs/stable/indexing.html#indexing-view-versus-copy\\n'\n",
      "b'  self.obj[key] = _infer_fill_value(value)\\n'\n",
      "b'/opt/conda/lib/python3.6/site-packages/pandas/core/indexing.py:543: SettingWithCopyWarning: \\n'\n",
      "b'A value is trying to be set on a copy of a slice from a DataFrame.\\n'\n",
      "b'Try using .loc[row_indexer,col_indexer] = value instead\\n'\n",
      "b'\\n'\n",
      "b'See the caveats in the documentation: http://pandas.pydata.org/pandas-docs/stable/indexing.html#indexing-view-versus-copy\\n'\n",
      "b'  self.obj[item] = s\\n'\n",
      "b'/opt/conda/lib/python3.6/site-packages/pandas/core/generic.py:5890: SettingWithCopyWarning: \\n'\n",
      "b'A value is trying to be set on a copy of a slice from a DataFrame\\n'\n",
      "b'\\n'\n",
      "b'See the caveats in the documentation: http://pandas.pydata.org/pandas-docs/stable/indexing.html#indexing-view-versus-copy\\n'\n",
      "b'  self._update_inplace(new_data)\\n'\n"
     ]
    }
   ],
   "source": [
    "model_logs = model.logs(stream=True)\n",
    "for l in model_logs:\n",
    "    print(l)"
   ]
  },
  {
   "cell_type": "markdown",
   "metadata": {},
   "source": [
    "### Container status"
   ]
  },
  {
   "cell_type": "markdown",
   "metadata": {},
   "source": [
    "We can check the container's status by reloading its representation from Docker then asking for its `status`:"
   ]
  },
  {
   "cell_type": "code",
   "execution_count": 43,
   "metadata": {},
   "outputs": [],
   "source": [
    "model.reload()"
   ]
  },
  {
   "cell_type": "code",
   "execution_count": 44,
   "metadata": {},
   "outputs": [
    {
     "data": {
      "text/plain": [
       "'exited'"
      ]
     },
     "execution_count": 44,
     "metadata": {},
     "output_type": "execute_result"
    }
   ],
   "source": [
    "model.status"
   ]
  },
  {
   "cell_type": "markdown",
   "metadata": {},
   "source": [
    "We can compare this with the `status` of the database, which should continue running until we stop it:"
   ]
  },
  {
   "cell_type": "code",
   "execution_count": 46,
   "metadata": {},
   "outputs": [
    {
     "data": {
      "text/plain": [
       "'running'"
      ]
     },
     "execution_count": 46,
     "metadata": {},
     "output_type": "execute_result"
    }
   ],
   "source": [
    "db_container.reload()\n",
    "db_container.status"
   ]
  },
  {
   "cell_type": "markdown",
   "metadata": {},
   "source": [
    "We can shut off the `db_container` at this point:"
   ]
  },
  {
   "cell_type": "code",
   "execution_count": 47,
   "metadata": {},
   "outputs": [],
   "source": [
    "db_container.stop()"
   ]
  },
  {
   "cell_type": "markdown",
   "metadata": {},
   "source": [
    "We can recheck its status:"
   ]
  },
  {
   "cell_type": "code",
   "execution_count": 48,
   "metadata": {},
   "outputs": [
    {
     "data": {
      "text/plain": [
       "'exited'"
      ]
     },
     "execution_count": 48,
     "metadata": {},
     "output_type": "execute_result"
    }
   ],
   "source": [
    "db_container.reload()\n",
    "db_container.status"
   ]
  },
  {
   "cell_type": "markdown",
   "metadata": {},
   "source": [
    "### Pruning stopped containers\n",
    "Finally, we should prune (remove) containers that have been stopped:"
   ]
  },
  {
   "cell_type": "code",
   "execution_count": 49,
   "metadata": {},
   "outputs": [
    {
     "data": {
      "text/plain": [
       "{'ContainersDeleted': ['a06f7baa207f92a7bc341092bb5dc874d00710fbedbdb39a2b1f1cc00c19d396',\n",
       "  'dfb790fe6421b10ef79adbb83e9f577be9429ee0ffd3540c5e35ad612f80685b',\n",
       "  'b38c063518e0e9e89b877fe02b88a1cc95a7e9b30c098c35e69d2a38b9988c70',\n",
       "  '51467d4160fb53e736b587bdddef61d24af8dfa9fd819b5083481eea8deb5596'],\n",
       " 'SpaceReclaimed': 6444046321}"
      ]
     },
     "execution_count": 49,
     "metadata": {},
     "output_type": "execute_result"
    }
   ],
   "source": [
    "containers.prune()"
   ]
  }
 ],
 "metadata": {
  "kernelspec": {
   "display_name": "Python 3",
   "language": "python",
   "name": "python3"
  },
  "language_info": {
   "codemirror_mode": {
    "name": "ipython",
    "version": 3
   },
   "file_extension": ".py",
   "mimetype": "text/x-python",
   "name": "python",
   "nbconvert_exporter": "python",
   "pygments_lexer": "ipython3",
   "version": "3.6.7"
  }
 },
 "nbformat": 4,
 "nbformat_minor": 2
}
