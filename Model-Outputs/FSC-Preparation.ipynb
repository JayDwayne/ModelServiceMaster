{
 "cells": [
  {
   "cell_type": "code",
   "execution_count": 1,
   "metadata": {},
   "outputs": [],
   "source": [
    "import pandas as pd\n",
    "import os\n",
    "from netCDF4 import Dataset"
   ]
  },
  {
   "cell_type": "code",
   "execution_count": 2,
   "metadata": {},
   "outputs": [],
   "source": [
    "iso3 = pd.read_csv(\"ciso3.txt\", sep=\" \")"
   ]
  },
  {
   "cell_type": "code",
   "execution_count": 3,
   "metadata": {},
   "outputs": [],
   "source": [
    "iso3 = iso3.set_index('iso3')"
   ]
  },
  {
   "cell_type": "code",
   "execution_count": 4,
   "metadata": {},
   "outputs": [],
   "source": [
    "results = [i for i in os.listdir('FSC_Scenarios') if 'Results' in i]"
   ]
  },
  {
   "cell_type": "code",
   "execution_count": 5,
   "metadata": {},
   "outputs": [
    {
     "data": {
      "text/plain": [
       "['NAF_High_Results.csv',\n",
       " 'MBBF_High_Results.csv',\n",
       " 'MBBF_Low_Results.csv',\n",
       " 'CPA_Low_Results.csv',\n",
       " 'NAF_Mid_Results.csv',\n",
       " 'FSU_High_Results.csv',\n",
       " 'FSU_Mid_Results.csv',\n",
       " 'EUR_Low_Results.csv',\n",
       " 'CPA_High_Results.csv',\n",
       " 'FSU_Low_Results.csv',\n",
       " 'EUR_Mid_Results.csv',\n",
       " 'NAF_Low_Results.csv',\n",
       " 'CPA_Mid_Results.csv',\n",
       " 'MBBF_Mid_Results.csv',\n",
       " 'EUR_High_Results.csv']"
      ]
     },
     "execution_count": 5,
     "metadata": {},
     "output_type": "execute_result"
    }
   ],
   "source": [
    "results"
   ]
  },
  {
   "cell_type": "code",
   "execution_count": 6,
   "metadata": {},
   "outputs": [],
   "source": [
    "first = True\n",
    "for r in results:\n",
    "    region = r.split(\"_\")[0]\n",
    "    shock = r.split(\"_\")[1]\n",
    "    if first:\n",
    "        df = pd.read_csv(f\"FSC_Scenarios/{r}\")\n",
    "        df[\"Region\"] = region\n",
    "        df[\"Shock\"] = shock\n",
    "        first = False\n",
    "    else:\n",
    "        df_ = pd.read_csv(f\"FSC_Scenarios/{r}\")\n",
    "        df_[\"Region\"] = region\n",
    "        df_[\"Shock\"] = shock\n",
    "        df = df.append(df_)"
   ]
  },
  {
   "cell_type": "code",
   "execution_count": 7,
   "metadata": {},
   "outputs": [],
   "source": [
    "df['iso3'] = df['Unnamed: 0']"
   ]
  },
  {
   "cell_type": "code",
   "execution_count": 8,
   "metadata": {},
   "outputs": [],
   "source": [
    "df = df.join(iso3, how=\"left\", on=\"iso3\")\n",
    "df[\"Country\"] = df[\"name\"]"
   ]
  },
  {
   "cell_type": "code",
   "execution_count": 9,
   "metadata": {},
   "outputs": [],
   "source": [
    "df.loc[df['iso3']=='SSD', 'Country'] = 'South Sudan'"
   ]
  },
  {
   "cell_type": "code",
   "execution_count": 10,
   "metadata": {},
   "outputs": [],
   "source": [
    "del(df[\"Unnamed: 0\"])\n",
    "del(df[\"FAO\"])\n",
    "del(df[\"name\"])"
   ]
  },
  {
   "cell_type": "code",
   "execution_count": null,
   "metadata": {},
   "outputs": [],
   "source": [
    "df.to_csv(\"FSC.csv\", index=False)"
   ]
  },
  {
   "cell_type": "markdown",
   "metadata": {},
   "source": [
    "## TWIST Ingestion"
   ]
  },
  {
   "cell_type": "code",
   "execution_count": 104,
   "metadata": {},
   "outputs": [],
   "source": [
    "results = [i for i in os.listdir('TWIST-Scenarios/') if '.csv' in i]"
   ]
  },
  {
   "cell_type": "code",
   "execution_count": 105,
   "metadata": {},
   "outputs": [
    {
     "data": {
      "text/plain": [
       "['priceReg_China.csv',\n",
       " 'priceReg_EUR.csv',\n",
       " 'priceReg_EUR-China.csv',\n",
       " 'priceReg_China-Former_UDSSR.csv',\n",
       " 'priceReg_EUR-Former_UDSSR.csv',\n",
       " 'priceReg_Former_UDSSR-USMCA-China.csv',\n",
       " 'priceReg_Former_UDSSR.csv',\n",
       " 'priceReg_global.csv',\n",
       " 'priceReg_EUR-Former_UDSSR-China.csv',\n",
       " 'priceReg_EUR-Former_UDSSR-USMCA.csv',\n",
       " 'priceReg_EUR-USMCA.csv',\n",
       " 'priceReg_USMCA-China.csv',\n",
       " 'priceReg_USMCA-Former_UDSSR.csv',\n",
       " 'priceReg_USMCA.csv']"
      ]
     },
     "execution_count": 105,
     "metadata": {},
     "output_type": "execute_result"
    }
   ],
   "source": [
    "results"
   ]
  },
  {
   "cell_type": "code",
   "execution_count": 106,
   "metadata": {},
   "outputs": [],
   "source": [
    "results = [i for i in results if '-' not in i]"
   ]
  },
  {
   "cell_type": "code",
   "execution_count": 107,
   "metadata": {
    "scrolled": true
   },
   "outputs": [
    {
     "data": {
      "text/plain": [
       "['priceReg_China.csv',\n",
       " 'priceReg_EUR.csv',\n",
       " 'priceReg_Former_UDSSR.csv',\n",
       " 'priceReg_global.csv',\n",
       " 'priceReg_USMCA.csv']"
      ]
     },
     "execution_count": 107,
     "metadata": {},
     "output_type": "execute_result"
    }
   ],
   "source": [
    "results"
   ]
  },
  {
   "cell_type": "code",
   "execution_count": 112,
   "metadata": {},
   "outputs": [],
   "source": [
    "region_lookup = {\"China\": \"Centrally Planned Asia\",\n",
    "                 \"EUR\": \"European Union\",\n",
    "                 \"global\": \"Multiple Breadbasket Failure\",\n",
    "                 \"USMCA\": \"North Atlantic Free Trade\",\n",
    "                 \"Former_UDSSR\": \"Former Soviet Union\"}"
   ]
  },
  {
   "cell_type": "code",
   "execution_count": 113,
   "metadata": {},
   "outputs": [],
   "source": [
    "pairs = [\n",
    "    ['time','Baseline_price'],\n",
    "    ['time','High_shock_price','classification_high_spike'],\n",
    "    ['time','Medium_shock_price','classification_medium_spike'],\n",
    "    ['time','Low_shock_price','classification_low_spike']\n",
    "]"
   ]
  },
  {
   "cell_type": "code",
   "execution_count": 120,
   "metadata": {},
   "outputs": [
    {
     "name": "stderr",
     "output_type": "stream",
     "text": [
      "/anaconda3/envs/p37/lib/python3.7/site-packages/ipykernel_launcher.py:11: SettingWithCopyWarning: \n",
      "A value is trying to be set on a copy of a slice from a DataFrame.\n",
      "Try using .loc[row_indexer,col_indexer] = value instead\n",
      "\n",
      "See the caveats in the documentation: http://pandas.pydata.org/pandas-docs/stable/indexing.html#indexing-view-versus-copy\n",
      "  # This is added back by InteractiveShellApp.init_path()\n",
      "/anaconda3/envs/p37/lib/python3.7/site-packages/ipykernel_launcher.py:12: SettingWithCopyWarning: \n",
      "A value is trying to be set on a copy of a slice from a DataFrame.\n",
      "Try using .loc[row_indexer,col_indexer] = value instead\n",
      "\n",
      "See the caveats in the documentation: http://pandas.pydata.org/pandas-docs/stable/indexing.html#indexing-view-versus-copy\n",
      "  if sys.path[0] == '':\n",
      "/anaconda3/envs/p37/lib/python3.7/site-packages/ipykernel_launcher.py:13: SettingWithCopyWarning: \n",
      "A value is trying to be set on a copy of a slice from a DataFrame.\n",
      "Try using .loc[row_indexer,col_indexer] = value instead\n",
      "\n",
      "See the caveats in the documentation: http://pandas.pydata.org/pandas-docs/stable/indexing.html#indexing-view-versus-copy\n",
      "  del sys.path[0]\n",
      "/anaconda3/envs/p37/lib/python3.7/site-packages/ipykernel_launcher.py:15: SettingWithCopyWarning: \n",
      "A value is trying to be set on a copy of a slice from a DataFrame.\n",
      "Try using .loc[row_indexer,col_indexer] = value instead\n",
      "\n",
      "See the caveats in the documentation: http://pandas.pydata.org/pandas-docs/stable/indexing.html#indexing-view-versus-copy\n",
      "  from ipykernel import kernelapp as app\n",
      "/anaconda3/envs/p37/lib/python3.7/site-packages/ipykernel_launcher.py:17: SettingWithCopyWarning: \n",
      "A value is trying to be set on a copy of a slice from a DataFrame.\n",
      "Try using .loc[row_indexer,col_indexer] = value instead\n",
      "\n",
      "See the caveats in the documentation: http://pandas.pydata.org/pandas-docs/stable/indexing.html#indexing-view-versus-copy\n"
     ]
    }
   ],
   "source": [
    "df_out = pd.DataFrame()\n",
    "for r in results:\n",
    "    try:\n",
    "        region = region_lookup[r.split(\"_\")[1].split(\".csv\")[0]]\n",
    "    except:\n",
    "        region = region_lookup[\"Former_UDSSR\"]\n",
    "    df = pd.read_csv(f'TWIST-Scenarios/{r}')\n",
    "    df_comb = pd.DataFrame()\n",
    "    for p in pairs:    \n",
    "        df_ = df[p]\n",
    "        df_['Region'] = region\n",
    "        df_['Price'] = df_.loc[:,p[1]]\n",
    "        df_['Shock'] = p[1].split('_')[0]\n",
    "        if len(p) == 2:\n",
    "            df_['Shock Level'] = 'OK'\n",
    "        else:\n",
    "            df_['Shock Level'] = df_.loc[:,p[2]]    \n",
    "            del(df_[p[2]])        \n",
    "        del(df_[p[1]])\n",
    "        df_comb = df_comb.append(df_)\n",
    "    df_out = df_out.append(df_comb)"
   ]
  },
  {
   "cell_type": "code",
   "execution_count": 121,
   "metadata": {},
   "outputs": [
    {
     "data": {
      "text/plain": [
       "(120, 5)"
      ]
     },
     "execution_count": 121,
     "metadata": {},
     "output_type": "execute_result"
    }
   ],
   "source": [
    "df_out.shape"
   ]
  },
  {
   "cell_type": "code",
   "execution_count": 122,
   "metadata": {
    "scrolled": true
   },
   "outputs": [
    {
     "data": {
      "text/html": [
       "<div>\n",
       "<style scoped>\n",
       "    .dataframe tbody tr th:only-of-type {\n",
       "        vertical-align: middle;\n",
       "    }\n",
       "\n",
       "    .dataframe tbody tr th {\n",
       "        vertical-align: top;\n",
       "    }\n",
       "\n",
       "    .dataframe thead th {\n",
       "        text-align: right;\n",
       "    }\n",
       "</style>\n",
       "<table border=\"1\" class=\"dataframe\">\n",
       "  <thead>\n",
       "    <tr style=\"text-align: right;\">\n",
       "      <th></th>\n",
       "      <th>time</th>\n",
       "      <th>Region</th>\n",
       "      <th>Price</th>\n",
       "      <th>Shock</th>\n",
       "      <th>Shock Level</th>\n",
       "    </tr>\n",
       "  </thead>\n",
       "  <tbody>\n",
       "    <tr>\n",
       "      <th>0</th>\n",
       "      <td>Jul.17</td>\n",
       "      <td>Centrally Planned Asia</td>\n",
       "      <td>111.059250</td>\n",
       "      <td>Baseline</td>\n",
       "      <td>OK</td>\n",
       "    </tr>\n",
       "    <tr>\n",
       "      <th>1</th>\n",
       "      <td>Dec.17</td>\n",
       "      <td>Centrally Planned Asia</td>\n",
       "      <td>117.126270</td>\n",
       "      <td>Baseline</td>\n",
       "      <td>OK</td>\n",
       "    </tr>\n",
       "    <tr>\n",
       "      <th>2</th>\n",
       "      <td>Jul.18</td>\n",
       "      <td>Centrally Planned Asia</td>\n",
       "      <td>114.787445</td>\n",
       "      <td>Baseline</td>\n",
       "      <td>OK</td>\n",
       "    </tr>\n",
       "    <tr>\n",
       "      <th>3</th>\n",
       "      <td>Dec.18</td>\n",
       "      <td>Centrally Planned Asia</td>\n",
       "      <td>122.813370</td>\n",
       "      <td>Baseline</td>\n",
       "      <td>OK</td>\n",
       "    </tr>\n",
       "    <tr>\n",
       "      <th>4</th>\n",
       "      <td>Jul.19</td>\n",
       "      <td>Centrally Planned Asia</td>\n",
       "      <td>121.155840</td>\n",
       "      <td>Baseline</td>\n",
       "      <td>OK</td>\n",
       "    </tr>\n",
       "  </tbody>\n",
       "</table>\n",
       "</div>"
      ],
      "text/plain": [
       "     time                  Region       Price     Shock Shock Level\n",
       "0  Jul.17  Centrally Planned Asia  111.059250  Baseline          OK\n",
       "1  Dec.17  Centrally Planned Asia  117.126270  Baseline          OK\n",
       "2  Jul.18  Centrally Planned Asia  114.787445  Baseline          OK\n",
       "3  Dec.18  Centrally Planned Asia  122.813370  Baseline          OK\n",
       "4  Jul.19  Centrally Planned Asia  121.155840  Baseline          OK"
      ]
     },
     "execution_count": 122,
     "metadata": {},
     "output_type": "execute_result"
    }
   ],
   "source": [
    "df_out.head()"
   ]
  },
  {
   "cell_type": "code",
   "execution_count": 123,
   "metadata": {},
   "outputs": [
    {
     "data": {
      "text/plain": [
       "Shock Level\n",
       "Critical    17\n",
       "Extreme      3\n",
       "Low         21\n",
       "OK          79\n",
       "Name: time, dtype: int64"
      ]
     },
     "execution_count": 123,
     "metadata": {},
     "output_type": "execute_result"
    }
   ],
   "source": [
    "df_out.groupby(['Shock Level'])['time'].count()"
   ]
  },
  {
   "cell_type": "code",
   "execution_count": 124,
   "metadata": {},
   "outputs": [
    {
     "data": {
      "text/plain": [
       "Region\n",
       "Centrally Planned Asia          24\n",
       "European Union                  24\n",
       "Former Soviet Union             24\n",
       "Multiple Breadbasket Failure    24\n",
       "North Atlantic Free Trade       24\n",
       "Name: Region, dtype: int64"
      ]
     },
     "execution_count": 124,
     "metadata": {},
     "output_type": "execute_result"
    }
   ],
   "source": [
    "df_out.groupby([\"Region\"]).Region.count()"
   ]
  },
  {
   "cell_type": "code",
   "execution_count": 125,
   "metadata": {},
   "outputs": [],
   "source": [
    "df_out[df_out['Shock'] != 'Baseline'].to_csv(\"TWIST.csv\", index=False)"
   ]
  }
 ],
 "metadata": {
  "kernelspec": {
   "display_name": "Python 3",
   "language": "python",
   "name": "python3"
  },
  "language_info": {
   "codemirror_mode": {
    "name": "ipython",
    "version": 3
   },
   "file_extension": ".py",
   "mimetype": "text/x-python",
   "name": "python",
   "nbconvert_exporter": "python",
   "pygments_lexer": "ipython3",
   "version": "3.7.3"
  }
 },
 "nbformat": 4,
 "nbformat_minor": 2
}
