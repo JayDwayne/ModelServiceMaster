{
 "cells": [
  {
   "cell_type": "code",
   "execution_count": 4,
   "metadata": {},
   "outputs": [],
   "source": [
    "import pandas as pd\n",
    "import geopandas as gpd\n",
    "from shapely.geometry import Polygon, Point, mapping\n",
    "import os"
   ]
  },
  {
   "cell_type": "code",
   "execution_count": 2,
   "metadata": {},
   "outputs": [],
   "source": [
    "admin2 = gpd.read_file('gadm36_ETH_shp/gadm36_ETH_3.shp')\n",
    "admin2['Gadm Name 2'] = admin2['NAME_2']\n",
    "admin2['Gadm Name 1'] = admin2['NAME_1']"
   ]
  },
  {
   "cell_type": "code",
   "execution_count": 3,
   "metadata": {},
   "outputs": [],
   "source": [
    "pts3 = admin2.centroid.unary_union\n",
    "\n",
    "from shapely.ops import nearest_points\n",
    "# unary union of the gpd2 geomtries \n",
    "\n",
    "def near(point, pts=pts3):\n",
    "     # find the nearest point and return the corresponding Place value\n",
    "    nearest = admin2.centroid == nearest_points(point, pts)[1]\n",
    "    return admin2[nearest]['Gadm Name 2'].get_values()[0]\n",
    "\n",
    "\n",
    "def near_gadm1(geom, pts=pts3):\n",
    "    if geom.type == Polygon:\n",
    "        point = geom.centroid\n",
    "    else:\n",
    "        point = geom\n",
    "     # find the nearest point and return the corresponding Place value\n",
    "    nearest = admin2.centroid == nearest_points(point, pts)[1]\n",
    "    return admin2[nearest]['Gadm Name 1'].get_values()[0]"
   ]
  },
  {
   "cell_type": "markdown",
   "metadata": {},
   "source": [
    "#### Read in DSSAT files"
   ]
  },
  {
   "cell_type": "markdown",
   "metadata": {},
   "source": [
    "Baseline - The baseline outputs to compare to:\n",
    "\n",
    "ERAIN - Modified rainfall from 25% to 200% (025 - 200)\n",
    "\n",
    "PLANW - Modified planting date start window with -30, -15, +15, and +30\n",
    "days\n",
    "\n",
    "FEN_TOT - Modified fertilizer total adjustment in addition to the baseline amount\n",
    "by 15-60 kg/ha"
   ]
  },
  {
   "cell_type": "code",
   "execution_count": 7,
   "metadata": {},
   "outputs": [],
   "source": [
    "results = [i for i in os.listdir('eth_sensitivity/') if '.csv' in i]"
   ]
  },
  {
   "cell_type": "code",
   "execution_count": 15,
   "metadata": {},
   "outputs": [
    {
     "data": {
      "text/plain": [
       "['ETH_MZ_BH660_erain_025_cells.csv',\n",
       " 'ETH_MZ_BH660_erain_150_cells.csv',\n",
       " 'ETH_MZ_BH660_erain_075_cells.csv',\n",
       " 'ETH_MZ_BH660_fen_tot15_cells.csv',\n",
       " 'ETH_MZ_BH660_planw_+15_0_cells.csv',\n",
       " 'ETH_MZ_BH660_planw_-30_0_cells.csv',\n",
       " 'ETH_MZ_BH660_baseline_cells.csv',\n",
       " 'ETH_MZ_BH660_erain_200_cells.csv',\n",
       " 'ETH_MZ_BH660_erain_175_cells.csv',\n",
       " 'ETH_MZ_BH660_planw_+30_0_cells.csv',\n",
       " 'ETH_MZ_BH660_planw_-15_0_cells.csv',\n",
       " 'ETH_MZ_BH660_erain_050_cells.csv',\n",
       " 'ETH_MZ_BH660_erain_125_cells.csv',\n",
       " 'ETH_MZ_BH660_fen_tot60_cells.csv',\n",
       " 'ETH_MZ_BH660_fen_tot30_cells.csv']"
      ]
     },
     "execution_count": 15,
     "metadata": {},
     "output_type": "execute_result"
    }
   ],
   "source": [
    "results"
   ]
  },
  {
   "cell_type": "code",
   "execution_count": 31,
   "metadata": {},
   "outputs": [
    {
     "name": "stdout",
     "output_type": "stream",
     "text": [
      "ETH_MZ_BH660_erain_025_cells.csv erain_025 Rainfall 25\n",
      "ETH_MZ_BH660_erain_150_cells.csv erain_150 Rainfall 150\n",
      "ETH_MZ_BH660_erain_075_cells.csv erain_075 Rainfall 75\n",
      "ETH_MZ_BH660_fen_tot15_cells.csv fen_tot15 Fertilizer 15\n",
      "ETH_MZ_BH660_planw_+15_0_cells.csv planw_+15_0 Planting date 15\n",
      "ETH_MZ_BH660_planw_-30_0_cells.csv planw_-30_0 Planting date -30\n",
      "ETH_MZ_BH660_baseline_cells.csv baseline Baseline 0\n",
      "ETH_MZ_BH660_erain_200_cells.csv erain_200 Rainfall 200\n",
      "ETH_MZ_BH660_erain_175_cells.csv erain_175 Rainfall 175\n",
      "ETH_MZ_BH660_planw_+30_0_cells.csv planw_+30_0 Planting date 30\n",
      "ETH_MZ_BH660_planw_-15_0_cells.csv planw_-15_0 Planting date -15\n",
      "ETH_MZ_BH660_erain_050_cells.csv erain_050 Rainfall 50\n",
      "ETH_MZ_BH660_erain_125_cells.csv erain_125 Rainfall 125\n",
      "ETH_MZ_BH660_fen_tot60_cells.csv fen_tot60 Fertilizer 60\n",
      "ETH_MZ_BH660_fen_tot30_cells.csv fen_tot30 Fertilizer 30\n"
     ]
    }
   ],
   "source": [
    "df = pd.DataFrame()\n",
    "\n",
    "for r in results:\n",
    "    s = r.split('660_')[1].split('_cells')[0]\n",
    "    if s == 'baseline':\n",
    "        scenario = 'Baseline'\n",
    "        p = 0\n",
    "    if 'erain' in s:\n",
    "        p = int(s.split('_')[1])\n",
    "        scenario = \"Rainfall\"\n",
    "    if 'planw' in s:\n",
    "        p = int(s.split('planw_')[1].split('_')[0])\n",
    "        scenario = 'Planting date'\n",
    "    if 'fen_tot' in s:\n",
    "        p = int(s.split('tot')[1])\n",
    "        scenario = 'Fertilizer'\n",
    "    print(r, s, scenario, p)\n",
    "    df_ = pd.read_csv(f'eth_sensitivity/{r}')\n",
    "    df_['Perturbation'] = p\n",
    "    df_['Scenario'] = scenario\n",
    "    df = df.append(df_)"
   ]
  },
  {
   "cell_type": "code",
   "execution_count": 32,
   "metadata": {},
   "outputs": [
    {
     "data": {
      "text/plain": [
       "Scenario       Perturbation\n",
       "Baseline        0              5924\n",
       "Fertilizer      15             5924\n",
       "                30             5924\n",
       "                60             5924\n",
       "Planting date  -30             5924\n",
       "               -15             5924\n",
       "                15             5924\n",
       "                30             5924\n",
       "Rainfall        25             5924\n",
       "                50             5924\n",
       "                75             5924\n",
       "                125            5924\n",
       "                150            5924\n",
       "                175            5924\n",
       "                200            5924\n",
       "Name: HWAM, dtype: int64"
      ]
     },
     "execution_count": 32,
     "metadata": {},
     "output_type": "execute_result"
    }
   ],
   "source": [
    "df.groupby(['Scenario','Perturbation']).HWAM.count()"
   ]
  },
  {
   "cell_type": "code",
   "execution_count": 34,
   "metadata": {},
   "outputs": [],
   "source": [
    "df['Geometry'] = df.apply(lambda row: Point(row.LONGITUDE, row.LATITUDE), axis=1)"
   ]
  },
  {
   "cell_type": "code",
   "execution_count": 46,
   "metadata": {},
   "outputs": [],
   "source": [
    "geom = df[['LATITUDE','LONGITUDE']].drop_duplicates()\n",
    "geom['Geometry'] = geom.apply(lambda row: Point(row.LONGITUDE, row.LATITUDE), axis=1)\n",
    "geom['Gadm Name 1'] = geom.Geometry.apply(lambda x: near_gadm1(x))\n",
    "geom['Gadm Name 2'] = geom.Geometry.apply(lambda x: near(x))"
   ]
  },
  {
   "cell_type": "code",
   "execution_count": 92,
   "metadata": {
    "scrolled": true
   },
   "outputs": [],
   "source": [
    "df = df.join(geom.set_index(['LATITUDE','LONGITUDE']), how='left', on=['LATITUDE','LONGITUDE'], rsuffix='g_')"
   ]
  },
  {
   "cell_type": "code",
   "execution_count": 98,
   "metadata": {},
   "outputs": [],
   "source": [
    "baseline = df[df['Scenario']=='Baseline'][['LATITUDE','LONGITUDE','HWAM']]"
   ]
  },
  {
   "cell_type": "code",
   "execution_count": 100,
   "metadata": {},
   "outputs": [],
   "source": [
    "df = df.join(baseline.set_index(['LATITUDE','LONGITUDE']), how='left', on=['LATITUDE','LONGITUDE'], rsuffix='_baseline')"
   ]
  },
  {
   "cell_type": "code",
   "execution_count": 101,
   "metadata": {},
   "outputs": [],
   "source": [
    "df['Yield Delta from Baseline'] = df['HWAM'] - df['HWAM_baseline']"
   ]
  },
  {
   "cell_type": "code",
   "execution_count": 102,
   "metadata": {},
   "outputs": [],
   "source": [
    "df.to_csv(\"DSSAT-Sensitivity.csv\", index=False)"
   ]
  }
 ],
 "metadata": {
  "kernelspec": {
   "display_name": "Python 3",
   "language": "python",
   "name": "python3"
  },
  "language_info": {
   "codemirror_mode": {
    "name": "ipython",
    "version": 3
   },
   "file_extension": ".py",
   "mimetype": "text/x-python",
   "name": "python",
   "nbconvert_exporter": "python",
   "pygments_lexer": "ipython3",
   "version": "3.7.3"
  }
 },
 "nbformat": 4,
 "nbformat_minor": 2
}
