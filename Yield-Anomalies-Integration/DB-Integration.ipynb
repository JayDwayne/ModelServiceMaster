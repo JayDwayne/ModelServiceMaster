{
 "cells": [
  {
   "cell_type": "code",
   "execution_count": 1,
   "metadata": {},
   "outputs": [
    {
     "name": "stdout",
     "output_type": "stream",
     "text": [
      "postgres\n"
     ]
    }
   ],
   "source": [
    "import sys\n",
    "sys.path.append(\"../db\")\n",
    "\n",
    "from database import init_db, db_session\n",
    "from models import Metadata, Output, Parameters\n",
    "\n",
    "from shapely.geometry import Point\n",
    "import geopandas as gpd\n",
    "\n",
    "from osgeo import gdal\n",
    "from osgeo import gdalconst\n",
    "\n",
    "from datetime import datetime\n",
    "\n",
    "init_db()"
   ]
  },
  {
   "cell_type": "code",
   "execution_count": 2,
   "metadata": {},
   "outputs": [],
   "source": [
    "admin2 = gpd.read_file('/Users/brandon/Downloads/gadm36_levels_shp/gadm36_2.shp')"
   ]
  },
  {
   "cell_type": "code",
   "execution_count": 3,
   "metadata": {},
   "outputs": [],
   "source": [
    "admin2['country'] = admin2['NAME_0']\n",
    "admin2['state'] = admin2['NAME_1']\n",
    "admin2['admin1'] = admin2['NAME_1']\n",
    "admin2['admin2'] = admin2['NAME_2']\n",
    "admin2 = admin2[['geometry','country','state','admin1','admin2']]"
   ]
  },
  {
   "cell_type": "code",
   "execution_count": 4,
   "metadata": {
    "scrolled": false
   },
   "outputs": [],
   "source": [
    "def raster2gpd(InRaster,feature_name,nodataval=-9999):\n",
    "    # open the raster and get some properties\n",
    "    ds       = gdal.OpenShared(InRaster,gdalconst.GA_ReadOnly)\n",
    "    GeoTrans = ds.GetGeoTransform()\n",
    "    ColRange = range(ds.RasterXSize)\n",
    "    RowRange = range(ds.RasterYSize)\n",
    "    rBand    = ds.GetRasterBand(1) # first band\n",
    "    nData    = rBand.GetNoDataValue()\n",
    "    if nData == None:\n",
    "        nData = nodataval # set it to something if not set\n",
    "    else:\n",
    "        print(\"NoData value is {0}\".format(nData))\n",
    "\n",
    "    # specify the center offset\n",
    "    HalfX    = GeoTrans[1] / 2\n",
    "    HalfY    = GeoTrans[5] / 2\n",
    "\n",
    "    points = []\n",
    "    for ThisRow in RowRange:\n",
    "        RowData = rBand.ReadAsArray(0,ThisRow,ds.RasterXSize,1)[0]\n",
    "        for ThisCol in ColRange:\n",
    "            if RowData[ThisCol] != nData:\n",
    "                \n",
    "                # TODO: implement filters on valid pixels\n",
    "                # for example, the below would ensure pixel values are between -100 and 100\n",
    "                #if (RowData[ThisCol] <= 100) and (RowData[ThisCol] >= -100):\n",
    "\n",
    "                X = GeoTrans[0] + ( ThisCol * GeoTrans[1] )\n",
    "                Y = GeoTrans[3] + ( ThisRow * GeoTrans[5] ) # Y is negative so it's a minus\n",
    "                # this gives the upper left of the cell, offset by half a cell to get centre\n",
    "                X += HalfX\n",
    "                Y += HalfY\n",
    "                points.append([Point(X, Y),X,Y,RowData[ThisCol],feature_name])\n",
    "\n",
    "    return gpd.GeoDataFrame(points, columns=['geometry','longitude','latitude','feature_value','feature_name'])"
   ]
  },
  {
   "cell_type": "code",
   "execution_count": 5,
   "metadata": {},
   "outputs": [],
   "source": [
    "InRaster = 'C2P2_LPJmL_yield_backcasts_2018/global_anomalies_maize_LIM_IRRIGATION_LIM_NITROGEN_pctl,95_REFLIM_IRRIGATION_REFLIM_NITROGEN.tif'\n",
    "feature_name = 'Yield'"
   ]
  },
  {
   "cell_type": "code",
   "execution_count": 6,
   "metadata": {},
   "outputs": [
    {
     "name": "stdout",
     "output_type": "stream",
     "text": [
      "NoData value is 9999.0\n"
     ]
    }
   ],
   "source": [
    "gdf = raster2gpd(InRaster,feature_name)"
   ]
  },
  {
   "cell_type": "markdown",
   "metadata": {},
   "source": [
    "Perform geospatial merge:\n",
    "\n",
    "> Note that the left join will leave in points that do not intersect GADM shapes. Upon inspection, some of these points are just off the coastline and are likely caused by the selection of the center of the pixel, given the large pixel size"
   ]
  },
  {
   "cell_type": "code",
   "execution_count": 7,
   "metadata": {
    "scrolled": true
   },
   "outputs": [
    {
     "name": "stderr",
     "output_type": "stream",
     "text": [
      "/anaconda3/envs/geo/lib/python3.7/site-packages/geopandas/tools/sjoin.py:61: UserWarning: CRS of frames being joined does not match!(None != {'init': 'epsg:4326'})\n",
      "  \"(%s != %s)\" % (left_df.crs, right_df.crs)\n"
     ]
    }
   ],
   "source": [
    "gdf = gpd.sjoin(gdf, admin2, how=\"left\", op='intersects')\n",
    "del(gdf['index_right'])"
   ]
  },
  {
   "cell_type": "code",
   "execution_count": 8,
   "metadata": {},
   "outputs": [],
   "source": [
    "gdf['datetime'] = datetime(year=2018, month=1, day=1)\n",
    "del(gdf['geometry'])"
   ]
  },
  {
   "cell_type": "code",
   "execution_count": 9,
   "metadata": {},
   "outputs": [],
   "source": [
    "gdf['run_id'] = 'test'\n",
    "gdf['model'] = 'yield_anomalies_lpjml'"
   ]
  },
  {
   "cell_type": "code",
   "execution_count": 10,
   "metadata": {},
   "outputs": [
    {
     "data": {
      "text/html": [
       "<div>\n",
       "<style scoped>\n",
       "    .dataframe tbody tr th:only-of-type {\n",
       "        vertical-align: middle;\n",
       "    }\n",
       "\n",
       "    .dataframe tbody tr th {\n",
       "        vertical-align: top;\n",
       "    }\n",
       "\n",
       "    .dataframe thead th {\n",
       "        text-align: right;\n",
       "    }\n",
       "</style>\n",
       "<table border=\"1\" class=\"dataframe\">\n",
       "  <thead>\n",
       "    <tr style=\"text-align: right;\">\n",
       "      <th></th>\n",
       "      <th>longitude</th>\n",
       "      <th>latitude</th>\n",
       "      <th>feature_value</th>\n",
       "      <th>feature_name</th>\n",
       "      <th>country</th>\n",
       "      <th>state</th>\n",
       "      <th>admin1</th>\n",
       "      <th>admin2</th>\n",
       "      <th>datetime</th>\n",
       "      <th>run_id</th>\n",
       "      <th>model</th>\n",
       "    </tr>\n",
       "  </thead>\n",
       "  <tbody>\n",
       "    <tr>\n",
       "      <th>0</th>\n",
       "      <td>42.25</td>\n",
       "      <td>63.25</td>\n",
       "      <td>-48.747810</td>\n",
       "      <td>Yield</td>\n",
       "      <td>Russia</td>\n",
       "      <td>Arkhangel'sk</td>\n",
       "      <td>Arkhangel'sk</td>\n",
       "      <td>Vinogradovskiy rayon</td>\n",
       "      <td>2018-01-01</td>\n",
       "      <td>test</td>\n",
       "      <td>yield_anomalies_lpjml</td>\n",
       "    </tr>\n",
       "    <tr>\n",
       "      <th>1</th>\n",
       "      <td>35.25</td>\n",
       "      <td>62.75</td>\n",
       "      <td>-66.384605</td>\n",
       "      <td>Yield</td>\n",
       "      <td>Russia</td>\n",
       "      <td>Karelia</td>\n",
       "      <td>Karelia</td>\n",
       "      <td>Medvezh'egorskiy rayon</td>\n",
       "      <td>2018-01-01</td>\n",
       "      <td>test</td>\n",
       "      <td>yield_anomalies_lpjml</td>\n",
       "    </tr>\n",
       "    <tr>\n",
       "      <th>2</th>\n",
       "      <td>36.75</td>\n",
       "      <td>62.75</td>\n",
       "      <td>-65.273956</td>\n",
       "      <td>Yield</td>\n",
       "      <td>Russia</td>\n",
       "      <td>Karelia</td>\n",
       "      <td>Karelia</td>\n",
       "      <td>Pudozhskiy rayon</td>\n",
       "      <td>2018-01-01</td>\n",
       "      <td>test</td>\n",
       "      <td>yield_anomalies_lpjml</td>\n",
       "    </tr>\n",
       "    <tr>\n",
       "      <th>3</th>\n",
       "      <td>37.25</td>\n",
       "      <td>62.75</td>\n",
       "      <td>-64.960899</td>\n",
       "      <td>Yield</td>\n",
       "      <td>Russia</td>\n",
       "      <td>Arkhangel'sk</td>\n",
       "      <td>Arkhangel'sk</td>\n",
       "      <td>Onezhskiy rayon</td>\n",
       "      <td>2018-01-01</td>\n",
       "      <td>test</td>\n",
       "      <td>yield_anomalies_lpjml</td>\n",
       "    </tr>\n",
       "    <tr>\n",
       "      <th>4</th>\n",
       "      <td>38.25</td>\n",
       "      <td>62.75</td>\n",
       "      <td>-60.795589</td>\n",
       "      <td>Yield</td>\n",
       "      <td>Russia</td>\n",
       "      <td>Arkhangel'sk</td>\n",
       "      <td>Arkhangel'sk</td>\n",
       "      <td>Plesetskiy rayon</td>\n",
       "      <td>2018-01-01</td>\n",
       "      <td>test</td>\n",
       "      <td>yield_anomalies_lpjml</td>\n",
       "    </tr>\n",
       "  </tbody>\n",
       "</table>\n",
       "</div>"
      ],
      "text/plain": [
       "   longitude  latitude  feature_value feature_name country         state  \\\n",
       "0      42.25     63.25     -48.747810        Yield  Russia  Arkhangel'sk   \n",
       "1      35.25     62.75     -66.384605        Yield  Russia       Karelia   \n",
       "2      36.75     62.75     -65.273956        Yield  Russia       Karelia   \n",
       "3      37.25     62.75     -64.960899        Yield  Russia  Arkhangel'sk   \n",
       "4      38.25     62.75     -60.795589        Yield  Russia  Arkhangel'sk   \n",
       "\n",
       "         admin1                  admin2   datetime run_id  \\\n",
       "0  Arkhangel'sk    Vinogradovskiy rayon 2018-01-01   test   \n",
       "1       Karelia  Medvezh'egorskiy rayon 2018-01-01   test   \n",
       "2       Karelia        Pudozhskiy rayon 2018-01-01   test   \n",
       "3  Arkhangel'sk         Onezhskiy rayon 2018-01-01   test   \n",
       "4  Arkhangel'sk        Plesetskiy rayon 2018-01-01   test   \n",
       "\n",
       "                   model  \n",
       "0  yield_anomalies_lpjml  \n",
       "1  yield_anomalies_lpjml  \n",
       "2  yield_anomalies_lpjml  \n",
       "3  yield_anomalies_lpjml  \n",
       "4  yield_anomalies_lpjml  "
      ]
     },
     "execution_count": 10,
     "metadata": {},
     "output_type": "execute_result"
    }
   ],
   "source": [
    "gdf.head()"
   ]
  },
  {
   "cell_type": "code",
   "execution_count": 11,
   "metadata": {},
   "outputs": [],
   "source": [
    "# Generate metadata for \"test\" run\n",
    "met = Metadata(run_id='test')\n",
    "met.run_label = 'Some run trial'\n",
    "met.model = 'yield_anomalies_lpjml'\n",
    "met.raw_output_link = 's3://somewhere'\n",
    "met.run_description = 'testing'\n",
    "db_session.add(met)\n",
    "db_session.commit()"
   ]
  },
  {
   "cell_type": "code",
   "execution_count": 12,
   "metadata": {},
   "outputs": [],
   "source": [
    "# perform bulk insert of entire geopandas DF\n",
    "db_session.bulk_insert_mappings(Output, gdf.to_dict(orient=\"records\"))\n",
    "db_session.commit()"
   ]
  }
 ],
 "metadata": {
  "kernelspec": {
   "display_name": "Python 3",
   "language": "python",
   "name": "python3"
  },
  "language_info": {
   "codemirror_mode": {
    "name": "ipython",
    "version": 3
   },
   "file_extension": ".py",
   "mimetype": "text/x-python",
   "name": "python",
   "nbconvert_exporter": "python",
   "pygments_lexer": "ipython3",
   "version": "3.7.3"
  }
 },
 "nbformat": 4,
 "nbformat_minor": 2
}
