{
 "cells": [
  {
   "cell_type": "code",
   "execution_count": 1,
   "metadata": {},
   "outputs": [],
   "source": [
    "import rasterio\n",
    "from rasterio.merge import merge\n",
    "from rasterio.plot import show\n",
    "import glob\n",
    "import os"
   ]
  },
  {
   "cell_type": "code",
   "execution_count": 2,
   "metadata": {},
   "outputs": [
    {
     "name": "stdout",
     "output_type": "stream",
     "text": [
      "binary-cropland-120m/atlas*.tif proba-cropland-120m/atlas*.tif\n"
     ]
    }
   ],
   "source": [
    "# File and folder paths\n",
    "binary_dirpath = \"binary-cropland-120m\"\n",
    "prob_dirpath = \"proba-cropland-120m\"\n",
    "\n",
    "out_binary = \"atlasai_croplandhistory_binary_2009_2019_120m.tif\"\n",
    "out_prob = \"atlasai_croplandhistory_proba_2009_2019_120m.tif\"\n",
    "\n",
    "# Make a search criteria to select the DEM files\n",
    "search_criteria = \"atlas*.tif\"\n",
    "\n",
    "b_q = os.path.join(binary_dirpath, search_criteria)\n",
    "p_q = os.path.join(prob_dirpath, search_criteria)\n",
    "\n",
    "print(b_q, p_q)"
   ]
  },
  {
   "cell_type": "code",
   "execution_count": 3,
   "metadata": {},
   "outputs": [],
   "source": [
    "binary_files = glob.glob(b_q)\n",
    "prob_files = glob.glob(p_q)"
   ]
  },
  {
   "cell_type": "code",
   "execution_count": 5,
   "metadata": {},
   "outputs": [],
   "source": [
    "bin_files_to_mosaic = []\n",
    "prob_files_to_mosaic = []\n",
    "\n",
    "for fp in binary_files:\n",
    "    bin_src = rasterio.open(fp)\n",
    "    bin_files_to_mosaic.append(bin_src)"
   ]
  },
  {
   "cell_type": "code",
   "execution_count": 6,
   "metadata": {},
   "outputs": [],
   "source": [
    "for fp in prob_files:\n",
    "    prob_src = rasterio.open(fp)\n",
    "    prob_files_to_mosaic.append(prob_src)    "
   ]
  },
  {
   "cell_type": "code",
   "execution_count": 7,
   "metadata": {
    "scrolled": false
   },
   "outputs": [
    {
     "name": "stdout",
     "output_type": "stream",
     "text": [
      "CPU times: user 38.7 s, sys: 7.15 s, total: 45.9 s\n",
      "Wall time: 37.2 s\n"
     ]
    }
   ],
   "source": [
    "%time prob_mosaic, prob_out_trans = merge(prob_files_to_mosaic)"
   ]
  },
  {
   "cell_type": "code",
   "execution_count": 8,
   "metadata": {
    "scrolled": false
   },
   "outputs": [
    {
     "name": "stdout",
     "output_type": "stream",
     "text": [
      "CPU times: user 49.4 s, sys: 11.7 s, total: 1min 1s\n",
      "Wall time: 51.7 s\n"
     ]
    }
   ],
   "source": [
    "%time bin_mosaic, bin_out_trans = merge(bin_files_to_mosaic)"
   ]
  },
  {
   "cell_type": "code",
   "execution_count": 11,
   "metadata": {},
   "outputs": [],
   "source": [
    "prob_out_meta = prob_src.meta.copy()\n",
    "\n",
    "prob_out_meta.update({\"driver\": \"GTiff\",\n",
    "                \"height\": prob_mosaic.shape[1],\n",
    "                \"width\": prob_mosaic.shape[2],\n",
    "                \"transform\": prob_out_trans,\n",
    "                \"nodata\": 0\n",
    "                })\n",
    "\n",
    "bin_out_meta = bin_src.meta.copy()\n",
    "\n",
    "bin_out_meta.update({\"driver\": \"GTiff\",\n",
    "                \"height\": bin_mosaic.shape[1],\n",
    "                \"width\": bin_mosaic.shape[2],\n",
    "                \"transform\": bin_out_trans,\n",
    "                \"nodata\": 0\n",
    "                })"
   ]
  },
  {
   "cell_type": "code",
   "execution_count": 15,
   "metadata": {},
   "outputs": [],
   "source": [
    "with rasterio.open(out_prob, \"w\", **prob_out_meta) as dest:\n",
    "    dest.write(prob_mosaic)"
   ]
  },
  {
   "cell_type": "code",
   "execution_count": 16,
   "metadata": {},
   "outputs": [],
   "source": [
    "with rasterio.open(out_binary, \"w\", **bin_out_meta) as dest:\n",
    "    dest.write(bin_mosaic)"
   ]
  },
  {
   "cell_type": "code",
   "execution_count": null,
   "metadata": {},
   "outputs": [],
   "source": []
  }
 ],
 "metadata": {
  "kernelspec": {
   "display_name": "Python 3",
   "language": "python",
   "name": "python3"
  },
  "language_info": {
   "codemirror_mode": {
    "name": "ipython",
    "version": 3
   },
   "file_extension": ".py",
   "mimetype": "text/x-python",
   "name": "python",
   "nbconvert_exporter": "python",
   "pygments_lexer": "ipython3",
   "version": "3.7.5"
  }
 },
 "nbformat": 4,
 "nbformat_minor": 2
}
